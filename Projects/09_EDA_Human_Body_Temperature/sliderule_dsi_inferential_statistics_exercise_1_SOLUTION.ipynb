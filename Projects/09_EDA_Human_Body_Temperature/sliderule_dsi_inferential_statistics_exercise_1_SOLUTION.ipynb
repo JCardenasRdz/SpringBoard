{
 "cells": [
  {
   "cell_type": "markdown",
   "metadata": {},
   "source": [
    "# What is the True Normal Human Body Temperature? \n",
    "\n",
    "#### Background\n",
    "\n",
    "The mean normal body temperature was held to be 37$^{\\circ}$C or 98.6$^{\\circ}$F for more than 120 years since it was first conceptualized and reported by Carl Wunderlich in a famous 1868 book. But, is this value statistically correct?"
   ]
  },
  {
   "cell_type": "markdown",
   "metadata": {},
   "source": [
    "<div class=\"span5 alert alert-info\">\n",
    "<h3>Exercises</h3>\n",
    "\n",
    "<p>In this exercise, you will analyze a dataset of human body temperatures and employ the concepts of hypothesis testing, confidence intervals, and statistical significance.</p>\n",
    "\n",
    "<p>Answer the following questions <b>in this notebook below and submit to your Github account</b>.</p> \n",
    "\n",
    "<ol>\n",
    "<li>  Is the distribution of body temperatures normal? \n",
    "    <ul>\n",
    "    <li> Although this is not a requirement for CLT to hold (read CLT carefully), it gives us some peace of mind that the population may also be normally distributed if we assume that this sample is representative of the population.\n",
    "    </ul>\n",
    "<li>  Is the sample size large? Are the observations independent?\n",
    "    <ul>\n",
    "    <li> Remember that this is a condition for the CLT, and hence the statistical tests we are using, to apply.\n",
    "    </ul>\n",
    "<li>  Is the true population mean really 98.6 degrees F?\n",
    "    <ul>\n",
    "    <li> Would you use a one-sample or two-sample test? Why?\n",
    "    <li> In this situation, is it appropriate to use the $t$ or $z$ statistic? \n",
    "    <li> Now try using the other test. How is the result be different? Why?\n",
    "    </ul>\n",
    "<li>  At what temperature should we consider someone's temperature to be \"abnormal\"?\n",
    "    <ul>\n",
    "    <li> Start by computing the margin of error and confidence interval.\n",
    "    </ul>\n",
    "<li>  Is there a significant difference between males and females in normal temperature?\n",
    "    <ul>\n",
    "    <li> What test did you use and why?\n",
    "    <li> Write a story with your conclusion in the context of the original problem.\n",
    "    </ul>\n",
    "</ol>\n",
    "\n",
    "You can include written notes in notebook cells using Markdown: \n",
    "   - In the control panel at the top, choose Cell > Cell Type > Markdown\n",
    "   - Markdown syntax: http://nestacms.com/docs/creating-content/markdown-cheat-sheet\n",
    "\n",
    "#### Resources\n",
    "\n",
    "+ Information and data sources: http://www.amstat.org/publications/jse/datasets/normtemp.txt, http://www.amstat.org/publications/jse/jse_data_archive.htm\n",
    "+ Markdown syntax: http://nestacms.com/docs/creating-content/markdown-cheat-sheet\n",
    "\n",
    "****"
   ]
  },
  {
   "cell_type": "code",
   "execution_count": 68,
   "metadata": {
    "collapsed": false
   },
   "outputs": [],
   "source": [
    "# modules\n",
    "import pandas as pd\n",
    "%matplotlib inline  \n",
    "import seaborn as sns\n",
    "import numpy as np\n",
    "import matplotlib.pyplot as plt\n",
    "# my modules\n",
    "%run Human_Body_Temp.py"
   ]
  },
  {
   "cell_type": "code",
   "execution_count": 69,
   "metadata": {
    "collapsed": true
   },
   "outputs": [],
   "source": [
    "# load\n",
    "df = pd.read_csv('data/human_body_temperature.csv')\n",
    "# change units\n",
    "f = lambda F: (F - 32) * (5/9)\n",
    "df['temperature'] = df.temperature.apply(f)\n",
    "x = df.temperature.values"
   ]
  },
  {
   "cell_type": "markdown",
   "metadata": {
    "collapsed": false
   },
   "source": [
    "## 1. Is the distribution of body temperatures normal?\n",
    "### - I ran two different tests using Scipy and they have contradictory results. "
   ]
  },
  {
   "cell_type": "code",
   "execution_count": 70,
   "metadata": {
    "collapsed": false
   },
   "outputs": [
    {
     "name": "stdout",
     "output_type": "stream",
     "text": [
      "The Kolmogorov-Smirnov test indicates that the data IS normally distirbuted\n",
      "================================================================================\n",
      "The D’Agostino and Pearson’s indicates that the data is NOT normally distirbuted\n"
     ]
    }
   ],
   "source": [
    "# norm_tests\n",
    "# change temp to celsius\n",
    "# assign variable\n",
    "x = df.temperature.values;\n",
    "norm_tests(x); # original data"
   ]
  },
  {
   "cell_type": "code",
   "execution_count": 71,
   "metadata": {
    "collapsed": false
   },
   "outputs": [
    {
     "name": "stdout",
     "output_type": "stream",
     "text": [
      "The Kolmogorov-Smirnov test indicates that the data IS normally distirbuted\n",
      "================================================================================\n",
      "The D’Agostino and Pearson’s indicates that the data is NOT normally distirbuted\n"
     ]
    }
   ],
   "source": [
    "x = df.temperature.values; norm_tests(np.log(x)); # log of data"
   ]
  },
  {
   "cell_type": "code",
   "execution_count": 72,
   "metadata": {
    "collapsed": false
   },
   "outputs": [
    {
     "name": "stderr",
     "output_type": "stream",
     "text": [
      "/Users/Julio/anaconda/lib/python3.5/site-packages/statsmodels/nonparametric/kdetools.py:20: VisibleDeprecationWarning: using a non-integer number instead of an integer will result in an error in the future\n",
      "  y = X[:m/2+1] + np.r_[0,X[m/2+1:],0]*1j\n"
     ]
    },
    {
     "data": {
      "image/png": "[encoded data removed]",
      "text/plain": [
       "<matplotlib.figure.Figure at 0x117a46198>"
      ]
     },
     "metadata": {},
     "output_type": "display_data"
    }
   ],
   "source": [
    "sns.distplot(x);"
   ]
  },
  {
   "cell_type": "markdown",
   "metadata": {},
   "source": [
    "## Check if the two maximums are due to gender\n",
    "### Female"
   ]
  },
  {
   "cell_type": "code",
   "execution_count": 73,
   "metadata": {
    "collapsed": true
   },
   "outputs": [],
   "source": [
    "females, males = by_gender(df)"
   ]
  },
  {
   "cell_type": "code",
   "execution_count": 74,
   "metadata": {
    "collapsed": false
   },
   "outputs": [
    {
     "name": "stdout",
     "output_type": "stream",
     "text": [
      "FEMALE subjects\n",
      "----------------------------------------\n",
      "The Kolmogorov-Smirnov test indicates that the data IS normally distirbuted\n",
      "================================================================================\n",
      "The D’Agostino and Pearson’s indicates that the data is NOT normally distirbuted\n",
      "                    \n",
      "MALE subjects\n",
      "                    \n",
      "The Kolmogorov-Smirnov test indicates that the data IS normally distirbuted\n",
      "================================================================================\n",
      "The D’Agostino and Pearson’s indicates that the data is NOT normally distirbuted\n"
     ]
    },
    {
     "data": {
      "image/png": "[encoded data removed]",
      "text/plain": [
       "<matplotlib.figure.Figure at 0x117a46f28>"
      ]
     },
     "metadata": {},
     "output_type": "display_data"
    }
   ],
   "source": [
    "check_gender_effect(females,males)"
   ]
  },
  {
   "cell_type": "markdown",
   "metadata": {},
   "source": [
    "## 2. Is the sample size large? Are the observations independent?\n",
    "### I don't have enough information to know if the samples are indepedent, but I could assume they are (for now). On the other hand, the total number of samples (130) might not be sufficient to detect a small effect of gender on the body temperature."
   ]
  },
  {
   "cell_type": "markdown",
   "metadata": {},
   "source": [
    "## 3. Is the true population mean really 98.6 degrees F (37 celsius)? NO\n",
    "- Would you use a one-sample or two-sample test? Why?\n",
    "- In this situation, is it appropriate to use the tt or zz statistic?\n",
    "- Now try using the other test. How is the result be different? Why? "
   ]
  },
  {
   "cell_type": "code",
   "execution_count": 75,
   "metadata": {
    "collapsed": false
   },
   "outputs": [
    {
     "name": "stdout",
     "output_type": "stream",
     "text": [
      "The p-value for the t-statistic is: 2.41063204156e-07\n",
      "We can reject the null hypothesis; The mean IS different than 37.0\n"
     ]
    }
   ],
   "source": [
    "# t-statistic\n",
    "one_sample_test(x,37.0)"
   ]
  },
  {
   "cell_type": "markdown",
   "metadata": {},
   "source": [
    "### - We need to use a two sided test becuase we are interested in being different than 37.0 celsius, not just being lower or higher (we can use one-sided tests for that)\n",
    "### - In general, the t-test used with samples of size less than 30 and Has a sample size below 30, and unknown population standard deviation. The z-score is also normalized, thus we can create a distribution with mean of zero and test that as our null\n"
   ]
  },
  {
   "cell_type": "markdown",
   "metadata": {},
   "source": [
    "## Does gender has an effect?\n",
    "## No, their median are still different than 37.0 C."
   ]
  },
  {
   "cell_type": "code",
   "execution_count": 76,
   "metadata": {
    "collapsed": false
   },
   "outputs": [
    {
     "name": "stdout",
     "output_type": "stream",
     "text": [
      "The p-value for the t-statistic is: 0.0288804507897\n",
      "We can reject the null hypothesis; The mean IS different than 37.0\n"
     ]
    }
   ],
   "source": [
    "one_sample_test(females,37.0)"
   ]
  },
  {
   "cell_type": "code",
   "execution_count": 77,
   "metadata": {
    "collapsed": false
   },
   "outputs": [
    {
     "name": "stdout",
     "output_type": "stream",
     "text": [
      "The p-value for the t-statistic is: 3.08384031732e-07\n",
      "We can reject the null hypothesis; The mean IS different than 37.0\n"
     ]
    }
   ],
   "source": [
    "one_sample_test(males,37.0)"
   ]
  },
  {
   "cell_type": "markdown",
   "metadata": {},
   "source": [
    "## 4. At what temperature should we consider someone's temperature to be \"abnormal\"?"
   ]
  },
  {
   "cell_type": "code",
   "execution_count": 78,
   "metadata": {
    "collapsed": false
   },
   "outputs": [
    {
     "name": "stdout",
     "output_type": "stream",
     "text": [
      "The lower limit at the 95% conf. level is 36.7353776691\n",
      "The upper limit at the 95% conf. level is 36.8748787411\n",
      "--------------------\n"
     ]
    },
    {
     "data": {
      "text/plain": [
       "(36.73537766912677, 36.874878741129642)"
      ]
     },
     "execution_count": 78,
     "metadata": {},
     "output_type": "execute_result"
    }
   ],
   "source": [
    "# All\n",
    "expected_rante(x)"
   ]
  },
  {
   "cell_type": "code",
   "execution_count": 79,
   "metadata": {
    "collapsed": false
   },
   "outputs": [
    {
     "name": "stdout",
     "output_type": "stream",
     "text": [
      "The lower limit at the 95% conf. level is 36.6311411081\n",
      "The upper limit at the 95% conf. level is 36.8184315415\n",
      "--------------------\n"
     ]
    },
    {
     "data": {
      "text/plain": [
       "(36.631141108091619, 36.81843154148104)"
      ]
     },
     "execution_count": 79,
     "metadata": {},
     "output_type": "execute_result"
    }
   ],
   "source": [
    "# males\n",
    "expected_rante(males)"
   ]
  },
  {
   "cell_type": "code",
   "execution_count": 80,
   "metadata": {
    "collapsed": false
   },
   "outputs": [
    {
     "name": "stdout",
     "output_type": "stream",
     "text": [
      "The lower limit at the 95% conf. level is 36.7858300174\n",
      "The upper limit at the 95% conf. level is 36.9851101535\n",
      "--------------------\n"
     ]
    },
    {
     "data": {
      "text/plain": [
       "(36.78583001741174, 36.985110153528453)"
      ]
     },
     "execution_count": 80,
     "metadata": {},
     "output_type": "execute_result"
    }
   ],
   "source": [
    "# All\n",
    "expected_rante(females)"
   ]
  },
  {
   "cell_type": "markdown",
   "metadata": {},
   "source": [
    "## 5. Is the mean temperature the same for men and women?"
   ]
  },
  {
   "cell_type": "code",
   "execution_count": 81,
   "metadata": {
    "collapsed": false
   },
   "outputs": [
    {
     "name": "stdout",
     "output_type": "stream",
     "text": [
      "The p-value for the t-statistic is: 0.0239382641829\n",
      "We can reject the null hypothesis; The means ARE different\n"
     ]
    }
   ],
   "source": [
    "men_vs_women(males,females)"
   ]
  },
  {
   "cell_type": "markdown",
   "metadata": {},
   "source": [
    "## My theory \n",
    "## Women have a slighlty higher temperature"
   ]
  },
  {
   "cell_type": "markdown",
   "metadata": {},
   "source": [
    "**Note:**\n",
    "We could do the same analysis using non-parametric methodsm, but that is beyond the scope of this excercise\n"
   ]
  }
 ],
 "metadata": {
  "anaconda-cloud": {},
  "kernelspec": {
   "display_name": "Python [conda root]",
   "language": "python",
   "name": "conda-root-py"
  },
  "language_info": {
   "codemirror_mode": {
    "name": "ipython",
    "version": 3
   },
   "file_extension": ".py",
   "mimetype": "text/x-python",
   "name": "python",
   "nbconvert_exporter": "python",
   "pygments_lexer": "ipython3",
   "version": "3.5.2"
  }
 },
 "nbformat": 4,
 "nbformat_minor": 0
}
