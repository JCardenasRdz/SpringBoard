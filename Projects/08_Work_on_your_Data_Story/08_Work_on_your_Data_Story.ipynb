{
 "cells": [
  {
   "cell_type": "markdown",
   "metadata": {},
   "source": [
    "<h1><center>Contributions to presidential campaings in the state of Arizona in 2016</center></h1>"
   ]
  },
  {
   "cell_type": "markdown",
   "metadata": {},
   "source": [
    "### Author: Julio Cárdenas-Rodríguez  \n",
    "#### Contact: jdatascientist@gmail.com\n",
    "### Source: [ftp://ftp.fec.gov/FEC/Presidential_Map/2016/P00000001/P00000001-AZ.zip](ftp://ftp.fec.gov/FEC/Presidential_Map/2016/P00000001/P00000001-AZ.zip)\n",
    "### Description: "
   ]
  },
  {
   "cell_type": "markdown",
   "metadata": {},
   "source": [
    "### 0. Load data and modules"
   ]
  },
  {
   "cell_type": "code",
   "execution_count": null,
   "metadata": {
    "collapsed": false
   },
   "outputs": [],
   "source": [
    "#modules\n",
    "import pandas as pd\n",
    "import seaborn as sns; sns.set_style(\"whitegrid\")\n",
    "import matplotlib.pyplot as plt\n",
    "import numpy as np\n",
    "%matplotlib inline \n",
    "#data\n",
    "file='P00000001-AZ.csv'; AZ_df=pd.read_csv(file,index_col=False)\n",
    "# drop columns we won't need\n",
    "AZ_df=AZ_df.drop(['cand_id','contbr_st','cand_id','receipt_desc',\n",
    "            'receipt_desc','memo_text','form_tp','file_num','tran_id','memo_cd'],axis=1)\n",
    "\n",
    "AZ_df.head(2)"
   ]
  },
  {
   "cell_type": "markdown",
   "metadata": {},
   "source": [
    "### 1. Perform Sanity checks"
   ]
  },
  {
   "cell_type": "code",
   "execution_count": null,
   "metadata": {
    "collapsed": false
   },
   "outputs": [],
   "source": [
    "# Do I have any negative or zero contributions?\n",
    "\n",
    "bol=AZ_df.contb_receipt_amt<0\n",
    "plt.figure(); AZ_df[bol].contb_receipt_amt.plot(); plt.title('Negative')\n",
    "\n",
    "\n",
    "bol=AZ_df.contb_receipt_amt==0\n",
    "plt.figure()\n",
    "AZ_df[bol].contb_receipt_amt.plot(); plt.title('Zero')\n",
    "\n",
    "bol=AZ_df.contb_receipt_amt>0\n",
    "plt.figure(); AZ_df[bol].contb_receipt_amt.plot();  plt.title('Positive')\n",
    "\n",
    "# Remove all zero and negative data points\n",
    "\n",
    "AZ_df=AZ_df[bol];"
   ]
  },
  {
   "cell_type": "markdown",
   "metadata": {},
   "source": [
    "### 1. Extact information for Clinton and Trump"
   ]
  },
  {
   "cell_type": "code",
   "execution_count": null,
   "metadata": {
    "collapsed": false
   },
   "outputs": [],
   "source": [
    "names=AZ_df.cand_nm\n",
    "names_bol=(names=='Trump, Donald J.') | (names=='Clinton, Hillary Rodham')\n",
    "AZ_df=AZ_df[names_bol]"
   ]
  },
  {
   "cell_type": "markdown",
   "metadata": {},
   "source": [
    "### 2. How many contributions did each candidate collect?"
   ]
  },
  {
   "cell_type": "code",
   "execution_count": null,
   "metadata": {
    "collapsed": false
   },
   "outputs": [],
   "source": [
    "sns.countplot(y=\"cand_nm\",data=AZ_df);\n",
    "plt.title(\"Total number of contributions collected by each candidate\");\n",
    "plt.xlabel(\"Total number of contributions\");"
   ]
  },
  {
   "cell_type": "markdown",
   "metadata": {},
   "source": [
    "### 2.What was the average contribution for each candidate ?"
   ]
  },
  {
   "cell_type": "code",
   "execution_count": null,
   "metadata": {
    "collapsed": false
   },
   "outputs": [],
   "source": [
    "sns.barplot(y=\"cand_nm\", x=\"contb_receipt_amt\", data=AZ_df,estimator=np.mean)\n",
    "plt.title(\"Average contributions collected by each candidate\");\n",
    "plt.xlabel(\"Dollars\");"
   ]
  },
  {
   "cell_type": "markdown",
   "metadata": {},
   "source": [
    "### 3. What was the amount in dollas received by each candidate ?"
   ]
  },
  {
   "cell_type": "code",
   "execution_count": null,
   "metadata": {
    "collapsed": false
   },
   "outputs": [],
   "source": [
    "sns.barplot(y=\"cand_nm\", x=\"contb_receipt_amt\", data=AZ_df,estimator=np.sum)\n",
    "plt.title(\"Average contributions collected by each candidate\");\n",
    "plt.xlabel(\"Dollars\");"
   ]
  },
  {
   "cell_type": "markdown",
   "metadata": {},
   "source": [
    "### 4. How much retired people contributed to each campaing?"
   ]
  },
  {
   "cell_type": "code",
   "execution_count": null,
   "metadata": {
    "collapsed": false
   },
   "outputs": [],
   "source": [
    "retired_bol=AZ_df.contbr_occupation=='RETIRED';\n",
    "Info_req_bol=AZ_df.contbr_occupation=='INFORMATION REQUESTED';\n",
    "other_bol= (AZ_df.contbr_occupation!='RETIRED') | (AZ_df.contbr_occupation!='INFORMATION REQUESTED');\n",
    "AZ_df['Occupation']='Other';\n",
    "AZ_df.Occupation[Info_req_bol]='Requested';\n",
    "AZ_df.Occupation[retired_bol]='Retired';\n",
    "sns.barplot(hue=\"Occupation\", y=\"contb_receipt_amt\",x='cand_nm',data=AZ_df,estimator=np.mean)"
   ]
  },
  {
   "cell_type": "code",
   "execution_count": null,
   "metadata": {
    "collapsed": false
   },
   "outputs": [],
   "source": [
    "AZ_df['Date']=pd.to_datetime(AZ_df.contb_receipt_dt);\n",
    "df=AZ_df[['cand_nm','contb_receipt_amt','Date']];\n",
    "df.head(2)"
   ]
  },
  {
   "cell_type": "code",
   "execution_count": null,
   "metadata": {
    "collapsed": true
   },
   "outputs": [],
   "source": [
    "df[df.cand_nm=='Trump, Donald J.']"
   ]
  },
  {
   "cell_type": "code",
   "execution_count": null,
   "metadata": {
    "collapsed": false
   },
   "outputs": [],
   "source": [
    "type(df.cumsum())"
   ]
  },
  {
   "cell_type": "code",
   "execution_count": null,
   "metadata": {
    "collapsed": false
   },
   "outputs": [],
   "source": [
    "from ggplot import *\n",
    "ggplot(aes(x='Date', y='contb_receipt_amt'), data=df) + geom_line()"
   ]
  },
  {
   "cell_type": "code",
   "execution_count": null,
   "metadata": {
    "collapsed": false
   },
   "outputs": [],
   "source": [
    "df[df['cand_nm']=='Trump, Donald J.']"
   ]
  },
  {
   "cell_type": "code",
   "execution_count": null,
   "metadata": {
    "collapsed": false
   },
   "outputs": [],
   "source": [
    "gammas = sns.load_dataset(\"gammas\")\n",
    "ax = sns.tsplot(time=\"timepoint\", value=\"BOLD signal\",\n",
    "                unit=\"subject\", condition=\"ROI\",\n",
    "               data=gammas)"
   ]
  },
  {
   "cell_type": "markdown",
   "metadata": {},
   "source": [
    "### 0. Load data and modules"
   ]
  },
  {
   "cell_type": "code",
   "execution_count": null,
   "metadata": {
    "collapsed": false
   },
   "outputs": [],
   "source": [
    "gammas.head(1)"
   ]
  },
  {
   "cell_type": "code",
   "execution_count": null,
   "metadata": {
    "collapsed": true
   },
   "outputs": [],
   "source": []
  },
  {
   "cell_type": "markdown",
   "metadata": {},
   "source": [
    "### 0. Load data and modules"
   ]
  },
  {
   "cell_type": "code",
   "execution_count": null,
   "metadata": {
    "collapsed": true
   },
   "outputs": [],
   "source": []
  },
  {
   "cell_type": "code",
   "execution_count": null,
   "metadata": {
    "collapsed": true
   },
   "outputs": [],
   "source": []
  },
  {
   "cell_type": "markdown",
   "metadata": {},
   "source": [
    "### 0. Load data and modules"
   ]
  },
  {
   "cell_type": "code",
   "execution_count": null,
   "metadata": {
    "collapsed": true
   },
   "outputs": [],
   "source": []
  },
  {
   "cell_type": "code",
   "execution_count": null,
   "metadata": {
    "collapsed": true
   },
   "outputs": [],
   "source": []
  },
  {
   "cell_type": "markdown",
   "metadata": {},
   "source": [
    "### 0. Load data and modules"
   ]
  },
  {
   "cell_type": "markdown",
   "metadata": {},
   "source": [
    "### 0. Load data and modules"
   ]
  },
  {
   "cell_type": "markdown",
   "metadata": {},
   "source": [
    "### 0. Load data and modules"
   ]
  },
  {
   "cell_type": "code",
   "execution_count": null,
   "metadata": {
    "collapsed": false
   },
   "outputs": [],
   "source": [
    "from ggplot import *\n",
    "\n",
    "ggplot(aes(x='date', y='beef'), data=meat) + geom_line()\n",
    "    "
   ]
  },
  {
   "cell_type": "code",
   "execution_count": null,
   "metadata": {
    "collapsed": false
   },
   "outputs": [],
   "source": [
    "meat.head()"
   ]
  },
  {
   "cell_type": "code",
   "execution_count": null,
   "metadata": {
    "collapsed": true
   },
   "outputs": [],
   "source": []
  },
  {
   "cell_type": "code",
   "execution_count": null,
   "metadata": {
    "collapsed": true
   },
   "outputs": [],
   "source": []
  },
  {
   "cell_type": "markdown",
   "metadata": {},
   "source": [
    "Pick a dataset - ideally the dataset for your Capstone. If for some reason you want to do this on a different data set, you can find one on Mode Analytics or Google's public data sets directory, or pick another one you like from elsewhere.\n",
    "\n",
    "        Get going by asking the following questions and looking for the answers with some code and plots:\n",
    "\n",
    "            Can you count something interesting?\n",
    "\n",
    "            Can you find some trends (high, low, increase, decrease, anomalies)?\n",
    "\n",
    "            Can you make a bar plot or a histogram?\n",
    "\n",
    "            Can you compare two related quantities?\n",
    "\n",
    "            Can you make a scatterplot?\n",
    "\n",
    "            Can you make a time-series plot?\n",
    "\n",
    "        Having made these plots, what are some insights you get from them? Do you see any correlations? Is there a hypothesis you would like to investigate further? What other questions do they lead you to ask?\n",
    "\n",
    "        By now you’ve asked a bunch of questions, and found some neat insights. Is there an interesting narrative, a way of presenting the insights using text and plots from the above, that tells a compelling story? As you work out this story, what are some other trends/relationships you think will make it more complete?\n",
    "\n",
    "Submission Requirements: Submit links to a Github repository containing a Jupyter notebook. The notebook should contain:\n",
    "\n",
    "    The questions you asked\n",
    "    The trends you investigated\n",
    "    The resulting visualizations and conclusions.\n"
   ]
  }
 ],
 "metadata": {
  "anaconda-cloud": {},
  "kernelspec": {
   "display_name": "Python [conda root]",
   "language": "python",
   "name": "conda-root-py"
  },
  "language_info": {
   "codemirror_mode": {
    "name": "ipython",
    "version": 3
   },
   "file_extension": ".py",
   "mimetype": "text/x-python",
   "name": "python",
   "nbconvert_exporter": "python",
   "pygments_lexer": "ipython3",
   "version": "3.5.2"
  }
 },
 "nbformat": 4,
 "nbformat_minor": 2
}
