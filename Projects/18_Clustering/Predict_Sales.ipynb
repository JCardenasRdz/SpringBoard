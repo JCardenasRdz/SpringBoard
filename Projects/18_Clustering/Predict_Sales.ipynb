{
 "cells": [
  {
   "cell_type": "markdown",
   "metadata": {},
   "source": [
    "# Which are the most import features of the offers "
   ]
  },
  {
   "cell_type": "code",
   "execution_count": 1,
   "metadata": {
    "collapsed": true
   },
   "outputs": [],
   "source": [
    "%run Predict_Sales.py"
   ]
  },
  {
   "cell_type": "code",
   "execution_count": 2,
   "metadata": {
    "collapsed": false
   },
   "outputs": [
    {
     "name": "stdout",
     "output_type": "stream",
     "text": [
      "                            OLS Regression Results                            \n",
      "==============================================================================\n",
      "Dep. Variable:            Total_Sales   R-squared:                       0.803\n",
      "Model:                            OLS   Adj. R-squared:                  0.766\n",
      "Method:                 Least Squares   F-statistic:                     22.00\n",
      "Date:                Thu, 09 Mar 2017   Prob (F-statistic):           9.42e-09\n",
      "Time:                        21:36:16   Log-Likelihood:                -97.489\n",
      "No. Observations:                  32   AIC:                             205.0\n",
      "Df Residuals:                      27   BIC:                             212.3\n",
      "Df Model:                           5                                         \n",
      "Covariance Type:            nonrobust                                         \n",
      "==============================================================================\n",
      "                 coef    std err          t      P>|t|      [95.0% Conf. Int.]\n",
      "------------------------------------------------------------------------------\n",
      "campaign      -0.3029      0.334     -0.906      0.373        -0.989     0.383\n",
      "varietal       0.8922      0.358      2.495      0.019         0.158     1.626\n",
      "min_qty       -0.0229      0.019     -1.190      0.244        -0.062     0.017\n",
      "discount       0.1132      0.035      3.215      0.003         0.041     0.186\n",
      "origin         0.9675      0.423      2.289      0.030         0.100     1.835\n",
      "==============================================================================\n",
      "Omnibus:                        2.026   Durbin-Watson:                   1.945\n",
      "Prob(Omnibus):                  0.363   Jarque-Bera (JB):                1.851\n",
      "Skew:                           0.537   Prob(JB):                        0.396\n",
      "Kurtosis:                       2.514   Cond. No.                         50.7\n",
      "==============================================================================\n",
      "\n",
      "Warnings:\n",
      "[1] Standard Errors assume that the covariance matrix of the errors is correctly specified.\n"
     ]
    }
   ],
   "source": [
    "y = df.Total_Sales\n",
    "X = df.iloc[:,0:5]\n",
    "\n",
    "# Perform regression without an intercep\n",
    "import statsmodels.api as sm\n",
    "est = sm.OLS(y, X).fit()\n",
    "print(est.summary())"
   ]
  },
  {
   "cell_type": "markdown",
   "metadata": {},
   "source": [
    "# These results indicate that ``varietal``, ``discount``, and ``origin`` are the most import predictors of total sales.   "
   ]
  },
  {
   "cell_type": "code",
   "execution_count": null,
   "metadata": {
    "collapsed": true
   },
   "outputs": [],
   "source": []
  }
 ],
 "metadata": {
  "anaconda-cloud": {},
  "kernelspec": {
   "display_name": "Python [conda root]",
   "language": "python",
   "name": "conda-root-py"
  },
  "language_info": {
   "codemirror_mode": {
    "name": "ipython",
    "version": 3
   },
   "file_extension": ".py",
   "mimetype": "text/x-python",
   "name": "python",
   "nbconvert_exporter": "python",
   "pygments_lexer": "ipython3",
   "version": "3.5.2"
  }
 },
 "nbformat": 4,
 "nbformat_minor": 2
}
