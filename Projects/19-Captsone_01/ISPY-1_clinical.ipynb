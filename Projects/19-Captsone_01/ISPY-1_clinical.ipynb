{
 "cells": [
  {
   "cell_type": "code",
   "execution_count": 128,
   "metadata": {
    "collapsed": false
   },
   "outputs": [],
   "source": [
    "import pandas as pd\n",
    "file = 'I-SPY_1_All_Patient_Clinical_and_Outcome_Data.xlsx'\n",
    "\n",
    "# load and set index\n",
    "ISPY = pd.read_excel(file, sheetname='predictors')\n",
    "ISPY = ISPY.set_index('SUBJECTID')\n",
    "\n",
    "# drop Columns I don't need\n",
    "ISPY.drop(['DataExtractDt','Her2MostPos','HR_HER2_CATEGORY','HR_HER2_STATUS'], axis=1,inplace=True)\n",
    "\n",
    "#encode race and drop initial variable\n",
    "ISPY = ISPY.join(pd.get_dummies(ISPY['race_id'], prefix=['Race']))\n",
    "ISPY.drop(['race_id'], axis=1,inplace=True)\n",
    "\n",
    "# load and set index of predictors\n",
    "outcomes_df = pd.read_excel(file, sheetname='outcomes')\n",
    "outcomes_df = outcomes_df.set_index('SUBJECTID')\n",
    "\n",
    "#merge PCR and predictors using the Subject ID index\n",
    "df = ISPY.join(outcomes_df['PCR'])\n",
    "# drop NaN\n",
    "df.dropna(inplace=True)"
   ]
  },
  {
   "cell_type": "code",
   "execution_count": 129,
   "metadata": {
    "collapsed": false
   },
   "outputs": [
    {
     "data": {
      "text/plain": [
       "array([ 0.,  0.,  0.,  0.,  0.,  0.,  0.,  1.,  1.,  0.,  0.,  1.,  0.,\n",
       "        0.,  0.,  1.,  0.,  1.,  0.,  0.,  1.,  0.,  0.,  0.,  0.,  0.,\n",
       "        0.,  1.,  0.,  0.,  0.,  1.,  0.,  0.,  0.,  0.,  0.,  0.,  0.,\n",
       "        0.,  1.,  0.,  0.,  0.,  0.,  0.,  0.,  0.,  1.,  0.,  1.,  0.,\n",
       "        1.,  1.,  1.,  0.,  0.,  0.,  0.,  0.,  1.,  0.,  1.,  0.,  0.,\n",
       "        0.,  0.,  0.,  1.,  1.,  0.,  0.,  0.,  1.,  0.,  0.,  0.,  0.,\n",
       "        0.,  1.,  0.,  0.,  1.,  0.,  0.,  1.,  1.,  0.,  0.,  0.,  1.,\n",
       "        0.,  0.,  1.,  1.,  0.,  0.,  0.,  0.,  0.,  1.,  1.,  0.,  0.,\n",
       "        1.,  0.,  0.,  1.,  0.,  0.,  0.,  0.,  0.,  1.,  1.,  0.,  0.,\n",
       "        0.,  0.,  1.,  0.,  0.,  0.,  0.,  0.,  0.,  0.,  1.,  0.,  0.,\n",
       "        0.,  1.,  0.,  0.,  0.,  1.,  0.,  1.,  0.,  0.,  0.,  1.,  0.,\n",
       "        0.,  0.,  0.,  0.,  0.,  0.,  0.,  0.,  1.,  0.,  0.,  0.,  1.,\n",
       "        0.,  0.,  0.,  0.,  1.,  1.,  0.,  0.,  1.,  0.,  0.,  0.,  0.,\n",
       "        0.,  0.,  1.,  1.,  0.,  0.,  0.,  1.,  1.,  0.,  0.,  0.])"
      ]
     },
     "execution_count": 129,
     "metadata": {},
     "output_type": "execute_result"
    }
   ],
   "source": [
    "y = df.iloc[:,-1].values\n",
    "y"
   ]
  },
  {
   "cell_type": "code",
   "execution_count": 130,
   "metadata": {
    "collapsed": false
   },
   "outputs": [
    {
     "data": {
      "text/plain": [
       "0.79005524861878451"
      ]
     },
     "execution_count": 130,
     "metadata": {},
     "output_type": "execute_result"
    }
   ],
   "source": [
    "#Logistic Regression\n",
    "# Modules\n",
    "from sklearn.linear_model import LogisticRegression\n",
    "from sklearn.cross_validation import train_test_split\n",
    "from sklearn import metrics\n",
    "from sklearn.cross_validation import cross_val_score\n",
    "\n",
    "# define X and Y\n",
    "X = df.iloc[:,0:15].values\n",
    "y = df.iloc[:,-1].values\n",
    "\n",
    "# instantiate a logistic regression model, and fit with X and y\n",
    "model = LogisticRegression()\n",
    "model = model.fit(X, y)\n",
    "\n",
    "# check the accuracy without cross validation\n",
    "model.score(X, y)"
   ]
  },
  {
   "cell_type": "code",
   "execution_count": 170,
   "metadata": {
    "collapsed": false
   },
   "outputs": [
    {
     "name": "stdout",
     "output_type": "stream",
     "text": [
      "----------------------------------------\n",
      "The accuracy is: \n",
      "78.9473684211\n",
      "----------------------------------------\n",
      "The AUC is: \n",
      "0.914285714286\n",
      "----------------------------------------\n",
      "The confusion matrix is: \n",
      "[[13  1]\n",
      " [ 3  2]]\n",
      "----------------------------------------\n",
      "The leave-one-out  accuracy is: \n",
      "77.6694186447\n"
     ]
    }
   ],
   "source": [
    "# evaluate the model by splitting into train and test sets\n",
    "X_train, X_test, y_train, y_test = train_test_split(X, y, test_size=0.1, random_state=0)\n",
    "# allocate and train\n",
    "model2 = LogisticRegression()\n",
    "model2.fit(X_train, y_train)\n",
    "\n",
    "# predict outcomes for the test set\n",
    "predicted = model2.predict(X_test)\n",
    "\n",
    "# calculate class probabilities\n",
    "probs = model2.predict_proba(X_test)\n",
    "\n",
    "# generate evaluation metrics\n",
    "# accurracy\n",
    "print(20*\"--\")\n",
    "print('The accuracy is: ')\n",
    "print(metrics.accuracy_score(y_test, predicted)*100)\n",
    "\n",
    "# AUC\n",
    "print(20*\"--\")\n",
    "print('The AUC is: ')\n",
    "print(metrics.roc_auc_score(y_test, probs[:, 1]))\n",
    "\n",
    "# confusion matrix\n",
    "print(20*\"--\")\n",
    "print('The confusion matrix is: ')\n",
    "print(metrics.confusion_matrix(y_test, predicted))\n",
    "\n",
    "# evaluate the model using leave-one-out  cross-validation\n",
    "scores = cross_val_score(LogisticRegression(), X, y, scoring='accuracy', cv=10)\n",
    "print(20*\"--\")\n",
    "print('The leave-one-out  accuracy is: ')\n",
    "print(scores.mean()*100)"
   ]
  },
  {
   "cell_type": "code",
   "execution_count": null,
   "metadata": {
    "collapsed": true
   },
   "outputs": [],
   "source": []
  }
 ],
 "metadata": {
  "anaconda-cloud": {},
  "kernelspec": {
   "display_name": "Python [conda root]",
   "language": "python",
   "name": "conda-root-py"
  },
  "language_info": {
   "codemirror_mode": {
    "name": "ipython",
    "version": 3
   },
   "file_extension": ".py",
   "mimetype": "text/x-python",
   "name": "python",
   "nbconvert_exporter": "python",
   "pygments_lexer": "ipython3",
   "version": "3.5.2"
  }
 },
 "nbformat": 4,
 "nbformat_minor": 2
}
