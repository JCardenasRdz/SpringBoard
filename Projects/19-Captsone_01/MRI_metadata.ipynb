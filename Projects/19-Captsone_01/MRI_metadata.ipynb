{
 "cells": [
  {
   "cell_type": "code",
   "execution_count": 49,
   "metadata": {
    "collapsed": false
   },
   "outputs": [
    {
     "name": "stdout",
     "output_type": "stream",
     "text": [
      "/Users/Julio/GitHub/SpringBoard/Projects/19-Captsone_01\r\n"
     ]
    }
   ],
   "source": [
    "import pandas as pd\n",
    "!pwd"
   ]
  },
  {
   "cell_type": "code",
   "execution_count": 14,
   "metadata": {
    "collapsed": false
   },
   "outputs": [
    {
     "data": {
      "text/html": [
       "<div>\n",
       "<table border=\"1\" class=\"dataframe\">\n",
       "  <thead>\n",
       "    <tr style=\"text-align: right;\">\n",
       "      <th></th>\n",
       "      <th>ID</th>\n",
       "      <th>Date</th>\n",
       "      <th>Descr</th>\n",
       "      <th>Mode</th>\n",
       "      <th>Series</th>\n",
       "      <th>Manufac</th>\n",
       "      <th>Model</th>\n",
       "      <th>SoftVer</th>\n",
       "      <th>SeriesID</th>\n",
       "    </tr>\n",
       "  </thead>\n",
       "  <tbody>\n",
       "    <tr>\n",
       "      <th>0</th>\n",
       "      <td>ISPY1_1001</td>\n",
       "      <td>11/8/84</td>\n",
       "      <td>MR BREASTUNI UE</td>\n",
       "      <td>SEG</td>\n",
       "      <td>Breast Tissue Segmentation</td>\n",
       "      <td>GE MEDICAL SYSTEMS</td>\n",
       "      <td>GENESIS_SIGNA</td>\n",
       "      <td>9</td>\n",
       "      <td>1.3.6.1.4.1.14519.5.2.1.7695.1700.276008182492...</td>\n",
       "    </tr>\n",
       "    <tr>\n",
       "      <th>1</th>\n",
       "      <td>ISPY1_1001</td>\n",
       "      <td>1/10/85</td>\n",
       "      <td>MR BREASTUNI UE</td>\n",
       "      <td>SEG</td>\n",
       "      <td>Breast Tissue Segmentation</td>\n",
       "      <td>GE MEDICAL SYSTEMS</td>\n",
       "      <td>GENESIS_SIGNA</td>\n",
       "      <td>9</td>\n",
       "      <td>1.3.6.1.4.1.14519.5.2.1.7695.1700.135612062012...</td>\n",
       "    </tr>\n",
       "    <tr>\n",
       "      <th>2</th>\n",
       "      <td>ISPY1_1001</td>\n",
       "      <td>1/10/85</td>\n",
       "      <td>MR BREASTUNI UE</td>\n",
       "      <td>SEG</td>\n",
       "      <td>PE Segmentation thresh=70</td>\n",
       "      <td>GE MEDICAL SYSTEMS</td>\n",
       "      <td>GENESIS_SIGNA</td>\n",
       "      <td>9</td>\n",
       "      <td>1.3.6.1.4.1.14519.5.2.1.7695.1700.311831286327...</td>\n",
       "    </tr>\n",
       "  </tbody>\n",
       "</table>\n",
       "</div>"
      ],
      "text/plain": [
       "           ID     Date            Descr Mode                      Series  \\\n",
       "0  ISPY1_1001  11/8/84  MR BREASTUNI UE  SEG  Breast Tissue Segmentation   \n",
       "1  ISPY1_1001  1/10/85  MR BREASTUNI UE  SEG  Breast Tissue Segmentation   \n",
       "2  ISPY1_1001  1/10/85  MR BREASTUNI UE  SEG   PE Segmentation thresh=70   \n",
       "\n",
       "              Manufac          Model SoftVer  \\\n",
       "0  GE MEDICAL SYSTEMS  GENESIS_SIGNA       9   \n",
       "1  GE MEDICAL SYSTEMS  GENESIS_SIGNA       9   \n",
       "2  GE MEDICAL SYSTEMS  GENESIS_SIGNA       9   \n",
       "\n",
       "                                            SeriesID  \n",
       "0  1.3.6.1.4.1.14519.5.2.1.7695.1700.276008182492...  \n",
       "1  1.3.6.1.4.1.14519.5.2.1.7695.1700.135612062012...  \n",
       "2  1.3.6.1.4.1.14519.5.2.1.7695.1700.311831286327...  "
      ]
     },
     "execution_count": 14,
     "metadata": {},
     "output_type": "execute_result"
    }
   ],
   "source": [
    "df = pd.read_csv( './raw_data/MRI/ISPY-1-Meta_all.csv')\n",
    "df = df.drop('Collection', axis = 1)\n",
    "col = ['ID','Date','Descr','Mode','Series','Manufac','Model','SoftVer','SeriesID']\n",
    "df.columns = col\n",
    "df.head(3)"
   ]
  },
  {
   "cell_type": "code",
   "execution_count": 37,
   "metadata": {
    "collapsed": false
   },
   "outputs": [
    {
     "data": {
      "text/html": [
       "<div>\n",
       "<table border=\"1\" class=\"dataframe\">\n",
       "  <thead>\n",
       "    <tr style=\"text-align: right;\">\n",
       "      <th></th>\n",
       "      <th></th>\n",
       "      <th>ID</th>\n",
       "      <th>Descr</th>\n",
       "      <th>Mode</th>\n",
       "      <th>Series</th>\n",
       "      <th>Model</th>\n",
       "      <th>SoftVer</th>\n",
       "      <th>SeriesID</th>\n",
       "    </tr>\n",
       "    <tr>\n",
       "      <th>Manufac</th>\n",
       "      <th>Date</th>\n",
       "      <th></th>\n",
       "      <th></th>\n",
       "      <th></th>\n",
       "      <th></th>\n",
       "      <th></th>\n",
       "      <th></th>\n",
       "      <th></th>\n",
       "    </tr>\n",
       "  </thead>\n",
       "  <tbody>\n",
       "    <tr>\n",
       "      <th rowspan=\"4\" valign=\"top\">GE MEDICAL SYSTEMS</th>\n",
       "      <th>11/22/84</th>\n",
       "      <td>12</td>\n",
       "      <td>12</td>\n",
       "      <td>12</td>\n",
       "      <td>12</td>\n",
       "      <td>12</td>\n",
       "      <td>12</td>\n",
       "      <td>12</td>\n",
       "    </tr>\n",
       "    <tr>\n",
       "      <th>12/13/84</th>\n",
       "      <td>10</td>\n",
       "      <td>10</td>\n",
       "      <td>10</td>\n",
       "      <td>10</td>\n",
       "      <td>10</td>\n",
       "      <td>10</td>\n",
       "      <td>10</td>\n",
       "    </tr>\n",
       "    <tr>\n",
       "      <th>2/8/85</th>\n",
       "      <td>13</td>\n",
       "      <td>13</td>\n",
       "      <td>13</td>\n",
       "      <td>13</td>\n",
       "      <td>13</td>\n",
       "      <td>13</td>\n",
       "      <td>13</td>\n",
       "    </tr>\n",
       "    <tr>\n",
       "      <th>5/9/85</th>\n",
       "      <td>13</td>\n",
       "      <td>13</td>\n",
       "      <td>13</td>\n",
       "      <td>13</td>\n",
       "      <td>13</td>\n",
       "      <td>13</td>\n",
       "      <td>13</td>\n",
       "    </tr>\n",
       "  </tbody>\n",
       "</table>\n",
       "</div>"
      ],
      "text/plain": [
       "                             ID  Descr  Mode  Series  Model  SoftVer  SeriesID\n",
       "Manufac            Date                                                       \n",
       "GE MEDICAL SYSTEMS 11/22/84  12     12    12      12     12       12        12\n",
       "                   12/13/84  10     10    10      10     10       10        10\n",
       "                   2/8/85    13     13    13      13     13       13        13\n",
       "                   5/9/85    13     13    13      13     13       13        13"
      ]
     },
     "execution_count": 37,
     "metadata": {},
     "output_type": "execute_result"
    }
   ],
   "source": [
    "df[df.ID=='ISPY1_1003'].groupby(['Manufac','Date']).count()"
   ]
  },
  {
   "cell_type": "code",
   "execution_count": 47,
   "metadata": {
    "collapsed": false
   },
   "outputs": [],
   "source": [
    "mafuc_df = df.groupby(['ID','Manufac','Date']).count().reset_index()[['ID','Manufac']].drop_duplicates()\n",
    "mafuc_df = mafuc_df.reset_index()[['ID','Manufac']]"
   ]
  },
  {
   "cell_type": "code",
   "execution_count": null,
   "metadata": {
    "collapsed": true
   },
   "outputs": [],
   "source": [
    "df.groupby(['ID','Manufac','Date']).count().reset_index()[['ID','Manufac']].drop_duplicates"
   ]
  },
  {
   "cell_type": "code",
   "execution_count": 48,
   "metadata": {
    "collapsed": false
   },
   "outputs": [
    {
     "name": "stdout",
     "output_type": "stream",
     "text": [
      "/Users/Julio/GitHub/SpringBoard/Projects/19-Captsone_01\r\n"
     ]
    }
   ],
   "source": [
    "!pwd"
   ]
  },
  {
   "cell_type": "code",
   "execution_count": null,
   "metadata": {
    "collapsed": true
   },
   "outputs": [],
   "source": []
  }
 ],
 "metadata": {
  "anaconda-cloud": {},
  "kernelspec": {
   "display_name": "Python [conda root]",
   "language": "python",
   "name": "conda-root-py"
  },
  "language_info": {
   "codemirror_mode": {
    "name": "ipython",
    "version": 3
   },
   "file_extension": ".py",
   "mimetype": "text/x-python",
   "name": "python",
   "nbconvert_exporter": "python",
   "pygments_lexer": "ipython3",
   "version": "3.5.2"
  }
 },
 "nbformat": 4,
 "nbformat_minor": 2
}
