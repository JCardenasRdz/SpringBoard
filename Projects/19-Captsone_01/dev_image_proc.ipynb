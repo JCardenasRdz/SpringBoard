{
 "cells": [
  {
   "cell_type": "code",
   "execution_count": 4,
   "metadata": {
    "collapsed": false
   },
   "outputs": [],
   "source": [
    "import dicom\n",
    "import os\n",
    "import dicom\n",
    "import pandas as pd\n",
    "import numpy as np\n",
    "import matplotlib.pyplot as plt; \n",
    "%matplotlib inline\n",
    "import importlib; \n",
    "from capstone_01 import image_proc\n",
    "importlib.reload(image_proc) ;"
   ]
  },
  {
   "cell_type": "code",
   "execution_count": 2,
   "metadata": {
    "collapsed": false
   },
   "outputs": [
    {
     "data": {
      "text/html": [
       "<div>\n",
       "<table border=\"1\" class=\"dataframe\">\n",
       "  <thead>\n",
       "    <tr style=\"text-align: right;\">\n",
       "      <th></th>\n",
       "      <th>Patient Id</th>\n",
       "      <th>Series Description</th>\n",
       "      <th>Series UID</th>\n",
       "    </tr>\n",
       "  </thead>\n",
       "  <tbody>\n",
       "    <tr>\n",
       "      <th>0</th>\n",
       "      <td>ISPY1_1001</td>\n",
       "      <td>Dynamic-3dfgre</td>\n",
       "      <td>1.3.6.1.4.1.14519.5.2.1.7695.1700.334491271566...</td>\n",
       "    </tr>\n",
       "    <tr>\n",
       "      <th>1</th>\n",
       "      <td>ISPY1_1001</td>\n",
       "      <td>Dynamic-3dfgre: SER</td>\n",
       "      <td>1.3.6.1.4.1.14519.5.2.1.7695.1700.933316195746...</td>\n",
       "    </tr>\n",
       "    <tr>\n",
       "      <th>2</th>\n",
       "      <td>ISPY1_1002</td>\n",
       "      <td>Dynamic-3dfgre</td>\n",
       "      <td>1.3.6.1.4.1.14519.5.2.1.7695.1700.200978610610...</td>\n",
       "    </tr>\n",
       "    <tr>\n",
       "      <th>3</th>\n",
       "      <td>ISPY1_1002</td>\n",
       "      <td>Dynamic-3dfgre: SER</td>\n",
       "      <td>1.3.6.1.4.1.14519.5.2.1.7695.1700.203536471283...</td>\n",
       "    </tr>\n",
       "  </tbody>\n",
       "</table>\n",
       "</div>"
      ],
      "text/plain": [
       "   Patient Id   Series Description  \\\n",
       "0  ISPY1_1001       Dynamic-3dfgre   \n",
       "1  ISPY1_1001  Dynamic-3dfgre: SER   \n",
       "2  ISPY1_1002       Dynamic-3dfgre   \n",
       "3  ISPY1_1002  Dynamic-3dfgre: SER   \n",
       "\n",
       "                                          Series UID  \n",
       "0  1.3.6.1.4.1.14519.5.2.1.7695.1700.334491271566...  \n",
       "1  1.3.6.1.4.1.14519.5.2.1.7695.1700.933316195746...  \n",
       "2  1.3.6.1.4.1.14519.5.2.1.7695.1700.200978610610...  \n",
       "3  1.3.6.1.4.1.14519.5.2.1.7695.1700.203536471283...  "
      ]
     },
     "execution_count": 2,
     "metadata": {},
     "output_type": "execute_result"
    }
   ],
   "source": [
    "meta_data_file = './raw_data/MRI/MRI_meta_data.csv'\n",
    "df = pd.read_csv(meta_data_file)[['Patient Id','Series Description','Series UID']]\n",
    "df"
   ]
  },
  {
   "cell_type": "code",
   "execution_count": null,
   "metadata": {
    "collapsed": true
   },
   "outputs": [],
   "source": [
    "MRI = image_proc.load_dicom('./raw_data',df['Series UID'][0])"
   ]
  },
  {
   "cell_type": "code",
   "execution_count": 5,
   "metadata": {
    "collapsed": false
   },
   "outputs": [],
   "source": [
    "MRIx = np.mean(MRI, axis = 0)\n",
    "row, col = image_proc.image_to_Dhash(MRIx) "
   ]
  },
  {
   "cell_type": "code",
   "execution_count": 14,
   "metadata": {
    "collapsed": false
   },
   "outputs": [
    {
     "data": {
      "text/plain": [
       "64"
      ]
     },
     "execution_count": 14,
     "metadata": {},
     "output_type": "execute_result"
    }
   ],
   "source": [
    "len(col)"
   ]
  },
  {
   "cell_type": "code",
   "execution_count": null,
   "metadata": {
    "collapsed": true
   },
   "outputs": [],
   "source": []
  }
 ],
 "metadata": {
  "anaconda-cloud": {},
  "kernelspec": {
   "display_name": "Python [conda root]",
   "language": "python",
   "name": "conda-root-py"
  },
  "language_info": {
   "codemirror_mode": {
    "name": "ipython",
    "version": 3
   },
   "file_extension": ".py",
   "mimetype": "text/x-python",
   "name": "python",
   "nbconvert_exporter": "python",
   "pygments_lexer": "ipython3",
   "version": "3.5.2"
  }
 },
 "nbformat": 4,
 "nbformat_minor": 2
}
