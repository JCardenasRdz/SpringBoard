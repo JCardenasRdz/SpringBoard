{
 "cells": [
  {
   "cell_type": "markdown",
   "metadata": {},
   "source": [
    "<h1><center> Inferential statistics on the I-SPY1 Clinical Trial</center></h1>"
   ]
  },
  {
   "cell_type": "code",
   "execution_count": 1,
   "metadata": {},
   "outputs": [
    {
     "name": "stderr",
     "output_type": "stream",
     "text": [
      "/Users/Julio/anaconda/lib/python3.5/site-packages/statsmodels/compat/pandas.py:56: FutureWarning: The pandas.core.datetools module is deprecated and will be removed in a future version. Please use the pandas.tseries module instead.\n",
      "  from pandas.core import datetools\n"
     ]
    }
   ],
   "source": [
    "# import custom modules wrote by julio\n",
    "import seaborn as sns\n",
    "import pandas as pd\n",
    "%matplotlib inline\n",
    "#from capstone_01 import clean_data\n",
    "from ispy1 import inferential_statistics\n",
    "\n",
    "# reload modules without restartign the kernel (makes development easier)\n",
    "# import importlib\n",
    "#importlib.reload(inferential_statistics);"
   ]
  },
  {
   "cell_type": "markdown",
   "metadata": {},
   "source": [
    "### 0. load clean data"
   ]
  },
  {
   "cell_type": "code",
   "execution_count": 2,
   "metadata": {},
   "outputs": [
    {
     "data": {
      "text/html": [
       "<div>\n",
       "<style>\n",
       "    .dataframe thead tr:only-child th {\n",
       "        text-align: right;\n",
       "    }\n",
       "\n",
       "    .dataframe thead th {\n",
       "        text-align: left;\n",
       "    }\n",
       "\n",
       "    .dataframe tbody tr th {\n",
       "        vertical-align: top;\n",
       "    }\n",
       "</style>\n",
       "<table border=\"1\" class=\"dataframe\">\n",
       "  <thead>\n",
       "    <tr style=\"text-align: right;\">\n",
       "      <th></th>\n",
       "      <th>SUBJECTID</th>\n",
       "      <th>age</th>\n",
       "      <th>White</th>\n",
       "      <th>ER+</th>\n",
       "      <th>PR+</th>\n",
       "      <th>HR+</th>\n",
       "      <th>Bilateral</th>\n",
       "      <th>Right_Breast</th>\n",
       "      <th>MRI_LD_Baseline</th>\n",
       "      <th>MRI_LD_1_3dAC</th>\n",
       "      <th>MRI_LD_Int_Reg</th>\n",
       "      <th>MRI_LD_PreSurg</th>\n",
       "      <th>Alive</th>\n",
       "      <th>Survival_length</th>\n",
       "      <th>RFS</th>\n",
       "      <th>RFS_code</th>\n",
       "      <th>PCR</th>\n",
       "      <th>RCB</th>\n",
       "    </tr>\n",
       "  </thead>\n",
       "  <tbody>\n",
       "    <tr>\n",
       "      <th>0</th>\n",
       "      <td>1001</td>\n",
       "      <td>38.73</td>\n",
       "      <td>Yes</td>\n",
       "      <td>Yes</td>\n",
       "      <td>No</td>\n",
       "      <td>Yes</td>\n",
       "      <td>No</td>\n",
       "      <td>No</td>\n",
       "      <td>88.0</td>\n",
       "      <td>78.0</td>\n",
       "      <td>30.0</td>\n",
       "      <td>14.0</td>\n",
       "      <td>No</td>\n",
       "      <td>1264</td>\n",
       "      <td>751</td>\n",
       "      <td>1</td>\n",
       "      <td>No</td>\n",
       "      <td>2.0</td>\n",
       "    </tr>\n",
       "    <tr>\n",
       "      <th>1</th>\n",
       "      <td>1002</td>\n",
       "      <td>37.79</td>\n",
       "      <td>Yes</td>\n",
       "      <td>Yes</td>\n",
       "      <td>Yes</td>\n",
       "      <td>Yes</td>\n",
       "      <td>No</td>\n",
       "      <td>Yes</td>\n",
       "      <td>29.0</td>\n",
       "      <td>26.0</td>\n",
       "      <td>66.0</td>\n",
       "      <td>16.0</td>\n",
       "      <td>No</td>\n",
       "      <td>1155</td>\n",
       "      <td>1043</td>\n",
       "      <td>1</td>\n",
       "      <td>No</td>\n",
       "      <td>3.0</td>\n",
       "    </tr>\n",
       "  </tbody>\n",
       "</table>\n",
       "</div>"
      ],
      "text/plain": [
       "   SUBJECTID    age White  ER+  PR+  HR+ Bilateral Right_Breast  \\\n",
       "0       1001  38.73   Yes  Yes   No  Yes        No           No   \n",
       "1       1002  37.79   Yes  Yes  Yes  Yes        No          Yes   \n",
       "\n",
       "   MRI_LD_Baseline  MRI_LD_1_3dAC  MRI_LD_Int_Reg  MRI_LD_PreSurg Alive  \\\n",
       "0             88.0           78.0            30.0            14.0    No   \n",
       "1             29.0           26.0            66.0            16.0    No   \n",
       "\n",
       "   Survival_length   RFS  RFS_code PCR  RCB  \n",
       "0             1264   751         1  No  2.0  \n",
       "1             1155  1043         1  No  3.0  "
      ]
     },
     "execution_count": 2,
     "metadata": {},
     "output_type": "execute_result"
    }
   ],
   "source": [
    "df = pd.read_csv('./data/I-SPY_1_clean_data.csv')\n",
    "df.head(2)"
   ]
  },
  {
   "cell_type": "markdown",
   "metadata": {},
   "source": [
    "# 1. Inferential_statistics: Categorical vs Categorical (Chi-2 test)"
   ]
  },
  {
   "cell_type": "markdown",
   "metadata": {},
   "source": [
    "### 1. 1 Effect of categorical predictors on Pathological complete response (`PCR`)"
   ]
  },
  {
   "cell_type": "code",
   "execution_count": 3,
   "metadata": {},
   "outputs": [
    {
     "data": {
      "text/html": [
       "<div>\n",
       "<style>\n",
       "    .dataframe thead tr:only-child th {\n",
       "        text-align: right;\n",
       "    }\n",
       "\n",
       "    .dataframe thead th {\n",
       "        text-align: left;\n",
       "    }\n",
       "\n",
       "    .dataframe tbody tr th {\n",
       "        vertical-align: top;\n",
       "    }\n",
       "</style>\n",
       "<table border=\"1\" class=\"dataframe\">\n",
       "  <thead>\n",
       "    <tr style=\"text-align: right;\">\n",
       "      <th>ER+</th>\n",
       "      <th>Yes</th>\n",
       "      <th>No</th>\n",
       "    </tr>\n",
       "    <tr>\n",
       "      <th>PCR</th>\n",
       "      <th></th>\n",
       "      <th></th>\n",
       "    </tr>\n",
       "  </thead>\n",
       "  <tbody>\n",
       "    <tr>\n",
       "      <th>Yes</th>\n",
       "      <td>17.0</td>\n",
       "      <td>28.0</td>\n",
       "    </tr>\n",
       "    <tr>\n",
       "      <th>No</th>\n",
       "      <td>81.0</td>\n",
       "      <td>42.0</td>\n",
       "    </tr>\n",
       "  </tbody>\n",
       "</table>\n",
       "</div>"
      ],
      "text/plain": [
       "ER+   Yes    No\n",
       "PCR            \n",
       "Yes  17.0  28.0\n",
       "No   81.0  42.0"
      ]
     },
     "execution_count": 3,
     "metadata": {},
     "output_type": "execute_result"
    }
   ],
   "source": [
    "# example of contingency table\n",
    "inferential_statistics.contingency_table('PCR', 'ER+',df)"
   ]
  },
  {
   "cell_type": "code",
   "execution_count": 4,
   "metadata": {},
   "outputs": [
    {
     "data": {
      "text/html": [
       "<div>\n",
       "<style>\n",
       "    .dataframe thead tr:only-child th {\n",
       "        text-align: right;\n",
       "    }\n",
       "\n",
       "    .dataframe thead th {\n",
       "        text-align: left;\n",
       "    }\n",
       "\n",
       "    .dataframe tbody tr th {\n",
       "        vertical-align: top;\n",
       "    }\n",
       "</style>\n",
       "<table border=\"1\" class=\"dataframe\">\n",
       "  <thead>\n",
       "    <tr style=\"text-align: right;\">\n",
       "      <th></th>\n",
       "      <th>p-value</th>\n",
       "      <th>Relative_Risk</th>\n",
       "      <th>RR_lb</th>\n",
       "      <th>RR_ub</th>\n",
       "    </tr>\n",
       "  </thead>\n",
       "  <tbody>\n",
       "    <tr>\n",
       "      <th>White</th>\n",
       "      <td>0.833629</td>\n",
       "      <td>0.8878</td>\n",
       "      <td>0.5076</td>\n",
       "      <td>1.5528</td>\n",
       "    </tr>\n",
       "    <tr>\n",
       "      <th>ER+</th>\n",
       "      <td>0.001988</td>\n",
       "      <td>0.4337</td>\n",
       "      <td>0.2582</td>\n",
       "      <td>0.7285</td>\n",
       "    </tr>\n",
       "    <tr>\n",
       "      <th>PR+</th>\n",
       "      <td>0.000198</td>\n",
       "      <td>0.3219</td>\n",
       "      <td>0.1707</td>\n",
       "      <td>0.6069</td>\n",
       "    </tr>\n",
       "    <tr>\n",
       "      <th>HR+</th>\n",
       "      <td>0.000307</td>\n",
       "      <td>0.3831</td>\n",
       "      <td>0.2286</td>\n",
       "      <td>0.6422</td>\n",
       "    </tr>\n",
       "    <tr>\n",
       "      <th>Right_Breast</th>\n",
       "      <td>0.851883</td>\n",
       "      <td>1.0965</td>\n",
       "      <td>0.6649</td>\n",
       "      <td>1.8080</td>\n",
       "    </tr>\n",
       "  </tbody>\n",
       "</table>\n",
       "</div>"
      ],
      "text/plain": [
       "               p-value  Relative_Risk   RR_lb   RR_ub\n",
       "White         0.833629         0.8878  0.5076  1.5528\n",
       "ER+           0.001988         0.4337  0.2582  0.7285\n",
       "PR+           0.000198         0.3219  0.1707  0.6069\n",
       "HR+           0.000307         0.3831  0.2286  0.6422\n",
       "Right_Breast  0.851883         1.0965  0.6649  1.8080"
      ]
     },
     "execution_count": 4,
     "metadata": {},
     "output_type": "execute_result"
    }
   ],
   "source": [
    "# Perform chi-2 test on all categorical variables\n",
    "predictors = ['White', 'ER+', 'PR+', 'HR+','Right_Breast']\n",
    "outcome = 'PCR'\n",
    "inferential_statistics.categorical_data(outcome, predictors, df)"
   ]
  },
  {
   "cell_type": "markdown",
   "metadata": {},
   "source": [
    "<h3><center> 1.1.2 Conclusion: Only `ER+` , `PR+`, and `HR+` have an effect on `PCR`</center></h3>\n"
   ]
  },
  {
   "cell_type": "markdown",
   "metadata": {},
   "source": [
    "### 1. 2 Effect of categorical predictors on Survival (`Alive`)"
   ]
  },
  {
   "cell_type": "code",
   "execution_count": 5,
   "metadata": {},
   "outputs": [
    {
     "data": {
      "text/html": [
       "<div>\n",
       "<style>\n",
       "    .dataframe thead tr:only-child th {\n",
       "        text-align: right;\n",
       "    }\n",
       "\n",
       "    .dataframe thead th {\n",
       "        text-align: left;\n",
       "    }\n",
       "\n",
       "    .dataframe tbody tr th {\n",
       "        vertical-align: top;\n",
       "    }\n",
       "</style>\n",
       "<table border=\"1\" class=\"dataframe\">\n",
       "  <thead>\n",
       "    <tr style=\"text-align: right;\">\n",
       "      <th></th>\n",
       "      <th>p-value</th>\n",
       "      <th>Relative_Risk</th>\n",
       "      <th>RR_lb</th>\n",
       "      <th>RR_ub</th>\n",
       "    </tr>\n",
       "  </thead>\n",
       "  <tbody>\n",
       "    <tr>\n",
       "      <th>White</th>\n",
       "      <td>0.439359</td>\n",
       "      <td>1.0935</td>\n",
       "      <td>0.9032</td>\n",
       "      <td>1.3239</td>\n",
       "    </tr>\n",
       "    <tr>\n",
       "      <th>ER+</th>\n",
       "      <td>0.001135</td>\n",
       "      <td>1.3095</td>\n",
       "      <td>1.1025</td>\n",
       "      <td>1.5554</td>\n",
       "    </tr>\n",
       "    <tr>\n",
       "      <th>PR+</th>\n",
       "      <td>0.162557</td>\n",
       "      <td>1.1266</td>\n",
       "      <td>0.9739</td>\n",
       "      <td>1.3031</td>\n",
       "    </tr>\n",
       "    <tr>\n",
       "      <th>HR+</th>\n",
       "      <td>0.038917</td>\n",
       "      <td>1.1950</td>\n",
       "      <td>1.0094</td>\n",
       "      <td>1.4148</td>\n",
       "    </tr>\n",
       "    <tr>\n",
       "      <th>Right_Breast</th>\n",
       "      <td>0.729139</td>\n",
       "      <td>0.9602</td>\n",
       "      <td>0.8287</td>\n",
       "      <td>1.1125</td>\n",
       "    </tr>\n",
       "    <tr>\n",
       "      <th>PCR</th>\n",
       "      <td>0.070860</td>\n",
       "      <td>1.1796</td>\n",
       "      <td>1.0333</td>\n",
       "      <td>1.3467</td>\n",
       "    </tr>\n",
       "  </tbody>\n",
       "</table>\n",
       "</div>"
      ],
      "text/plain": [
       "               p-value  Relative_Risk   RR_lb   RR_ub\n",
       "White         0.439359         1.0935  0.9032  1.3239\n",
       "ER+           0.001135         1.3095  1.1025  1.5554\n",
       "PR+           0.162557         1.1266  0.9739  1.3031\n",
       "HR+           0.038917         1.1950  1.0094  1.4148\n",
       "Right_Breast  0.729139         0.9602  0.8287  1.1125\n",
       "PCR           0.070860         1.1796  1.0333  1.3467"
      ]
     },
     "execution_count": 5,
     "metadata": {},
     "output_type": "execute_result"
    }
   ],
   "source": [
    "predictors = ['White', 'ER+', 'PR+', 'HR+','Right_Breast','PCR']\n",
    "outcome = 'Alive'\n",
    "inferential_statistics.categorical_data(outcome, predictors, df)"
   ]
  },
  {
   "cell_type": "markdown",
   "metadata": {},
   "source": [
    "<h3><center> 1.2.2 Conclusion: Only `ER+` and `HR+` have an effect on `Alive`</center></h3>"
   ]
  },
  {
   "cell_type": "markdown",
   "metadata": {},
   "source": [
    "## 2. Inferential_statistics: Continous vs Categorical (ANOVA)"
   ]
  },
  {
   "cell_type": "markdown",
   "metadata": {},
   "source": [
    "### 2.1 Effect of Age on PCR "
   ]
  },
  {
   "cell_type": "code",
   "execution_count": 6,
   "metadata": {},
   "outputs": [
    {
     "name": "stdout",
     "output_type": "stream",
     "text": [
      "---------------------------------------------\n",
      "             sum_sq     df         F    PR(>F)\n",
      "age        0.256505    1.0  1.302539  0.255394\n",
      "Residual  32.689923  166.0       NaN       NaN\n",
      "---------------------------------------------\n"
     ]
    },
    {
     "data": {
      "image/png": "[encoded data removed]",
      "text/plain": [
       "<matplotlib.figure.Figure at 0x113ce0898>"
      ]
     },
     "metadata": {},
     "output_type": "display_data"
    }
   ],
   "source": [
    "predictor= ['age']\n",
    "outcome = 'PCR'\n",
    "anova_table, OLS = inferential_statistics.linear_models(df, outcome, predictor);\n",
    "sns.boxplot(x= outcome, y=predictor[0], data=df, palette=\"Set3\");"
   ]
  },
  {
   "cell_type": "markdown",
   "metadata": {},
   "source": [
    "### 2.2 Effect of Age on Survival "
   ]
  },
  {
   "cell_type": "code",
   "execution_count": 7,
   "metadata": {},
   "outputs": [
    {
     "name": "stdout",
     "output_type": "stream",
     "text": [
      "---------------------------------------------\n",
      "             sum_sq     df         F    PR(>F)\n",
      "age        0.062227    1.0  0.399719  0.528104\n",
      "Residual  25.842534  166.0       NaN       NaN\n",
      "---------------------------------------------\n"
     ]
    },
    {
     "data": {
      "image/png": "[encoded data removed]",
      "text/plain": [
       "<matplotlib.figure.Figure at 0x1142b6ef0>"
      ]
     },
     "metadata": {},
     "output_type": "display_data"
    }
   ],
   "source": [
    "predictor= ['age']\n",
    "outcome = 'Alive'\n",
    "anova_table, OLS = inferential_statistics.linear_models(df, outcome, predictor);\n",
    "sns.boxplot(x= outcome, y=predictor[0], data=df, palette=\"Set3\");"
   ]
  },
  {
   "cell_type": "markdown",
   "metadata": {},
   "source": [
    "### 2.3 Explore interactions between age, survival, and PCR"
   ]
  },
  {
   "cell_type": "code",
   "execution_count": 8,
   "metadata": {
    "scrolled": true
   },
   "outputs": [
    {
     "data": {
      "image/png": "[encoded data removed]",
      "text/plain": [
       "<matplotlib.figure.Figure at 0x114382390>"
      ]
     },
     "metadata": {},
     "output_type": "display_data"
    }
   ],
   "source": [
    "# create a boxplot to visualize this interaction\n",
    "ax = sns.boxplot(x= 'PCR', y='age', hue ='Alive',data=df, palette=\"Set3\");\n",
    "ax.set_title('Interactions between age, survival, and PCR');"
   ]
  },
  {
   "cell_type": "code",
   "execution_count": 9,
   "metadata": {},
   "outputs": [
    {
     "name": "stdout",
     "output_type": "stream",
     "text": [
      "---------------------------------------------\n",
      "             sum_sq     df         F    PR(>F)\n",
      "age        0.637369    1.0  3.674443  0.057611\n",
      "Residual  20.988648  121.0       NaN       NaN\n",
      "---------------------------------------------\n"
     ]
    }
   ],
   "source": [
    "# create dataframe only for patients with PCR = Yes\n",
    "df_by_PCR = df.loc[df.PCR=='No',:]\n",
    "df_by_PCR.head()\n",
    "\n",
    "# Anova age vs Alive\n",
    "predictor= ['age']\n",
    "outcome = 'Alive'\n",
    "anova_table, OLS = inferential_statistics.linear_models(df_by_PCR, outcome, predictor);"
   ]
  },
  {
   "cell_type": "code",
   "execution_count": 10,
   "metadata": {},
   "outputs": [
    {
     "data": {
      "text/html": [
       "<div>\n",
       "<style>\n",
       "    .dataframe thead tr:only-child th {\n",
       "        text-align: right;\n",
       "    }\n",
       "\n",
       "    .dataframe thead th {\n",
       "        text-align: left;\n",
       "    }\n",
       "\n",
       "    .dataframe tbody tr th {\n",
       "        vertical-align: top;\n",
       "    }\n",
       "</style>\n",
       "<table border=\"1\" class=\"dataframe\">\n",
       "  <thead>\n",
       "    <tr style=\"text-align: right;\">\n",
       "      <th></th>\n",
       "      <th>Effect Size</th>\n",
       "    </tr>\n",
       "    <tr>\n",
       "      <th>Predictor of Alive</th>\n",
       "      <th></th>\n",
       "    </tr>\n",
       "  </thead>\n",
       "  <tbody>\n",
       "    <tr>\n",
       "      <th>age</th>\n",
       "      <td>-0.409422</td>\n",
       "    </tr>\n",
       "  </tbody>\n",
       "</table>\n",
       "</div>"
      ],
      "text/plain": [
       "                    Effect Size\n",
       "Predictor of Alive             \n",
       "age                   -0.409422"
      ]
     },
     "execution_count": 10,
     "metadata": {},
     "output_type": "execute_result"
    }
   ],
   "source": [
    "# estimate the effect size\n",
    "mri_features = ['age']\n",
    "outcome = 'Alive'\n",
    "# Effect Size\n",
    "inferential_statistics.effect_size( df_by_PCR, mri_features, outcome)"
   ]
  },
  {
   "cell_type": "markdown",
   "metadata": {},
   "source": [
    "## Conclusion."
   ]
  },
  {
   "cell_type": "markdown",
   "metadata": {},
   "source": [
    "1. `age` has an important effect on `Alive` for patients with `PCR` = Yes\n",
    "2. To quantitify this effect a logistic regression is needed"
   ]
  },
  {
   "cell_type": "markdown",
   "metadata": {},
   "source": [
    "### 2.4 Effect of MRI measurements on PCR ANOVA"
   ]
  },
  {
   "cell_type": "code",
   "execution_count": 11,
   "metadata": {},
   "outputs": [
    {
     "data": {
      "image/png": "[encoded data removed]",
      "text/plain": [
       "<matplotlib.figure.Figure at 0x114525a90>"
      ]
     },
     "metadata": {},
     "output_type": "display_data"
    }
   ],
   "source": [
    "R = inferential_statistics.anova_MRI('PCR', df);"
   ]
  },
  {
   "cell_type": "markdown",
   "metadata": {},
   "source": [
    "** Estimate the effect size **"
   ]
  },
  {
   "cell_type": "code",
   "execution_count": 12,
   "metadata": {},
   "outputs": [
    {
     "data": {
      "text/html": [
       "<div>\n",
       "<style>\n",
       "    .dataframe thead tr:only-child th {\n",
       "        text-align: right;\n",
       "    }\n",
       "\n",
       "    .dataframe thead th {\n",
       "        text-align: left;\n",
       "    }\n",
       "\n",
       "    .dataframe tbody tr th {\n",
       "        vertical-align: top;\n",
       "    }\n",
       "</style>\n",
       "<table border=\"1\" class=\"dataframe\">\n",
       "  <thead>\n",
       "    <tr style=\"text-align: right;\">\n",
       "      <th></th>\n",
       "      <th>Effect Size</th>\n",
       "    </tr>\n",
       "    <tr>\n",
       "      <th>Predictor of PCR</th>\n",
       "      <th></th>\n",
       "    </tr>\n",
       "  </thead>\n",
       "  <tbody>\n",
       "    <tr>\n",
       "      <th>MRI_LD_Baseline</th>\n",
       "      <td>0.191798</td>\n",
       "    </tr>\n",
       "    <tr>\n",
       "      <th>MRI_LD_1_3dAC</th>\n",
       "      <td>0.304774</td>\n",
       "    </tr>\n",
       "    <tr>\n",
       "      <th>MRI_LD_Int_Reg</th>\n",
       "      <td>0.502345</td>\n",
       "    </tr>\n",
       "    <tr>\n",
       "      <th>MRI_LD_PreSurg</th>\n",
       "      <td>0.590352</td>\n",
       "    </tr>\n",
       "  </tbody>\n",
       "</table>\n",
       "</div>"
      ],
      "text/plain": [
       "                  Effect Size\n",
       "Predictor of PCR             \n",
       "MRI_LD_Baseline      0.191798\n",
       "MRI_LD_1_3dAC        0.304774\n",
       "MRI_LD_Int_Reg       0.502345\n",
       "MRI_LD_PreSurg       0.590352"
      ]
     },
     "execution_count": 12,
     "metadata": {},
     "output_type": "execute_result"
    }
   ],
   "source": [
    "mri_features = ['MRI_LD_Baseline', 'MRI_LD_1_3dAC', 'MRI_LD_Int_Reg', 'MRI_LD_PreSurg']\n",
    "outcome = 'PCR'\n",
    "# Effect Size\n",
    "inferential_statistics.effect_size( df, mri_features, outcome)"
   ]
  },
  {
   "cell_type": "markdown",
   "metadata": {},
   "source": [
    "### 2.5 Effect of MRI measurements on Survival ANOVA"
   ]
  },
  {
   "cell_type": "code",
   "execution_count": 13,
   "metadata": {},
   "outputs": [
    {
     "data": {
      "image/png": "[encoded data removed]",
      "text/plain": [
       "<matplotlib.figure.Figure at 0x1146327f0>"
      ]
     },
     "metadata": {},
     "output_type": "display_data"
    }
   ],
   "source": [
    "outcome = 'Alive'\n",
    "R = inferential_statistics.anova_MRI(outcome, df);"
   ]
  },
  {
   "cell_type": "code",
   "execution_count": 14,
   "metadata": {},
   "outputs": [
    {
     "data": {
      "text/html": [
       "<div>\n",
       "<style>\n",
       "    .dataframe thead tr:only-child th {\n",
       "        text-align: right;\n",
       "    }\n",
       "\n",
       "    .dataframe thead th {\n",
       "        text-align: left;\n",
       "    }\n",
       "\n",
       "    .dataframe tbody tr th {\n",
       "        vertical-align: top;\n",
       "    }\n",
       "</style>\n",
       "<table border=\"1\" class=\"dataframe\">\n",
       "  <thead>\n",
       "    <tr style=\"text-align: right;\">\n",
       "      <th></th>\n",
       "      <th>Effect Size</th>\n",
       "    </tr>\n",
       "    <tr>\n",
       "      <th>Predictor of Alive</th>\n",
       "      <th></th>\n",
       "    </tr>\n",
       "  </thead>\n",
       "  <tbody>\n",
       "    <tr>\n",
       "      <th>MRI_LD_Baseline</th>\n",
       "      <td>0.375046</td>\n",
       "    </tr>\n",
       "    <tr>\n",
       "      <th>MRI_LD_1_3dAC</th>\n",
       "      <td>0.357002</td>\n",
       "    </tr>\n",
       "    <tr>\n",
       "      <th>MRI_LD_Int_Reg</th>\n",
       "      <td>0.678682</td>\n",
       "    </tr>\n",
       "    <tr>\n",
       "      <th>MRI_LD_PreSurg</th>\n",
       "      <td>0.469548</td>\n",
       "    </tr>\n",
       "  </tbody>\n",
       "</table>\n",
       "</div>"
      ],
      "text/plain": [
       "                    Effect Size\n",
       "Predictor of Alive             \n",
       "MRI_LD_Baseline        0.375046\n",
       "MRI_LD_1_3dAC          0.357002\n",
       "MRI_LD_Int_Reg         0.678682\n",
       "MRI_LD_PreSurg         0.469548"
      ]
     },
     "execution_count": 14,
     "metadata": {},
     "output_type": "execute_result"
    }
   ],
   "source": [
    "mri_features = ['MRI_LD_Baseline', 'MRI_LD_1_3dAC', 'MRI_LD_Int_Reg', 'MRI_LD_PreSurg']\n",
    "outcome = 'Alive'\n",
    "# Effect Size\n",
    "inferential_statistics.effect_size( df, mri_features, outcome)"
   ]
  },
  {
   "cell_type": "markdown",
   "metadata": {},
   "source": [
    "### stratify analysis by PCR"
   ]
  },
  {
   "cell_type": "code",
   "execution_count": 15,
   "metadata": {},
   "outputs": [
    {
     "name": "stdout",
     "output_type": "stream",
     "text": [
      "Outcome = Alive | PCR = No\n",
      "---------------------------------------------\n",
      "                    sum_sq     df         F    PR(>F)\n",
      "MRI_LD_Baseline   0.081585    1.0  0.484431  0.487791\n",
      "MRI_LD_1_3dAC     0.019421    1.0  0.115317  0.734774\n",
      "MRI_LD_Int_Reg    0.423490    1.0  2.514580  0.115474\n",
      "MRI_LD_PreSurg    0.143688    1.0  0.853186  0.357537\n",
      "Residual         19.872834  118.0       NaN       NaN\n",
      "---------------------------------------------\n",
      "                    Effect Size\n",
      "Predictor of Alive             \n",
      "MRI_LD_Baseline        0.314555\n",
      "MRI_LD_1_3dAC          0.362579\n",
      "MRI_LD_Int_Reg         0.582373\n",
      "MRI_LD_PreSurg         0.484103\n",
      "\n",
      "\n",
      "\n",
      "Outcome = Alive | PCR = Yes\n",
      "---------------------------------------------\n",
      "                   sum_sq    df         F    PR(>F)\n",
      "MRI_LD_Baseline  0.128853   1.0  1.966383  0.168546\n",
      "MRI_LD_1_3dAC    0.240330   1.0  3.667597  0.062650\n",
      "MRI_LD_Int_Reg   0.543712   1.0  8.297407  0.006352\n",
      "MRI_LD_PreSurg   0.404720   1.0  6.176300  0.017228\n",
      "Residual         2.621118  40.0       NaN       NaN\n",
      "---------------------------------------------\n",
      "                    Effect Size\n",
      "Predictor of Alive             \n",
      "MRI_LD_Baseline        0.597109\n",
      "MRI_LD_1_3dAC          0.037712\n",
      "MRI_LD_Int_Reg         0.804525\n",
      "MRI_LD_PreSurg        -0.234776\n",
      "\n",
      "\n",
      "\n"
     ]
    }
   ],
   "source": [
    "# predictors and outcomes\n",
    "predictors= ['MRI_LD_Baseline', 'MRI_LD_1_3dAC', 'MRI_LD_Int_Reg', 'MRI_LD_PreSurg']\n",
    "\n",
    "# split data and run anova\n",
    "PCR_outcomes = ['No','Yes']\n",
    "\n",
    "for out in PCR_outcomes:\n",
    "    df_by_PCR = df.loc[df.PCR == out,:]\n",
    "    print('Outcome = Alive' + ' | ' + 'PCR = ' + out)\n",
    "    # Anova\n",
    "    anova_table, OLS = inferential_statistics.linear_models(df_by_PCR, 'Alive', predictors);\n",
    "    # Effect Size\n",
    "    print(inferential_statistics.effect_size( df_by_PCR, predictors, 'Alive'))\n",
    "    print('\\n' * 2)"
   ]
  },
  {
   "cell_type": "markdown",
   "metadata": {},
   "source": [
    "### Conclusion "
   ]
  },
  {
   "cell_type": "markdown",
   "metadata": {},
   "source": [
    "1. The largest tumor dimension measured at baseline (`MRI_LD_Baseline`) is not a statistically different between patients who achieved complete pathological response (`PCR`)and those who did not. While all other MRI measurements are statistically different between `PCR = Yes`, and `PCR = No`\n",
    "2. All MRI measurements of the tumor dimension are different between patients who are Alive at the end of the trial and those who did not. These results do not indicate anything about the size of these effects. An statistically significant effect is not always clinically significant\n",
    "3. The estimated effect sizes are very small, and most likley not clinically significant\n"
   ]
  },
  {
   "cell_type": "code",
   "execution_count": 16,
   "metadata": {
    "collapsed": true
   },
   "outputs": [],
   "source": [
    "## 3. Inferential_statistics: Continous vs Categorical (ANOVA)"
   ]
  }
 ],
 "metadata": {
  "anaconda-cloud": {},
  "kernelspec": {
   "display_name": "Python [conda root]",
   "language": "python",
   "name": "conda-root-py"
  },
  "language_info": {
   "codemirror_mode": {
    "name": "ipython",
    "version": 3
   },
   "file_extension": ".py",
   "mimetype": "text/x-python",
   "name": "python",
   "nbconvert_exporter": "python",
   "pygments_lexer": "ipython3",
   "version": "3.5.2"
  }
 },
 "nbformat": 4,
 "nbformat_minor": 2
}
