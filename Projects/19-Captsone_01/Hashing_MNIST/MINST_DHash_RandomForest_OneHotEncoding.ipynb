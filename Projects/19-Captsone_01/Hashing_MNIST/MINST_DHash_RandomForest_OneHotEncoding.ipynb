{
 "cells": [
  {
   "cell_type": "markdown",
   "metadata": {},
   "source": [
    "# Classification of MNIST dataset digits\n",
    "## Labels = 10\n",
    "## Training Samples =  60,000\n",
    "## Testing Samples =   10,000"
   ]
  },
  {
   "cell_type": "code",
   "execution_count": 1,
   "metadata": {
    "collapsed": false
   },
   "outputs": [
    {
     "ename": "SyntaxError",
     "evalue": "invalid syntax (<ipython-input-1-2dbc32e12821>, line 10)",
     "output_type": "error",
     "traceback": [
      "\u001b[0;36m  File \u001b[0;32m\"<ipython-input-1-2dbc32e12821>\"\u001b[0;36m, line \u001b[0;32m10\u001b[0m\n\u001b[0;31m    import matplotlib.pyplot as plt; %matplotlib inline\u001b[0m\n\u001b[0m                                     ^\u001b[0m\n\u001b[0;31mSyntaxError\u001b[0m\u001b[0;31m:\u001b[0m invalid syntax\n"
     ]
    }
   ],
   "source": [
    "# Modules\n",
    "from PIL import Image\n",
    "import dhash\n",
    "import numpy as np\n",
    "import scipy\n",
    "\n",
    "from keras.datasets import mnist\n",
    "from keras import utils\n",
    "\n",
    "import matplotlib.pyplot as plt; %matplotlib inline\n",
    "\n",
    "from scipy.stats import randint as sp_randint\n",
    "from sklearn.model_selection import RandomizedSearchCV, tree, metrics\n",
    "from sklearn.ensemble import RandomForestClassifier\n",
    "\n",
    "\n",
    "np.random.seed(123)  # for reproducibility\n"
   ]
  },
  {
   "cell_type": "markdown",
   "metadata": {},
   "source": [
    "## 2. Load MNIST data from keras"
   ]
  },
  {
   "cell_type": "code",
   "execution_count": null,
   "metadata": {
    "collapsed": false
   },
   "outputs": [],
   "source": [
    "(X_train, Y_train), (X_test, Y_test) = mnist.load_data()"
   ]
  },
  {
   "cell_type": "code",
   "execution_count": null,
   "metadata": {
    "collapsed": false
   },
   "outputs": [],
   "source": [
    "plt.figure(figsize=(5,5))\n",
    "for i in range(9):\n",
    "    plt.subplot(3,3,1+i)\n",
    "    plt.imshow(X_train[i], cmap = 'plasma')\n",
    "    plt.title(  str(Y_train[i])  )"
   ]
  },
  {
   "cell_type": "markdown",
   "metadata": {},
   "source": [
    "## 3. Image Hashing on rows and columns  for training set"
   ]
  },
  {
   "cell_type": "code",
   "execution_count": null,
   "metadata": {
    "collapsed": false
   },
   "outputs": [],
   "source": [
    "# size of image and output format\n",
    "size = 9\n",
    "format_ = '0' + str(size**2) + 'b'\n",
    "X = X_train\n",
    "\n",
    "#preallocate\n",
    "X_train_hashed = np.zeros((X.shape[0], size**2 * 2));\n",
    "\n",
    "for idx , Img in enumerate(X):\n",
    "    row, col = dhash.dhash_row_col( Image.fromarray(Img) , size = size)\n",
    "    hash_ = format(row, format_) + format(col, format_)\n",
    "    # hash_ is string\n",
    "    for colidx,num in enumerate(hash_):\n",
    "        X_train_hashed[idx,colidx] = int(num)"
   ]
  },
  {
   "cell_type": "markdown",
   "metadata": {},
   "source": [
    "## 4. Image Hashing on rows and columns  for training set"
   ]
  },
  {
   "cell_type": "code",
   "execution_count": null,
   "metadata": {
    "collapsed": false
   },
   "outputs": [],
   "source": [
    "X = X_test\n",
    "\n",
    "X_test_hashed = np.zeros((X.shape[0], size**2 * 2));\n",
    "\n",
    "for idx , Img in enumerate(X):\n",
    "    row, col = dhash.dhash_row_col( Image.fromarray(Img) , size = size)\n",
    "    hash_ = format(row, format_) + format(col, format_)\n",
    "    \n",
    "    # hash_ is string\n",
    "    for col,num in enumerate(hash_):\n",
    "        X_test_hashed[idx,col] = int(num)"
   ]
  },
  {
   "cell_type": "markdown",
   "metadata": {},
   "source": [
    "## 5. Default outcome encoding and random forest classifier"
   ]
  },
  {
   "cell_type": "code",
   "execution_count": null,
   "metadata": {
    "collapsed": false
   },
   "outputs": [],
   "source": [
    "Yreal = Y_test\n",
    "ytrain = Y_train\n",
    "\n",
    "# train\n",
    "RFC = RandomForestClassifier(n_estimators=100)\n",
    "RFC = RFC.fit(X_train_hashed, ytrain)\n",
    "\n",
    "# predict\n",
    "y_pred = RFC.predict(X_test_hashed)\n",
    "\n",
    "# evaluate\n",
    "print(\"Classification Report:\\n%s\" % metrics.classification_report(Yreal, y_pred))"
   ]
  },
  {
   "cell_type": "markdown",
   "metadata": {},
   "source": [
    "## 6. OneHot outcome encoding and random forest classifier"
   ]
  },
  {
   "cell_type": "code",
   "execution_count": null,
   "metadata": {
    "collapsed": false
   },
   "outputs": [],
   "source": [
    "Yreal = utils.to_categorical(Y_test)\n",
    "ytrain = utils.to_categorical(Y_train)\n",
    "\n",
    "# train\n",
    "RFC = RandomForestClassifier(n_estimators=100)\n",
    "RFC = RFC.fit(X_train_hashed, ytrain)\n",
    "\n",
    "# predict\n",
    "y_pred = RFC.predict(X_test_hashed)\n",
    "\n",
    "# evaluate\n",
    "print(\"Classification Report:\\n%s\" % metrics.classification_report(Yreal, y_pred))"
   ]
  },
  {
   "cell_type": "code",
   "execution_count": null,
   "metadata": {
    "collapsed": true
   },
   "outputs": [],
   "source": []
  },
  {
   "cell_type": "code",
   "execution_count": null,
   "metadata": {
    "collapsed": true
   },
   "outputs": [],
   "source": []
  }
 ],
 "metadata": {
  "anaconda-cloud": {},
  "kernelspec": {
   "display_name": "Python [conda root]",
   "language": "python",
   "name": "conda-root-py"
  },
  "language_info": {
   "codemirror_mode": {
    "name": "ipython",
    "version": 3
   },
   "file_extension": ".py",
   "mimetype": "text/x-python",
   "name": "python",
   "nbconvert_exporter": "python",
   "pygments_lexer": "ipython3",
   "version": "3.5.2"
  }
 },
 "nbformat": 4,
 "nbformat_minor": 2
}
