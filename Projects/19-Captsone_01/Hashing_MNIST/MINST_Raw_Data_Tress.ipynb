{
 "cells": [
  {
   "cell_type": "markdown",
   "metadata": {},
   "source": [
    "# Classification of MNIST dataset digits\n",
    "## Labels = 10\n",
    "## Training Samples =  60,000\n",
    "## Testing Samples =   10,000"
   ]
  },
  {
   "cell_type": "code",
   "execution_count": 1,
   "metadata": {
    "collapsed": false
   },
   "outputs": [
    {
     "name": "stderr",
     "output_type": "stream",
     "text": [
      "Using Theano backend.\n"
     ]
    }
   ],
   "source": [
    "# Modules\n",
    "import numpy as np\n",
    "from keras.datasets import mnist\n",
    "from sklearn import preprocessing\n",
    "from sklearn import tree\n",
    "from sklearn import metrics\n",
    "import matplotlib.pyplot as plt\n",
    "import pandas as pd\n",
    "%matplotlib inline\n",
    "np.random.seed(123)  # for reproducibility"
   ]
  },
  {
   "cell_type": "code",
   "execution_count": 13,
   "metadata": {
    "collapsed": true
   },
   "outputs": [],
   "source": [
    "# get data from Keras\n",
    "(X_train, Y_train), (X_test, Y_test) = mnist.load_data()\n",
    "# normalize\n",
    "#X_train = X_train.astype('float32')\n",
    "#X_test = X_test.astype('float32')\n",
    "#X_train /= 255\n",
    "#X_test /= 255"
   ]
  },
  {
   "cell_type": "code",
   "execution_count": 14,
   "metadata": {
    "collapsed": false
   },
   "outputs": [
    {
     "data": {
      "image/png": "[encoded data removed]",
      "text/plain": [
       "<matplotlib.figure.Figure at 0x149dc3780>"
      ]
     },
     "metadata": {},
     "output_type": "display_data"
    }
   ],
   "source": [
    "# % Percent of each digit relative to the data set\n",
    "df = pd.DataFrame(Y_train, columns=['Digit'])\n",
    "f = lambda x: 100 * x /len(df)\n",
    "s = df['Digit'].value_counts().sort_index().apply(f).plot.barh(); plt.ylabel('Digit') ; plt.xlabel('%');"
   ]
  },
  {
   "cell_type": "code",
   "execution_count": 15,
   "metadata": {
    "collapsed": false
   },
   "outputs": [],
   "source": [
    "# prepare data for classification\n",
    "# Note: I am transforming each 28*28 image into a 1 X 784 vector\n",
    "X_train_matrix = np.zeros( (X_train.shape[0], X_train.shape[1] * X_train.shape[2]))\n",
    "X_test_matrix = np.zeros( (X_test.shape[0], X_test.shape[1] * X_test.shape[2]))\n",
    "\n",
    "for idx, I in enumerate(X_train):\n",
    "    X_train_matrix[idx,:] = I.flatten()\n",
    "    \n",
    "for idx, I in enumerate(X_test):\n",
    "    X_test_matrix[idx,:] = I.flatten()"
   ]
  },
  {
   "cell_type": "markdown",
   "metadata": {},
   "source": [
    "### Decision Tree Classifier"
   ]
  },
  {
   "cell_type": "code",
   "execution_count": 16,
   "metadata": {
    "collapsed": false
   },
   "outputs": [],
   "source": [
    "# Decision Tree Classifier\n",
    "clasifier = tree.DecisionTreeClassifier()\n",
    "clasifier = clasifier.fit(X_train_matrix, Y_train)\n",
    "y_pred = clasifier.predict(X_test_matrix)"
   ]
  },
  {
   "cell_type": "code",
   "execution_count": 17,
   "metadata": {
    "collapsed": false
   },
   "outputs": [
    {
     "name": "stdout",
     "output_type": "stream",
     "text": [
      "Classification Report:\n",
      "             precision    recall  f1-score   support\n",
      "\n",
      "          0       0.91      0.94      0.93       980\n",
      "          1       0.95      0.96      0.95      1135\n",
      "          2       0.87      0.85      0.86      1032\n",
      "          3       0.83      0.85      0.84      1010\n",
      "          4       0.87      0.88      0.88       982\n",
      "          5       0.84      0.83      0.84       892\n",
      "          6       0.90      0.89      0.90       958\n",
      "          7       0.93      0.90      0.91      1028\n",
      "          8       0.82      0.81      0.81       974\n",
      "          9       0.86      0.86      0.86      1009\n",
      "\n",
      "avg / total       0.88      0.88      0.88     10000\n",
      "\n"
     ]
    }
   ],
   "source": [
    "print(\"Classification Report:\\n%s\" % metrics.classification_report(Y_test, y_pred))"
   ]
  },
  {
   "cell_type": "code",
   "execution_count": 7,
   "metadata": {
    "collapsed": false
   },
   "outputs": [
    {
     "name": "stdout",
     "output_type": "stream",
     "text": [
      "Cohen's Kappa score:\n",
      "0.863945244008\n"
     ]
    }
   ],
   "source": [
    "print(\"Cohen's Kappa score:\\n%s\" % metrics.cohen_kappa_score(Y_test, y_pred))"
   ]
  },
  {
   "cell_type": "code",
   "execution_count": 8,
   "metadata": {
    "collapsed": false
   },
   "outputs": [
    {
     "name": "stdout",
     "output_type": "stream",
     "text": [
      "Hamming Loss:\n",
      "0.1224\n"
     ]
    }
   ],
   "source": [
    "print(\"Hamming Loss:\\n%s\" % metrics.hamming_loss(Y_test, y_pred))"
   ]
  },
  {
   "cell_type": "markdown",
   "metadata": {},
   "source": [
    "### RandomForestClassifier"
   ]
  },
  {
   "cell_type": "code",
   "execution_count": 9,
   "metadata": {
    "collapsed": false
   },
   "outputs": [],
   "source": [
    "from sklearn.ensemble import RandomForestClassifier\n",
    "RFC = RandomForestClassifier(n_estimators=10)\n",
    "RFC = RFC.fit(X_train_matrix, Y_train)\n",
    "y_pred = RFC.predict(X_test_matrix)"
   ]
  },
  {
   "cell_type": "code",
   "execution_count": 10,
   "metadata": {
    "collapsed": false
   },
   "outputs": [
    {
     "name": "stdout",
     "output_type": "stream",
     "text": [
      "Classification Report:\n",
      "             precision    recall  f1-score   support\n",
      "\n",
      "          0       0.94      0.99      0.97       980\n",
      "          1       0.97      0.99      0.98      1135\n",
      "          2       0.92      0.94      0.93      1032\n",
      "          3       0.92      0.93      0.93      1010\n",
      "          4       0.95      0.95      0.95       982\n",
      "          5       0.94      0.93      0.94       892\n",
      "          6       0.97      0.96      0.96       958\n",
      "          7       0.96      0.95      0.95      1028\n",
      "          8       0.95      0.91      0.93       974\n",
      "          9       0.94      0.92      0.93      1009\n",
      "\n",
      "avg / total       0.95      0.95      0.95     10000\n",
      "\n"
     ]
    }
   ],
   "source": [
    "print(\"Classification Report:\\n%s\" % metrics.classification_report(Y_test, y_pred))"
   ]
  },
  {
   "cell_type": "code",
   "execution_count": 11,
   "metadata": {
    "collapsed": false
   },
   "outputs": [
    {
     "name": "stdout",
     "output_type": "stream",
     "text": [
      "Cohen's Kappa score:\n",
      "0.941085043861\n"
     ]
    }
   ],
   "source": [
    "print(\"Cohen's Kappa score:\\n%s\" % metrics.cohen_kappa_score(Y_test, y_pred))"
   ]
  },
  {
   "cell_type": "code",
   "execution_count": 12,
   "metadata": {
    "collapsed": false
   },
   "outputs": [
    {
     "name": "stdout",
     "output_type": "stream",
     "text": [
      "Hamming Loss:\n",
      "0.053\n"
     ]
    }
   ],
   "source": [
    "print(\"Hamming Loss:\\n%s\" % metrics.hamming_loss(Y_test, y_pred))"
   ]
  }
 ],
 "metadata": {
  "anaconda-cloud": {},
  "kernelspec": {
   "display_name": "Python [conda root]",
   "language": "python",
   "name": "conda-root-py"
  },
  "language_info": {
   "codemirror_mode": {
    "name": "ipython",
    "version": 3
   },
   "file_extension": ".py",
   "mimetype": "text/x-python",
   "name": "python",
   "nbconvert_exporter": "python",
   "pygments_lexer": "ipython3",
   "version": "3.5.2"
  }
 },
 "nbformat": 4,
 "nbformat_minor": 2
}
