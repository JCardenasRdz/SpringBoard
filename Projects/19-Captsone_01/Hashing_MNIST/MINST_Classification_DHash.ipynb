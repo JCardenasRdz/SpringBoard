{
 "cells": [
  {
   "cell_type": "markdown",
   "metadata": {},
   "source": [
    "# Classification of MNIST dataset digits\n",
    "## Labels = 10\n",
    "## Training Samples =  60,000\n",
    "## Testing Samples =   10,000"
   ]
  },
  {
   "cell_type": "code",
   "execution_count": 1,
   "metadata": {
    "collapsed": false
   },
   "outputs": [
    {
     "name": "stderr",
     "output_type": "stream",
     "text": [
      "Using Theano backend.\n"
     ]
    }
   ],
   "source": [
    "# Modules\n",
    "from PIL import Image\n",
    "import dhash\n",
    "import numpy as np\n",
    "import scipy\n",
    "from keras.datasets import mnist\n",
    "import sklearn.preprocessing as preproc\n",
    "import matplotlib.pyplot as plt\n",
    "from sklearn import metrics\n",
    "from scipy.stats import randint as sp_randint\n",
    "from sklearn.model_selection import RandomizedSearchCV\n",
    "\n",
    "%matplotlib inline\n",
    "np.random.seed(123)  # for reproducibility\n"
   ]
  },
  {
   "cell_type": "markdown",
   "metadata": {},
   "source": [
    "## 2. Load MNIST data from keras"
   ]
  },
  {
   "cell_type": "code",
   "execution_count": 2,
   "metadata": {
    "collapsed": false
   },
   "outputs": [],
   "source": [
    "(X_train, Y_train), (X_test, Y_test) = mnist.load_data()"
   ]
  },
  {
   "cell_type": "code",
   "execution_count": 3,
   "metadata": {
    "collapsed": false
   },
   "outputs": [
    {
     "data": {
      "text/plain": [
       "(60000, 28, 28)"
      ]
     },
     "execution_count": 3,
     "metadata": {},
     "output_type": "execute_result"
    }
   ],
   "source": [
    "X_train.shape"
   ]
  },
  {
   "cell_type": "code",
   "execution_count": 4,
   "metadata": {
    "collapsed": false
   },
   "outputs": [
    {
     "data": {
      "text/plain": [
       "LabelEncoder()"
      ]
     },
     "execution_count": 4,
     "metadata": {},
     "output_type": "execute_result"
    }
   ],
   "source": [
    "# Label encoder for future use\n",
    "le = preproc.LabelEncoder()\n",
    "labels = [0,1,2,3,4,5,6,7,8,9,'a','b','c','d','e','f']\n",
    "le.fit(labels)"
   ]
  },
  {
   "cell_type": "markdown",
   "metadata": {},
   "source": [
    "## 3. Image Hashing on rows and columns  for training set"
   ]
  },
  {
   "cell_type": "code",
   "execution_count": 5,
   "metadata": {
    "collapsed": false
   },
   "outputs": [
    {
     "name": "stdout",
     "output_type": "stream",
     "text": [
      "CPU times: user 11.6 s, sys: 70.8 ms, total: 11.6 s\n",
      "Wall time: 11.6 s\n"
     ]
    }
   ],
   "source": [
    "%%time\n",
    "# size of image and output format\n",
    "size = 8\n",
    "format_ = '0' + str(size**2) + 'b'\n",
    "X = X_train\n",
    "\n",
    "#preallocate\n",
    "X_train_hashed = np.zeros((X.shape[0], size**2 * 2));\n",
    "\n",
    "for idx , Img in enumerate(X):\n",
    "    row, col = dhash.dhash_row_col( Image.fromarray(Img) , size = size)\n",
    "    hash_ = format(row, format_) + format(col, format_)\n",
    "    # hash_ is string\n",
    "    for colidx,num in enumerate(hash_):\n",
    "        X_train_hashed[idx,colidx] = int(num)"
   ]
  },
  {
   "cell_type": "markdown",
   "metadata": {},
   "source": [
    "## 4. Image Hashing on rows and columns  for training set"
   ]
  },
  {
   "cell_type": "code",
   "execution_count": 6,
   "metadata": {
    "collapsed": false
   },
   "outputs": [
    {
     "name": "stdout",
     "output_type": "stream",
     "text": [
      "CPU times: user 1.86 s, sys: 10.6 ms, total: 1.87 s\n",
      "Wall time: 1.87 s\n"
     ]
    }
   ],
   "source": [
    "%%time\n",
    "\n",
    "X = X_test\n",
    "\n",
    "X_test_hashed = np.zeros((X.shape[0], size**2 * 2));\n",
    "\n",
    "for idx , Img in enumerate(X):\n",
    "    row, col = dhash.dhash_row_col( Image.fromarray(Img) , size = size)\n",
    "    hash_ = format(row, format_) + format(col, format_)\n",
    "    \n",
    "    # hash_ is string\n",
    "    for col,num in enumerate(hash_):\n",
    "        X_test_hashed[idx,col] = int(num)"
   ]
  },
  {
   "cell_type": "markdown",
   "metadata": {},
   "source": [
    "## 5. Classification Tree"
   ]
  },
  {
   "cell_type": "code",
   "execution_count": 7,
   "metadata": {
    "collapsed": false
   },
   "outputs": [
    {
     "name": "stdout",
     "output_type": "stream",
     "text": [
      "CPU times: user 1.87 s, sys: 32.5 ms, total: 1.9 s\n",
      "Wall time: 1.91 s\n"
     ]
    }
   ],
   "source": [
    "%%time \n",
    "from sklearn import tree\n",
    "from sklearn import metrics\n",
    "# cols and rows\n",
    "clasifier = tree.DecisionTreeClassifier()\n",
    "clasifier = clasifier.fit(X_train_hashed, Y_train)\n",
    "y_pred = clasifier.predict(X_test_hashed)\n"
   ]
  },
  {
   "cell_type": "code",
   "execution_count": 8,
   "metadata": {
    "collapsed": false
   },
   "outputs": [
    {
     "name": "stdout",
     "output_type": "stream",
     "text": [
      "Classification Report:\n",
      "             precision    recall  f1-score   support\n",
      "\n",
      "          0       0.92      0.91      0.92       980\n",
      "          1       0.95      0.96      0.95      1135\n",
      "          2       0.84      0.81      0.83      1032\n",
      "          3       0.79      0.80      0.80      1010\n",
      "          4       0.83      0.84      0.83       982\n",
      "          5       0.79      0.79      0.79       892\n",
      "          6       0.89      0.87      0.88       958\n",
      "          7       0.85      0.85      0.85      1028\n",
      "          8       0.76      0.75      0.76       974\n",
      "          9       0.80      0.82      0.81      1009\n",
      "\n",
      "avg / total       0.84      0.84      0.84     10000\n",
      "\n",
      "Cohen kappa Score:\n",
      "0.825149360018\n",
      "Hamming Loss Score:\n",
      "0.1573\n"
     ]
    }
   ],
   "source": [
    "print(\"Classification Report:\\n%s\" % metrics.classification_report(Y_test, y_pred))\n",
    "print(\"Cohen kappa Score:\\n%s\" % metrics.cohen_kappa_score(Y_test, y_pred))\n",
    "print(\"Hamming Loss Score:\\n%s\" % metrics.hamming_loss(Y_test, y_pred))"
   ]
  },
  {
   "cell_type": "markdown",
   "metadata": {},
   "source": [
    "## 6. Random Tree"
   ]
  },
  {
   "cell_type": "code",
   "execution_count": 9,
   "metadata": {
    "collapsed": true
   },
   "outputs": [],
   "source": [
    "from sklearn.ensemble import RandomForestClassifier\n",
    "RFC = RandomForestClassifier(n_estimators=10)\n",
    "RFC = RFC.fit(X_train_hashed, Y_train)\n",
    "y_pred = RFC.predict(X_test_hashed)"
   ]
  },
  {
   "cell_type": "code",
   "execution_count": 10,
   "metadata": {
    "collapsed": false
   },
   "outputs": [
    {
     "name": "stdout",
     "output_type": "stream",
     "text": [
      "Classification Report:\n",
      "             precision    recall  f1-score   support\n",
      "\n",
      "          0       0.92      0.98      0.95       980\n",
      "          1       0.97      0.98      0.98      1135\n",
      "          2       0.91      0.93      0.92      1032\n",
      "          3       0.88      0.91      0.89      1010\n",
      "          4       0.92      0.91      0.91       982\n",
      "          5       0.91      0.88      0.89       892\n",
      "          6       0.95      0.95      0.95       958\n",
      "          7       0.94      0.92      0.93      1028\n",
      "          8       0.90      0.86      0.88       974\n",
      "          9       0.92      0.88      0.90      1009\n",
      "\n",
      "avg / total       0.92      0.92      0.92     10000\n",
      "\n"
     ]
    }
   ],
   "source": [
    "Yreal = Y_test\n",
    "print(\"Classification Report:\\n%s\" % metrics.classification_report(Yreal, y_pred))"
   ]
  },
  {
   "cell_type": "code",
   "execution_count": 16,
   "metadata": {
    "collapsed": false
   },
   "outputs": [
    {
     "name": "stdout",
     "output_type": "stream",
     "text": [
      "Fitting 3 folds for each of 100 candidates, totalling 300 fits\n"
     ]
    },
    {
     "name": "stderr",
     "output_type": "stream",
     "text": [
      "[Parallel(n_jobs=-1)]: Done  34 tasks      | elapsed:    7.4s\n",
      "[Parallel(n_jobs=-1)]: Done 184 tasks      | elapsed:   36.3s\n",
      "[Parallel(n_jobs=-1)]: Done 300 out of 300 | elapsed:   58.6s finished\n"
     ]
    }
   ],
   "source": [
    "param_grid = {'n_estimators':sp_randint(2, 10)}\n",
    "RFC = RandomForestClassifier()\n",
    "clf = RandomizedSearchCV(RFC, param_grid, n_jobs=-1, verbose=1, cv = 3, n_iter = 100)\n",
    "clf.fit(X_train_hashed, Y_train);"
   ]
  },
  {
   "cell_type": "code",
   "execution_count": 17,
   "metadata": {
    "collapsed": false
   },
   "outputs": [
    {
     "name": "stdout",
     "output_type": "stream",
     "text": [
      "Classification Report:\n",
      "             precision    recall  f1-score   support\n",
      "\n",
      "          0       0.91      0.97      0.94       980\n",
      "          1       0.97      0.98      0.98      1135\n",
      "          2       0.90      0.93      0.91      1032\n",
      "          3       0.88      0.92      0.90      1010\n",
      "          4       0.91      0.91      0.91       982\n",
      "          5       0.90      0.89      0.89       892\n",
      "          6       0.95      0.94      0.94       958\n",
      "          7       0.94      0.91      0.92      1028\n",
      "          8       0.92      0.84      0.88       974\n",
      "          9       0.92      0.89      0.90      1009\n",
      "\n",
      "avg / total       0.92      0.92      0.92     10000\n",
      "\n",
      "Cohen kappa Score:\n",
      "0.910293193524\n",
      "Hamming Loss Score:\n",
      "0.0807\n"
     ]
    }
   ],
   "source": [
    "y_pred = clf.predict(X_test_hashed)\n",
    "print(\"Classification Report:\\n%s\" % metrics.classification_report(Y_test, y_pred))\n",
    "print(\"Cohen kappa Score:\\n%s\" % metrics.cohen_kappa_score(Y_test, y_pred))\n",
    "print(\"Hamming Loss Score:\\n%s\" % metrics.hamming_loss(Y_test, y_pred))"
   ]
  },
  {
   "cell_type": "code",
   "execution_count": null,
   "metadata": {
    "collapsed": true
   },
   "outputs": [],
   "source": []
  }
 ],
 "metadata": {
  "anaconda-cloud": {},
  "kernelspec": {
   "display_name": "Python [conda root]",
   "language": "python",
   "name": "conda-root-py"
  },
  "language_info": {
   "codemirror_mode": {
    "name": "ipython",
    "version": 3
   },
   "file_extension": ".py",
   "mimetype": "text/x-python",
   "name": "python",
   "nbconvert_exporter": "python",
   "pygments_lexer": "ipython3",
   "version": "3.5.2"
  }
 },
 "nbformat": 4,
 "nbformat_minor": 2
}
