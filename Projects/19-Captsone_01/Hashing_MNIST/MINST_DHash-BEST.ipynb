{
 "cells": [
  {
   "cell_type": "markdown",
   "metadata": {},
   "source": [
    "# Classification of MNIST dataset digits\n",
    "## Labels = 10\n",
    "## Training Samples =  60,000\n",
    "## Testing Samples =   10,000"
   ]
  },
  {
   "cell_type": "code",
   "execution_count": 10,
   "metadata": {
    "collapsed": false
   },
   "outputs": [],
   "source": [
    "# Modules\n",
    "from PIL import Image\n",
    "import dhash\n",
    "import numpy as np\n",
    "import scipy\n",
    "from keras.datasets import mnist\n",
    "import sklearn.preprocessing as preproc\n",
    "import matplotlib.pyplot as plt\n",
    "from sklearn import metrics\n",
    "from scipy.stats import randint as sp_randint\n",
    "from sklearn.model_selection import RandomizedSearchCV\n",
    "from keras.utils import to_categorical \n",
    "\n",
    "\n",
    "%matplotlib inline\n",
    "np.random.seed(123)  # for reproducibility\n"
   ]
  },
  {
   "cell_type": "markdown",
   "metadata": {},
   "source": [
    "## 2. Load MNIST data from keras"
   ]
  },
  {
   "cell_type": "code",
   "execution_count": 27,
   "metadata": {
    "collapsed": false
   },
   "outputs": [],
   "source": [
    "(X_train, Y_train), (X_test, Y_test) = mnist.load_data()"
   ]
  },
  {
   "cell_type": "code",
   "execution_count": 49,
   "metadata": {
    "collapsed": false
   },
   "outputs": [],
   "source": [
    "num_classes = 10\n",
    "# convert class vectors to binary class matrices\n",
    "Y_train_one_hot = to_categorical(Y_train, num_classes)\n",
    "Y_test_one_hot = to_categorical(Y_test, num_classes)\n",
    "\n",
    "def one_hot_to_class(categorical_matrix):\n",
    "    ypred_number = np.zeros( ( categorical_matrix.shape[0], 1))\n",
    "    for idx, binary_code in enumerate(categorical_matrix):\n",
    "        ypred_number[idx,0] = np.argmax(binary_code)\n",
    "    return ypred_number\n",
    "    "
   ]
  },
  {
   "cell_type": "markdown",
   "metadata": {},
   "source": [
    "## 3. Image Hashing on rows and columns  for training set"
   ]
  },
  {
   "cell_type": "code",
   "execution_count": 5,
   "metadata": {
    "collapsed": false
   },
   "outputs": [
    {
     "name": "stdout",
     "output_type": "stream",
     "text": [
      "CPU times: user 11 s, sys: 47.7 ms, total: 11 s\n",
      "Wall time: 11 s\n"
     ]
    }
   ],
   "source": [
    "%%time\n",
    "# size of image and output format\n",
    "size = 8\n",
    "format_ = '0' + str(size**2) + 'b'\n",
    "X = X_train\n",
    "\n",
    "#preallocate\n",
    "X_train_hashed = np.zeros((X.shape[0], size**2 * 2));\n",
    "\n",
    "for idx , Img in enumerate(X):\n",
    "    row, col = dhash.dhash_row_col( Image.fromarray(Img) , size = size)\n",
    "    hash_ = format(row, format_) + format(col, format_)\n",
    "    # hash_ is string\n",
    "    for colidx,num in enumerate(hash_):\n",
    "        X_train_hashed[idx,colidx] = int(num)"
   ]
  },
  {
   "cell_type": "markdown",
   "metadata": {},
   "source": [
    "## 4. Image Hashing on rows and columns  for training set"
   ]
  },
  {
   "cell_type": "code",
   "execution_count": 6,
   "metadata": {
    "collapsed": false
   },
   "outputs": [
    {
     "name": "stdout",
     "output_type": "stream",
     "text": [
      "CPU times: user 1.89 s, sys: 12.6 ms, total: 1.91 s\n",
      "Wall time: 1.9 s\n"
     ]
    }
   ],
   "source": [
    "%%time\n",
    "\n",
    "X = X_test\n",
    "\n",
    "X_test_hashed = np.zeros((X.shape[0], size**2 * 2));\n",
    "\n",
    "for idx , Img in enumerate(X):\n",
    "    row, col = dhash.dhash_row_col( Image.fromarray(Img) , size = size)\n",
    "    hash_ = format(row, format_) + format(col, format_)\n",
    "    \n",
    "    # hash_ is string\n",
    "    for col,num in enumerate(hash_):\n",
    "        X_test_hashed[idx,col] = int(num)"
   ]
  },
  {
   "cell_type": "markdown",
   "metadata": {},
   "source": [
    "## 5. Classification Tree"
   ]
  },
  {
   "cell_type": "code",
   "execution_count": 50,
   "metadata": {
    "collapsed": false
   },
   "outputs": [
    {
     "name": "stdout",
     "output_type": "stream",
     "text": [
      "CPU times: user 3.43 s, sys: 22.7 ms, total: 3.45 s\n",
      "Wall time: 3.45 s\n"
     ]
    }
   ],
   "source": [
    "%%time \n",
    "from sklearn import tree\n",
    "from sklearn import metrics\n",
    "# cols and rows\n",
    "clasifier = tree.DecisionTreeClassifier()\n",
    "clasifier = clasifier.fit(X_train_hashed, Y_train_one_hot)\n",
    "y_pred = clasifier.predict(X_test_hashed)\n",
    "y_pred2 = one_hot_to_class(y_pred)"
   ]
  },
  {
   "cell_type": "code",
   "execution_count": 52,
   "metadata": {
    "collapsed": false
   },
   "outputs": [
    {
     "name": "stdout",
     "output_type": "stream",
     "text": [
      "Classification Report:\n",
      "             precision    recall  f1-score   support\n",
      "\n",
      "          0       0.91      0.92      0.91       980\n",
      "          1       0.95      0.97      0.96      1135\n",
      "          2       0.83      0.82      0.82      1032\n",
      "          3       0.80      0.81      0.80      1010\n",
      "          4       0.83      0.84      0.84       982\n",
      "          5       0.81      0.79      0.80       892\n",
      "          6       0.90      0.86      0.88       958\n",
      "          7       0.86      0.85      0.85      1028\n",
      "          8       0.76      0.76      0.76       974\n",
      "          9       0.79      0.82      0.80      1009\n",
      "\n",
      "avg / total       0.84      0.84      0.84     10000\n",
      "\n"
     ]
    }
   ],
   "source": [
    "\n",
    "print(\"Classification Report:\\n%s\" % metrics.classification_report(Y_test_one_hot, y_pred))\n",
    "#print(\"Cohen kappa Score:\\n%s\" % metrics.cohen_kappa_score(Y_test, y_pred))\n",
    "#print(\"Hamming Loss Score:\\n%s\" % metrics.hamming_loss(Y_test, y_pred))"
   ]
  },
  {
   "cell_type": "code",
   "execution_count": 54,
   "metadata": {
    "collapsed": false
   },
   "outputs": [
    {
     "name": "stdout",
     "output_type": "stream",
     "text": [
      "Classification Report:\n",
      "             precision    recall  f1-score   support\n",
      "\n",
      "          0       0.91      0.92      0.91       980\n",
      "          1       0.95      0.97      0.96      1135\n",
      "          2       0.83      0.82      0.82      1032\n",
      "          3       0.80      0.81      0.80      1010\n",
      "          4       0.83      0.84      0.84       982\n",
      "          5       0.81      0.79      0.80       892\n",
      "          6       0.90      0.86      0.88       958\n",
      "          7       0.86      0.85      0.85      1028\n",
      "          8       0.76      0.76      0.76       974\n",
      "          9       0.79      0.82      0.80      1009\n",
      "\n",
      "avg / total       0.84      0.84      0.84     10000\n",
      "\n",
      "Cohen kappa Score:\n",
      "0.827032057074\n",
      "Hamming Loss Score:\n",
      "0.1556\n"
     ]
    }
   ],
   "source": [
    "# using original encoding for the output\n",
    "print(\"Classification Report:\\n%s\" % metrics.classification_report(Y_test, y_pred2))\n",
    "print(\"Cohen kappa Score:\\n%s\" % metrics.cohen_kappa_score(Y_test, y_pred2))\n",
    "print(\"Hamming Loss Score:\\n%s\" % metrics.hamming_loss(Y_test, y_pred2))"
   ]
  },
  {
   "cell_type": "markdown",
   "metadata": {},
   "source": [
    "## 6. Random Tree"
   ]
  },
  {
   "cell_type": "code",
   "execution_count": 55,
   "metadata": {
    "collapsed": false
   },
   "outputs": [],
   "source": [
    "from sklearn.ensemble import RandomForestClassifier\n",
    "RFC = RandomForestClassifier(n_estimators=10)\n",
    "RFC = RFC.fit(X_train_hashed, Y_train_one_hot)\n",
    "y_pred = RFC.predict(X_test_hashed)"
   ]
  },
  {
   "cell_type": "code",
   "execution_count": 57,
   "metadata": {
    "collapsed": false
   },
   "outputs": [
    {
     "name": "stdout",
     "output_type": "stream",
     "text": [
      "Classification Report:\n",
      "             precision    recall  f1-score   support\n",
      "\n",
      "          0       0.37      1.00      0.54       980\n",
      "          1       1.00      0.96      0.98      1135\n",
      "          2       0.98      0.80      0.88      1032\n",
      "          3       0.98      0.78      0.87      1010\n",
      "          4       0.99      0.76      0.86       982\n",
      "          5       0.98      0.74      0.84       892\n",
      "          6       0.99      0.88      0.93       958\n",
      "          7       0.98      0.81      0.89      1028\n",
      "          8       0.98      0.69      0.81       974\n",
      "          9       0.97      0.76      0.85      1009\n",
      "\n",
      "avg / total       0.92      0.82      0.85     10000\n",
      "\n",
      "Cohen kappa Score:\n",
      "0.799953495856\n",
      "Hamming Loss Score:\n",
      "0.18\n"
     ]
    }
   ],
   "source": [
    "Yreal = Y_test\n",
    "Ypred = one_hot_to_class(y_pred)\n",
    "print(\"Classification Report:\\n%s\" % metrics.classification_report(Y_test, Ypred))\n",
    "print(\"Cohen kappa Score:\\n%s\" % metrics.cohen_kappa_score(Y_test, Ypred))\n",
    "print(\"Hamming Loss Score:\\n%s\" % metrics.hamming_loss(Y_test, Ypred))"
   ]
  },
  {
   "cell_type": "code",
   "execution_count": 71,
   "metadata": {
    "collapsed": false
   },
   "outputs": [
    {
     "data": {
      "text/plain": [
       "(10000, 2)"
      ]
     },
     "execution_count": 71,
     "metadata": {},
     "output_type": "execute_result"
    }
   ],
   "source": [
    "prob = RFC.predict_proba(X_test_hashed)\n",
    "prob[3].shape"
   ]
  },
  {
   "cell_type": "code",
   "execution_count": 42,
   "metadata": {
    "collapsed": false
   },
   "outputs": [
    {
     "data": {
      "text/plain": [
       "array([[ 7.],\n",
       "       [ 0.],\n",
       "       [ 1.],\n",
       "       ..., \n",
       "       [ 4.],\n",
       "       [ 0.],\n",
       "       [ 6.]])"
      ]
     },
     "execution_count": 42,
     "metadata": {},
     "output_type": "execute_result"
    }
   ],
   "source": [
    "ypred_number"
   ]
  },
  {
   "cell_type": "code",
   "execution_count": null,
   "metadata": {
    "collapsed": true
   },
   "outputs": [],
   "source": [
    "y_pred.shape"
   ]
  },
  {
   "cell_type": "code",
   "execution_count": null,
   "metadata": {
    "collapsed": true
   },
   "outputs": [],
   "source": []
  },
  {
   "cell_type": "code",
   "execution_count": null,
   "metadata": {
    "collapsed": false
   },
   "outputs": [],
   "source": [
    "param_grid = {'n_estimators':sp_randint(2, X_train_hashed.shape[1])}\n",
    "RFC = RandomForestClassifier()\n",
    "clf = RandomizedSearchCV(RFC, param_grid, n_jobs=-1, verbose=1, cv = 2)\n",
    "clf.fit(X_train_hashed, Y_train_hot)"
   ]
  },
  {
   "cell_type": "code",
   "execution_count": null,
   "metadata": {
    "collapsed": false
   },
   "outputs": [],
   "source": [
    "y_pred = clf.predict(X_test_hashed)\n",
    "print(\"Classification Report:\\n%s\" % metrics.classification_report(Y_test, y_pred))\n",
    "print(\"Cohen kappa Score:\\n%s\" % metrics.cohen_kappa_score(Y_test, y_pred))\n",
    "print(\"Hamming Loss Score:\\n%s\" % metrics.hamming_loss(Y_test, y_pred))"
   ]
  },
  {
   "cell_type": "code",
   "execution_count": null,
   "metadata": {
    "collapsed": true
   },
   "outputs": [],
   "source": []
  }
 ],
 "metadata": {
  "anaconda-cloud": {},
  "kernelspec": {
   "display_name": "Python [conda root]",
   "language": "python",
   "name": "conda-root-py"
  },
  "language_info": {
   "codemirror_mode": {
    "name": "ipython",
    "version": 3
   },
   "file_extension": ".py",
   "mimetype": "text/x-python",
   "name": "python",
   "nbconvert_exporter": "python",
   "pygments_lexer": "ipython3",
   "version": "3.5.2"
  }
 },
 "nbformat": 4,
 "nbformat_minor": 2
}
