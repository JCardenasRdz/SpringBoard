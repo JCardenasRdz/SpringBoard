{
 "cells": [
  {
   "cell_type": "markdown",
   "metadata": {},
   "source": [
    "<h1><center> Predictive statistics on the I-SPY1 Clinical Trial</center></h1>"
   ]
  },
  {
   "cell_type": "code",
   "execution_count": 1,
   "metadata": {
    "collapsed": false
   },
   "outputs": [
    {
     "name": "stderr",
     "output_type": "stream",
     "text": [
      "/Users/Julio/anaconda/lib/python3.5/site-packages/statsmodels/compat/pandas.py:56: FutureWarning: The pandas.core.datetools module is deprecated and will be removed in a future version. Please use the pandas.tseries module instead.\n",
      "  from pandas.core import datetools\n"
     ]
    }
   ],
   "source": [
    "# import custom modules wrote by julio\n",
    "import importlib\n",
    "import seaborn as sns\n",
    "%matplotlib inline\n",
    "from capstone_01 import clean_data\n",
    "from capstone_01 import inferential_statistics\n",
    "\n",
    "# reload modules without restartign the kernel (makes development easier)\n",
    "importlib.reload(clean_data);\n",
    "importlib.reload(inferential_statistics);"
   ]
  },
  {
   "cell_type": "markdown",
   "metadata": {},
   "source": [
    "### 0. Clean and load data"
   ]
  },
  {
   "cell_type": "code",
   "execution_count": 2,
   "metadata": {
    "collapsed": false
   },
   "outputs": [
    {
     "data": {
      "text/html": [
       "<div>\n",
       "<style>\n",
       "    .dataframe thead tr:only-child th {\n",
       "        text-align: right;\n",
       "    }\n",
       "\n",
       "    .dataframe thead th {\n",
       "        text-align: left;\n",
       "    }\n",
       "\n",
       "    .dataframe tbody tr th {\n",
       "        vertical-align: top;\n",
       "    }\n",
       "</style>\n",
       "<table border=\"1\" class=\"dataframe\">\n",
       "  <thead>\n",
       "    <tr style=\"text-align: right;\">\n",
       "      <th></th>\n",
       "      <th>age</th>\n",
       "      <th>White</th>\n",
       "      <th>ER+</th>\n",
       "      <th>PR+</th>\n",
       "      <th>HR+</th>\n",
       "      <th>Bilateral</th>\n",
       "      <th>Right_Breast</th>\n",
       "      <th>MRI_LD_Baseline</th>\n",
       "      <th>MRI_LD_1_3dAC</th>\n",
       "      <th>MRI_LD_Int_Reg</th>\n",
       "      <th>MRI_LD_PreSurg</th>\n",
       "      <th>Alive</th>\n",
       "      <th>Survival_length</th>\n",
       "      <th>RFS</th>\n",
       "      <th>RFS_code</th>\n",
       "      <th>PCR</th>\n",
       "      <th>RCB</th>\n",
       "    </tr>\n",
       "    <tr>\n",
       "      <th>SUBJECTID</th>\n",
       "      <th></th>\n",
       "      <th></th>\n",
       "      <th></th>\n",
       "      <th></th>\n",
       "      <th></th>\n",
       "      <th></th>\n",
       "      <th></th>\n",
       "      <th></th>\n",
       "      <th></th>\n",
       "      <th></th>\n",
       "      <th></th>\n",
       "      <th></th>\n",
       "      <th></th>\n",
       "      <th></th>\n",
       "      <th></th>\n",
       "      <th></th>\n",
       "      <th></th>\n",
       "    </tr>\n",
       "  </thead>\n",
       "  <tbody>\n",
       "    <tr>\n",
       "      <th>1001</th>\n",
       "      <td>38.73</td>\n",
       "      <td>Yes</td>\n",
       "      <td>Yes</td>\n",
       "      <td>No</td>\n",
       "      <td>Yes</td>\n",
       "      <td>No</td>\n",
       "      <td>No</td>\n",
       "      <td>88.0</td>\n",
       "      <td>78.0</td>\n",
       "      <td>30.0</td>\n",
       "      <td>14.0</td>\n",
       "      <td>No</td>\n",
       "      <td>1264</td>\n",
       "      <td>751</td>\n",
       "      <td>1</td>\n",
       "      <td>No</td>\n",
       "      <td>2.0</td>\n",
       "    </tr>\n",
       "    <tr>\n",
       "      <th>1002</th>\n",
       "      <td>37.79</td>\n",
       "      <td>Yes</td>\n",
       "      <td>Yes</td>\n",
       "      <td>Yes</td>\n",
       "      <td>Yes</td>\n",
       "      <td>No</td>\n",
       "      <td>Yes</td>\n",
       "      <td>29.0</td>\n",
       "      <td>26.0</td>\n",
       "      <td>66.0</td>\n",
       "      <td>16.0</td>\n",
       "      <td>No</td>\n",
       "      <td>1155</td>\n",
       "      <td>1043</td>\n",
       "      <td>1</td>\n",
       "      <td>No</td>\n",
       "      <td>3.0</td>\n",
       "    </tr>\n",
       "  </tbody>\n",
       "</table>\n",
       "</div>"
      ],
      "text/plain": [
       "             age White  ER+  PR+  HR+ Bilateral Right_Breast  MRI_LD_Baseline  \\\n",
       "SUBJECTID                                                                       \n",
       "1001       38.73   Yes  Yes   No  Yes        No           No             88.0   \n",
       "1002       37.79   Yes  Yes  Yes  Yes        No          Yes             29.0   \n",
       "\n",
       "           MRI_LD_1_3dAC  MRI_LD_Int_Reg  MRI_LD_PreSurg Alive  \\\n",
       "SUBJECTID                                                        \n",
       "1001                78.0            30.0            14.0    No   \n",
       "1002                26.0            66.0            16.0    No   \n",
       "\n",
       "           Survival_length   RFS  RFS_code PCR  RCB  \n",
       "SUBJECTID                                            \n",
       "1001                  1264   751         1  No  2.0  \n",
       "1002                  1155  1043         1  No  3.0  "
      ]
     },
     "execution_count": 2,
     "metadata": {},
     "output_type": "execute_result"
    }
   ],
   "source": [
    "file = './raw_data/clinical/I-SPY_1_All_Patient_Clinical_and_Outcome_Data.xlsx'\n",
    "df = clean_data.clean_my_data(file)\n",
    "df.head(2)"
   ]
  },
  {
   "cell_type": "markdown",
   "metadata": {},
   "source": [
    "# 1. Inferential_statistics: Categorical vs Categorical (Chi-2 test)"
   ]
  },
  {
   "cell_type": "markdown",
   "metadata": {},
   "source": [
    "### 1. 1 Effect of categorical predictors on Pathological complete response (`PCR`)"
   ]
  },
  {
   "cell_type": "code",
   "execution_count": 3,
   "metadata": {
    "collapsed": false
   },
   "outputs": [
    {
     "data": {
      "text/html": [
       "<div>\n",
       "<style>\n",
       "    .dataframe thead tr:only-child th {\n",
       "        text-align: right;\n",
       "    }\n",
       "\n",
       "    .dataframe thead th {\n",
       "        text-align: left;\n",
       "    }\n",
       "\n",
       "    .dataframe tbody tr th {\n",
       "        vertical-align: top;\n",
       "    }\n",
       "</style>\n",
       "<table border=\"1\" class=\"dataframe\">\n",
       "  <thead>\n",
       "    <tr style=\"text-align: right;\">\n",
       "      <th>PCR</th>\n",
       "      <th>Yes</th>\n",
       "      <th>No</th>\n",
       "    </tr>\n",
       "    <tr>\n",
       "      <th>ER+</th>\n",
       "      <th></th>\n",
       "      <th></th>\n",
       "    </tr>\n",
       "  </thead>\n",
       "  <tbody>\n",
       "    <tr>\n",
       "      <th>Yes</th>\n",
       "      <td>17.0</td>\n",
       "      <td>81.0</td>\n",
       "    </tr>\n",
       "    <tr>\n",
       "      <th>No</th>\n",
       "      <td>28.0</td>\n",
       "      <td>42.0</td>\n",
       "    </tr>\n",
       "  </tbody>\n",
       "</table>\n",
       "</div>"
      ],
      "text/plain": [
       "PCR   Yes    No\n",
       "ER+            \n",
       "Yes  17.0  81.0\n",
       "No   28.0  42.0"
      ]
     },
     "execution_count": 3,
     "metadata": {},
     "output_type": "execute_result"
    }
   ],
   "source": [
    "# example of contingency table\n",
    "inferential_statistics.contingency_table('ER+', 'PCR',df)"
   ]
  },
  {
   "cell_type": "code",
   "execution_count": 4,
   "metadata": {
    "collapsed": false
   },
   "outputs": [
    {
     "data": {
      "text/html": [
       "<div>\n",
       "<style>\n",
       "    .dataframe thead tr:only-child th {\n",
       "        text-align: right;\n",
       "    }\n",
       "\n",
       "    .dataframe thead th {\n",
       "        text-align: left;\n",
       "    }\n",
       "\n",
       "    .dataframe tbody tr th {\n",
       "        vertical-align: top;\n",
       "    }\n",
       "</style>\n",
       "<table border=\"1\" class=\"dataframe\">\n",
       "  <thead>\n",
       "    <tr style=\"text-align: right;\">\n",
       "      <th></th>\n",
       "      <th>p-value</th>\n",
       "      <th>Relative_Risk</th>\n",
       "      <th>RR_lb</th>\n",
       "      <th>RR_ub</th>\n",
       "    </tr>\n",
       "  </thead>\n",
       "  <tbody>\n",
       "    <tr>\n",
       "      <th>White</th>\n",
       "      <td>0.833629</td>\n",
       "      <td>0.8878</td>\n",
       "      <td>0.5076</td>\n",
       "      <td>1.5528</td>\n",
       "    </tr>\n",
       "    <tr>\n",
       "      <th>ER+</th>\n",
       "      <td>0.001988</td>\n",
       "      <td>0.4337</td>\n",
       "      <td>0.2582</td>\n",
       "      <td>0.7285</td>\n",
       "    </tr>\n",
       "    <tr>\n",
       "      <th>PR+</th>\n",
       "      <td>0.000198</td>\n",
       "      <td>0.3219</td>\n",
       "      <td>0.1707</td>\n",
       "      <td>0.6069</td>\n",
       "    </tr>\n",
       "    <tr>\n",
       "      <th>HR+</th>\n",
       "      <td>0.000307</td>\n",
       "      <td>0.3831</td>\n",
       "      <td>0.2286</td>\n",
       "      <td>0.6422</td>\n",
       "    </tr>\n",
       "    <tr>\n",
       "      <th>Right_Breast</th>\n",
       "      <td>0.851883</td>\n",
       "      <td>1.0965</td>\n",
       "      <td>0.6649</td>\n",
       "      <td>1.8080</td>\n",
       "    </tr>\n",
       "  </tbody>\n",
       "</table>\n",
       "</div>"
      ],
      "text/plain": [
       "               p-value  Relative_Risk   RR_lb   RR_ub\n",
       "White         0.833629         0.8878  0.5076  1.5528\n",
       "ER+           0.001988         0.4337  0.2582  0.7285\n",
       "PR+           0.000198         0.3219  0.1707  0.6069\n",
       "HR+           0.000307         0.3831  0.2286  0.6422\n",
       "Right_Breast  0.851883         1.0965  0.6649  1.8080"
      ]
     },
     "execution_count": 4,
     "metadata": {},
     "output_type": "execute_result"
    }
   ],
   "source": [
    "# Perform chi-2 test on all categorical variables\n",
    "predictors = ['White', 'ER+', 'PR+', 'HR+', 'Right_Breast']\n",
    "outcome = 'PCR'\n",
    "inferential_statistics.categorical_data(outcome, predictors, df)"
   ]
  },
  {
   "cell_type": "markdown",
   "metadata": {},
   "source": [
    "<h3><center> 1.1.2 Conclusion: Only `ER+` , `PR+`, and `HR+` have an effect on `PCR`</center></h3>\n"
   ]
  },
  {
   "cell_type": "markdown",
   "metadata": {},
   "source": [
    "### 1. 2 Effect of categorical predictors on Survival (`Alive`)"
   ]
  },
  {
   "cell_type": "code",
   "execution_count": 5,
   "metadata": {
    "collapsed": false
   },
   "outputs": [
    {
     "data": {
      "text/html": [
       "<div>\n",
       "<style>\n",
       "    .dataframe thead tr:only-child th {\n",
       "        text-align: right;\n",
       "    }\n",
       "\n",
       "    .dataframe thead th {\n",
       "        text-align: left;\n",
       "    }\n",
       "\n",
       "    .dataframe tbody tr th {\n",
       "        vertical-align: top;\n",
       "    }\n",
       "</style>\n",
       "<table border=\"1\" class=\"dataframe\">\n",
       "  <thead>\n",
       "    <tr style=\"text-align: right;\">\n",
       "      <th></th>\n",
       "      <th>p-value</th>\n",
       "      <th>Relative_Risk</th>\n",
       "      <th>RR_lb</th>\n",
       "      <th>RR_ub</th>\n",
       "    </tr>\n",
       "  </thead>\n",
       "  <tbody>\n",
       "    <tr>\n",
       "      <th>White</th>\n",
       "      <td>0.439359</td>\n",
       "      <td>1.0935</td>\n",
       "      <td>0.9032</td>\n",
       "      <td>1.3239</td>\n",
       "    </tr>\n",
       "    <tr>\n",
       "      <th>ER+</th>\n",
       "      <td>0.001135</td>\n",
       "      <td>1.3095</td>\n",
       "      <td>1.1025</td>\n",
       "      <td>1.5554</td>\n",
       "    </tr>\n",
       "    <tr>\n",
       "      <th>PR+</th>\n",
       "      <td>0.162557</td>\n",
       "      <td>1.1266</td>\n",
       "      <td>0.9739</td>\n",
       "      <td>1.3031</td>\n",
       "    </tr>\n",
       "    <tr>\n",
       "      <th>HR+</th>\n",
       "      <td>0.038917</td>\n",
       "      <td>1.1950</td>\n",
       "      <td>1.0094</td>\n",
       "      <td>1.4148</td>\n",
       "    </tr>\n",
       "    <tr>\n",
       "      <th>Right_Breast</th>\n",
       "      <td>0.729139</td>\n",
       "      <td>0.9602</td>\n",
       "      <td>0.8287</td>\n",
       "      <td>1.1125</td>\n",
       "    </tr>\n",
       "  </tbody>\n",
       "</table>\n",
       "</div>"
      ],
      "text/plain": [
       "               p-value  Relative_Risk   RR_lb   RR_ub\n",
       "White         0.439359         1.0935  0.9032  1.3239\n",
       "ER+           0.001135         1.3095  1.1025  1.5554\n",
       "PR+           0.162557         1.1266  0.9739  1.3031\n",
       "HR+           0.038917         1.1950  1.0094  1.4148\n",
       "Right_Breast  0.729139         0.9602  0.8287  1.1125"
      ]
     },
     "execution_count": 5,
     "metadata": {},
     "output_type": "execute_result"
    }
   ],
   "source": [
    "outcome = 'Alive'\n",
    "inferential_statistics.categorical_data(outcome, predictors, df)"
   ]
  },
  {
   "cell_type": "markdown",
   "metadata": {},
   "source": [
    "<h3><center> 1.2.2 Conclusion: Only `ER+` and `HR+` have an effect on `Alive`</center></h3>"
   ]
  },
  {
   "cell_type": "markdown",
   "metadata": {},
   "source": [
    "## 2. Inferential_statistics: Continous vs Categorical (ANOVA)"
   ]
  },
  {
   "cell_type": "markdown",
   "metadata": {},
   "source": [
    "### 2.1 Effect of Age on PCR "
   ]
  },
  {
   "cell_type": "code",
   "execution_count": 6,
   "metadata": {
    "collapsed": false
   },
   "outputs": [
    {
     "name": "stdout",
     "output_type": "stream",
     "text": [
      "---------------------------------------------\n",
      "             sum_sq     df         F    PR(>F)\n",
      "age        0.256505    1.0  1.302539  0.255394\n",
      "Residual  32.689923  166.0       NaN       NaN\n",
      "---------------------------------------------\n"
     ]
    },
    {
     "data": {
      "image/png": "[encoded data removed]",
      "text/plain": [
       "<matplotlib.figure.Figure at 0x113b7a160>"
      ]
     },
     "metadata": {},
     "output_type": "display_data"
    }
   ],
   "source": [
    "predictor= ['age']\n",
    "outcome = 'PCR'\n",
    "anova_table, OLS = inferential_statistics.linear_models(df, outcome, predictor);\n",
    "sns.boxplot(x= outcome, y=predictor[0], data=df, palette=\"Set3\");"
   ]
  },
  {
   "cell_type": "markdown",
   "metadata": {},
   "source": [
    "### 2.2 Effect of Age on Survival "
   ]
  },
  {
   "cell_type": "code",
   "execution_count": 7,
   "metadata": {
    "collapsed": false
   },
   "outputs": [
    {
     "name": "stdout",
     "output_type": "stream",
     "text": [
      "---------------------------------------------\n",
      "             sum_sq     df         F    PR(>F)\n",
      "age        0.062227    1.0  0.399719  0.528104\n",
      "Residual  25.842534  166.0       NaN       NaN\n",
      "---------------------------------------------\n"
     ]
    },
    {
     "data": {
      "image/png": "[encoded data removed]",
      "text/plain": [
       "<matplotlib.figure.Figure at 0x10666f780>"
      ]
     },
     "metadata": {},
     "output_type": "display_data"
    }
   ],
   "source": [
    "predictor= ['age']\n",
    "outcome = 'Alive'\n",
    "anova_table, OLS = inferential_statistics.linear_models(df, outcome, predictor);\n",
    "sns.boxplot(x= outcome, y=predictor[0], data=df, palette=\"Set3\");"
   ]
  },
  {
   "cell_type": "markdown",
   "metadata": {},
   "source": [
    "### 2.3 Explore interactions between age, survival, and PCR"
   ]
  },
  {
   "cell_type": "code",
   "execution_count": 8,
   "metadata": {
    "collapsed": false
   },
   "outputs": [
    {
     "data": {
      "image/png": "[encoded data removed]",
      "text/plain": [
       "<matplotlib.figure.Figure at 0x113ef02b0>"
      ]
     },
     "metadata": {},
     "output_type": "display_data"
    }
   ],
   "source": [
    "# create a boxplot to visualize this interaction\n",
    "ax = sns.boxplot(x= 'PCR', y='age', hue ='Alive',data=df, palette=\"Set3\");\n",
    "ax.set_title('Interactions between age, survival, and PCR');"
   ]
  },
  {
   "cell_type": "code",
   "execution_count": 9,
   "metadata": {
    "collapsed": false
   },
   "outputs": [
    {
     "name": "stdout",
     "output_type": "stream",
     "text": [
      "---------------------------------------------\n",
      "            sum_sq    df         F    PR(>F)\n",
      "age       0.539468   1.0  7.470952  0.009065\n",
      "Residual  3.104976  43.0       NaN       NaN\n",
      "---------------------------------------------\n"
     ]
    },
    {
     "data": {
      "image/png": "[encoded data removed]",
      "text/plain": [
       "<matplotlib.figure.Figure at 0x113bb1208>"
      ]
     },
     "metadata": {},
     "output_type": "display_data"
    }
   ],
   "source": [
    "# create dataframe only for patients with PCR = Yes\n",
    "Patients_with_PCR = df.loc[df.PCR=='Yes',:]\n",
    "\n",
    "# ANOVA for Alive vs Age for PCR = Yes Only \n",
    "anova_table, _ = inferential_statistics.linear_models(Patients_with_PCR, outcome, predictor);\n",
    "# visualize PCR=Yes only\n",
    "ax = sns.boxplot(x= outcome, y=predictor[0], data = Patients_with_PCR, palette=\"Set3\");\n",
    "ax.set_title('Age effect on survival for PCR = Yes');"
   ]
  },
  {
   "cell_type": "markdown",
   "metadata": {},
   "source": [
    "## Conclusion."
   ]
  },
  {
   "cell_type": "markdown",
   "metadata": {},
   "source": [
    "1. `age` has an important effect on `Alive` for patients with `PCR` = Yes\n",
    "2. This effect can be quantified as an `AUC` = 0.84"
   ]
  },
  {
   "cell_type": "markdown",
   "metadata": {},
   "source": [
    "### 3.1 Effect of MRI measurements on PCR ANOVA"
   ]
  },
  {
   "cell_type": "code",
   "execution_count": 10,
   "metadata": {
    "collapsed": false
   },
   "outputs": [
    {
     "data": {
      "image/png": "[encoded data removed]",
      "text/plain": [
       "<matplotlib.figure.Figure at 0x113f11fd0>"
      ]
     },
     "metadata": {},
     "output_type": "display_data"
    }
   ],
   "source": [
    "R = inferential_statistics.anova_MRI('PCR', df);"
   ]
  },
  {
   "cell_type": "markdown",
   "metadata": {},
   "source": [
    "### 3.1 Effect of MRI measurements on PCR:  Logistic Regression "
   ]
  },
  {
   "cell_type": "code",
   "execution_count": 11,
   "metadata": {
    "collapsed": false
   },
   "outputs": [
    {
     "ename": "NameError",
     "evalue": "name 'labels_to_numbers' is not defined",
     "output_type": "error",
     "traceback": [
      "\u001b[0;31m---------------------------------------------------------------------------\u001b[0m",
      "\u001b[0;31mNameError\u001b[0m                                 Traceback (most recent call last)",
      "\u001b[0;32m<ipython-input-11-1b41354f8eff>\u001b[0m in \u001b[0;36m<module>\u001b[0;34m()\u001b[0m\n\u001b[1;32m      2\u001b[0m \u001b[0mMRI\u001b[0m \u001b[0;34m=\u001b[0m \u001b[0;34m[\u001b[0m\u001b[0;34m'MRI_LD_Baseline'\u001b[0m\u001b[0;34m,\u001b[0m \u001b[0;34m'MRI_LD_1_3dAC'\u001b[0m\u001b[0;34m,\u001b[0m \u001b[0;34m'MRI_LD_Int_Reg'\u001b[0m\u001b[0;34m,\u001b[0m \u001b[0;34m'MRI_LD_PreSurg'\u001b[0m\u001b[0;34m]\u001b[0m\u001b[0;34m\u001b[0m\u001b[0m\n\u001b[1;32m      3\u001b[0m \u001b[0;34m\u001b[0m\u001b[0m\n\u001b[0;32m----> 4\u001b[0;31m \u001b[0my\u001b[0m \u001b[0;34m=\u001b[0m \u001b[0mlabels_to_numbers\u001b[0m\u001b[0;34m(\u001b[0m\u001b[0mdf\u001b[0m\u001b[0;34m,\u001b[0m\u001b[0mOutcome\u001b[0m\u001b[0;34m)\u001b[0m\u001b[0;34m\u001b[0m\u001b[0m\n\u001b[0m\u001b[1;32m      5\u001b[0m \u001b[0;32mfor\u001b[0m \u001b[0mmri\u001b[0m \u001b[0;32min\u001b[0m \u001b[0mMRI\u001b[0m\u001b[0;34m:\u001b[0m\u001b[0;34m\u001b[0m\u001b[0m\n\u001b[1;32m      6\u001b[0m     \u001b[0mX\u001b[0m \u001b[0;34m=\u001b[0m \u001b[0mdf\u001b[0m\u001b[0;34m[\u001b[0m\u001b[0mmri\u001b[0m\u001b[0;34m]\u001b[0m\u001b[0;34m.\u001b[0m\u001b[0mvalues\u001b[0m\u001b[0;34m.\u001b[0m\u001b[0mreshape\u001b[0m\u001b[0;34m(\u001b[0m\u001b[0;34m(\u001b[0m\u001b[0my\u001b[0m\u001b[0;34m.\u001b[0m\u001b[0mshape\u001b[0m\u001b[0;34m[\u001b[0m\u001b[0;36m0\u001b[0m\u001b[0;34m]\u001b[0m\u001b[0;34m,\u001b[0m\u001b[0;36m1\u001b[0m\u001b[0;34m)\u001b[0m\u001b[0;34m)\u001b[0m\u001b[0;34m\u001b[0m\u001b[0m\n",
      "\u001b[0;31mNameError\u001b[0m: name 'labels_to_numbers' is not defined"
     ]
    }
   ],
   "source": [
    "Outcome = 'PCR'\n",
    "MRI = ['MRI_LD_Baseline', 'MRI_LD_1_3dAC', 'MRI_LD_Int_Reg', 'MRI_LD_PreSurg']\n",
    "\n",
    "y = labels_to_numbers(df,Outcome)\n",
    "for mri in MRI:\n",
    "    X = df[mri].values.reshape((y.shape[0],1))\n",
    "    _LogisticRegression(X,y, title = 'ROC for ' + mri + ' vs '+ Outcome)"
   ]
  },
  {
   "cell_type": "code",
   "execution_count": null,
   "metadata": {
    "collapsed": false
   },
   "outputs": [],
   "source": [
    "R = inferential_statistics.anova_MRI('Alive', df);"
   ]
  },
  {
   "cell_type": "code",
   "execution_count": null,
   "metadata": {
    "collapsed": false
   },
   "outputs": [],
   "source": [
    "Outcome = 'Alive'\n",
    "MRI = ['MRI_LD_Baseline', 'MRI_LD_1_3dAC', 'MRI_LD_Int_Reg', 'MRI_LD_PreSurg']\n",
    "\n",
    "y = labels_to_numbers(df,Outcome)\n",
    "for mri in MRI:\n",
    "    X = df[mri].values.reshape((y.shape[0],1))\n",
    "    _LogisticRegression(X,y, title = 'ROC for ' + mri + ' vs '+ Outcome)"
   ]
  },
  {
   "cell_type": "code",
   "execution_count": null,
   "metadata": {
    "collapsed": false
   },
   "outputs": [],
   "source": [
    "df[Outcome].value_counts(normalize = True)"
   ]
  },
  {
   "cell_type": "code",
   "execution_count": null,
   "metadata": {
    "collapsed": true
   },
   "outputs": [],
   "source": [
    "Outcome = 'Alive'\n",
    "MRI = ['MRI_LD_Baseline', 'MRI_LD_1_3dAC', 'MRI_LD_Int_Reg', 'MRI_LD_PreSurg']\n",
    "\n",
    "\n",
    "for mri in MRI:\n",
    "    X = df[mri].values.reshape((y.shape[0],1))"
   ]
  },
  {
   "cell_type": "markdown",
   "metadata": {},
   "source": [
    "<h1><center> Predictive statistics on the I-SPY1 Clinical Trial</center></h1>"
   ]
  },
  {
   "cell_type": "code",
   "execution_count": 31,
   "metadata": {
    "collapsed": false
   },
   "outputs": [],
   "source": [
    "# quantify the effect of age on Survival\n",
    "from sklearn import preprocessing\n",
    "from sklearn.linear_model import LogisticRegression\n",
    "from sklearn import metrics\n",
    "from sklearn.model_selection import RandomizedSearchCV\n",
    "from scipy.stats import randint\n",
    "import matplotlib.pyplot as plt\n",
    "from sklearn.model_selection import train_test_split\n",
    "import numpy as np\n",
    "from sklearn.metrics import cohen_kappa_score, make_scorer\n",
    "from sklearn.model_selection import GridSearchCV\n",
    "import pandas as pd\n",
    "from sklearn.ensemble import RandomForestClassifier as RFC\n",
    "\n",
    "def plot_roc_curve(fpr, tpr, lw = 2, title=''):\n",
    "    auc = metrics.auc(fpr,tpr);\n",
    "    plt.figure(figsize =(6,6))\n",
    "    plt.plot(fpr, tpr, color='darkorange',\n",
    "                 lw=lw, label='ROC curve (area = %0.2f)' % auc)\n",
    "    plt.plot([0, 1], [0, 1], color='navy', lw=lw, linestyle='--')\n",
    "    plt.xlim([0.0, 1.0])\n",
    "    plt.ylim([0.0, 1.05])\n",
    "    plt.xlabel('False Positive Rate')\n",
    "    plt.ylabel('True Positive Rate')\n",
    "    plt.title(title)\n",
    "    plt.legend(loc=\"lower right\")\n",
    "    plt.show()\n",
    "    \n",
    "def labels_to_numbers(DataFrame, Variable):\n",
    "    le = preprocessing.LabelEncoder()\n",
    "    numbers_ = le.fit_transform(DataFrame[Variable].values)\n",
    "    return numbers_\n",
    "\n",
    "def TrainRFC(Xdata,ydata):\n",
    "    clf= RFC()\n",
    "    # specify parameters and distributions to sample from\n",
    "    Forest  = GridSearchCV(clf, param_grid = {\"n_estimators\": np.arange(10, 100,10),\n",
    "                                                \"max_features\": np.arange(1,Xdata.shape[1],1)}, \n",
    "                                                   scoring = make_scorer(cohen_kappa_score),\n",
    "                                                   verbose = 1, n_jobs = -1);\n",
    "    Forest.fit(Xdata,ydata);\n",
    "    return Forest.best_estimator_\n",
    "\n",
    "def TrainLogRegModel_Kappa(Xdata, ydata):\n",
    "    clf = LogisticRegression()    \n",
    "    LogRegModel = GridSearchCV(clf, param_grid = {\"C\": np.arange(1,11,1),\n",
    "                                                  \"fit_intercept\": [\"True\", \"False\"]},\n",
    "                                                   scoring = make_scorer(cohen_kappa_score),\n",
    "                                                   verbose = 0);\n",
    "    \n",
    "    \n",
    "    LogRegModel.fit(Xdata,ydata);\n",
    "    return LogRegModel\n",
    "\n",
    "\n",
    "def _LogisticRegression(X,y, title =''):\n",
    "    # Split\n",
    "    X_train, X_test, y_train, y_test = train_test_split(X,y,  train_size=0.50, stratify = y)\n",
    "    # train\n",
    "    clf = TrainLogRegModel_Kappa(X_train,y_train);\n",
    "    pred_prob = clf.predict_proba(X_test)[:,1]\n",
    "    fpr, tpr, _ = metrics.roc_curve(y_test, pred_prob);\n",
    "    kappa = metrics.cohen_kappa_score(clf.predict(X_test),y_test)\n",
    "    auc =   metrics.auc(fpr,tpr)\n",
    "    plot_roc_curve(fpr,tpr, title = title)\n",
    "    return  kappa, auc\n",
    "\n",
    "def _RFClassifier(X,y, size_train = 0.50):\n",
    "    # Split\n",
    "    X_train, X_test, y_train, y_test = train_test_split(X,y,  train_size= size_train, stratify = y)\n",
    "    # train\n",
    "    clf = TrainRFC(X_train,y_train);\n",
    "    print(metrics.classification.classification_report(clf.predict(X_test), y_test))\n",
    "    return clf, X_test, y_test"
   ]
  },
  {
   "cell_type": "markdown",
   "metadata": {},
   "source": [
    "## 0.1 Effect of MRI measurements on Survival and PCR:  Logistic Regression "
   ]
  },
  {
   "cell_type": "code",
   "execution_count": 13,
   "metadata": {
    "collapsed": false
   },
   "outputs": [
    {
     "data": {
      "image/png": "[encoded data removed]",
      "text/plain": [
       "<matplotlib.figure.Figure at 0x107c54278>"
      ]
     },
     "metadata": {},
     "output_type": "display_data"
    },
    {
     "data": {
      "image/png": "[encoded data removed]",
      "text/plain": [
       "<matplotlib.figure.Figure at 0x114c3c518>"
      ]
     },
     "metadata": {},
     "output_type": "display_data"
    }
   ],
   "source": [
    "outcomes = ['PCR','Alive']\n",
    "mri_predictors = ['MRI_LD_Baseline', 'MRI_LD_1_3dAC', 'MRI_LD_Int_Reg', 'MRI_LD_PreSurg']\n",
    "for outcome in outcomes:\n",
    "    y = labels_to_numbers(df, outcome)\n",
    "    X = pd.get_dummies(df[mri_predictors], drop_first=False).values\n",
    "    _LogisticRegression(X,y, title = 'Effect of MRI predictors on ' + outcome)"
   ]
  },
  {
   "cell_type": "code",
   "execution_count": 14,
   "metadata": {
    "collapsed": false
   },
   "outputs": [
    {
     "data": {
      "text/html": [
       "<div>\n",
       "<style>\n",
       "    .dataframe thead tr:only-child th {\n",
       "        text-align: right;\n",
       "    }\n",
       "\n",
       "    .dataframe thead th {\n",
       "        text-align: left;\n",
       "    }\n",
       "\n",
       "    .dataframe tbody tr th {\n",
       "        vertical-align: top;\n",
       "    }\n",
       "</style>\n",
       "<table border=\"1\" class=\"dataframe\">\n",
       "  <thead>\n",
       "    <tr style=\"text-align: right;\">\n",
       "      <th></th>\n",
       "      <th>age</th>\n",
       "      <th>White</th>\n",
       "      <th>ER+</th>\n",
       "      <th>PR+</th>\n",
       "      <th>HR+</th>\n",
       "      <th>Bilateral</th>\n",
       "      <th>Right_Breast</th>\n",
       "      <th>MRI_LD_Baseline</th>\n",
       "      <th>MRI_LD_1_3dAC</th>\n",
       "      <th>MRI_LD_Int_Reg</th>\n",
       "      <th>MRI_LD_PreSurg</th>\n",
       "      <th>Alive</th>\n",
       "      <th>Survival_length</th>\n",
       "      <th>RFS</th>\n",
       "      <th>RFS_code</th>\n",
       "      <th>PCR</th>\n",
       "      <th>RCB</th>\n",
       "    </tr>\n",
       "    <tr>\n",
       "      <th>SUBJECTID</th>\n",
       "      <th></th>\n",
       "      <th></th>\n",
       "      <th></th>\n",
       "      <th></th>\n",
       "      <th></th>\n",
       "      <th></th>\n",
       "      <th></th>\n",
       "      <th></th>\n",
       "      <th></th>\n",
       "      <th></th>\n",
       "      <th></th>\n",
       "      <th></th>\n",
       "      <th></th>\n",
       "      <th></th>\n",
       "      <th></th>\n",
       "      <th></th>\n",
       "      <th></th>\n",
       "    </tr>\n",
       "  </thead>\n",
       "  <tbody>\n",
       "    <tr>\n",
       "      <th>1001</th>\n",
       "      <td>38.73</td>\n",
       "      <td>Yes</td>\n",
       "      <td>Yes</td>\n",
       "      <td>No</td>\n",
       "      <td>Yes</td>\n",
       "      <td>No</td>\n",
       "      <td>No</td>\n",
       "      <td>88.0</td>\n",
       "      <td>78.0</td>\n",
       "      <td>30.0</td>\n",
       "      <td>14.0</td>\n",
       "      <td>No</td>\n",
       "      <td>1264</td>\n",
       "      <td>751</td>\n",
       "      <td>1</td>\n",
       "      <td>No</td>\n",
       "      <td>2.0</td>\n",
       "    </tr>\n",
       "  </tbody>\n",
       "</table>\n",
       "</div>"
      ],
      "text/plain": [
       "             age White  ER+ PR+  HR+ Bilateral Right_Breast  MRI_LD_Baseline  \\\n",
       "SUBJECTID                                                                      \n",
       "1001       38.73   Yes  Yes  No  Yes        No           No             88.0   \n",
       "\n",
       "           MRI_LD_1_3dAC  MRI_LD_Int_Reg  MRI_LD_PreSurg Alive  \\\n",
       "SUBJECTID                                                        \n",
       "1001                78.0            30.0            14.0    No   \n",
       "\n",
       "           Survival_length  RFS  RFS_code PCR  RCB  \n",
       "SUBJECTID                                           \n",
       "1001                  1264  751         1  No  2.0  "
      ]
     },
     "execution_count": 14,
     "metadata": {},
     "output_type": "execute_result"
    }
   ],
   "source": [
    "clf"
   ]
  },
  {
   "cell_type": "code",
   "execution_count": 43,
   "metadata": {
    "collapsed": false
   },
   "outputs": [
    {
     "data": {
      "text/plain": [
       "Index(['age', 'White', 'ER+', 'PR+', 'HR+', 'Bilateral', 'Right_Breast',\n",
       "       'MRI_LD_Baseline', 'MRI_LD_1_3dAC', 'MRI_LD_Int_Reg', 'MRI_LD_PreSurg',\n",
       "       'Alive', 'Survival_length', 'RFS', 'RFS_code', 'PCR', 'RCB'],\n",
       "      dtype='object')"
      ]
     },
     "execution_count": 43,
     "metadata": {},
     "output_type": "execute_result"
    }
   ],
   "source": [
    "df.columns"
   ]
  },
  {
   "cell_type": "code",
   "execution_count": 54,
   "metadata": {
    "collapsed": false
   },
   "outputs": [
    {
     "name": "stdout",
     "output_type": "stream",
     "text": [
      "--------------------------------------------------------------------------------\n",
      "Fitting 3 folds for each of 54 candidates, totalling 162 fits\n",
      "             precision    recall  f1-score   support\n",
      "\n",
      "          0       1.00      1.00      1.00        35\n",
      "          1       1.00      1.00      1.00        49\n",
      "\n",
      "avg / total       1.00      1.00      1.00        84\n",
      "\n"
     ]
    },
    {
     "name": "stderr",
     "output_type": "stream",
     "text": [
      "[Parallel(n_jobs=-1)]: Done 162 out of 162 | elapsed:    4.0s finished\n"
     ]
    }
   ],
   "source": [
    "mri_predictors = ['MRI_LD_Baseline', 'MRI_LD_1_3dAC', 'MRI_LD_Int_Reg', 'MRI_LD_PreSurg']\n",
    "clinical = ['ER+', 'PR+', 'HR+']\n",
    "all_pred = mri_predictors + clinical\n",
    "print(40*'--')\n",
    "y = labels_to_numbers(df, 'ER+')\n",
    "X = pd.get_dummies( df[all_pred], drop_first=True).values\n",
    "clf, X_test, y_test =_RFClassifier(X,y, size_train = 0.50)"
   ]
  },
  {
   "cell_type": "code",
   "execution_count": 55,
   "metadata": {
    "collapsed": false
   },
   "outputs": [
    {
     "name": "stdout",
     "output_type": "stream",
     "text": [
      "             precision    recall  f1-score   support\n",
      "\n",
      "          0       1.00      1.00      1.00        70\n",
      "          1       1.00      1.00      1.00        98\n",
      "\n",
      "avg / total       1.00      1.00      1.00       168\n",
      "\n"
     ]
    }
   ],
   "source": [
    "print(metrics.classification.classification_report(clf.predict(X), y))"
   ]
  },
  {
   "cell_type": "code",
   "execution_count": 57,
   "metadata": {
    "collapsed": false
   },
   "outputs": [
    {
     "name": "stdout",
     "output_type": "stream",
     "text": [
      "Feature ranking:\n",
      "1. feature 4 (0.447264): \n",
      "2. feature 6 (0.376500): \n",
      "3. feature 5 (0.106171): \n",
      "4. feature 2 (0.024556): \n",
      "5. feature 1 (0.020089): \n",
      "6. feature 3 (0.014391): \n",
      "7. feature 0 (0.011030): \n"
     ]
    },
    {
     "data": {
      "image/png": "[encoded data removed]",
      "text/plain": [
       "<matplotlib.figure.Figure at 0x113e9a630>"
      ]
     },
     "metadata": {},
     "output_type": "display_data"
    }
   ],
   "source": [
    "# Plot the feature importances of the forest\n",
    "importances = forest.feature_importances_\n",
    "std = np.std([tree.feature_importances_ for tree in forest.estimators_],\n",
    "             axis=0)\n",
    "indices = np.argsort(importances)[::-1]\n",
    "\n",
    "# Print the feature ranking\n",
    "print(\"Feature ranking:\")\n",
    "\n",
    "for f in range(X.shape[1]):\n",
    "    print(\"%d. feature %d (%f): \" % (f + 1, indices[f], importances[indices[f]]))\n",
    "\n",
    "# Plot the feature importances of the forest\n",
    "plt.figure()\n",
    "plt.title(\"Feature importances\")\n",
    "plt.bar(range(X.shape[1]), importances[indices],\n",
    "       color=\"r\", yerr=std[indices], align=\"center\")\n",
    "plt.xticks(range(X.shape[1]), indices)\n",
    "plt.xlim([-1, X.shape[1]])\n",
    "plt.show()"
   ]
  },
  {
   "cell_type": "code",
   "execution_count": null,
   "metadata": {
    "collapsed": true
   },
   "outputs": [],
   "source": [
    "outcomes = ['PCR','Alive']\n",
    "mri_predictors = ['MRI_LD_Baseline', 'MRI_LD_1_3dAC', 'MRI_LD_Int_Reg', 'MRI_LD_PreSurg']\n",
    "for outcome in outcomes:\n",
    "    y = labels_to_numbers(df, outcome)\n",
    "    X = pd.get_dummies(df[mri_predictors], drop_first=False).values\n",
    "    _LogisticRegression(X,y, title = 'Effect of MRI predictors on ' + outcome)"
   ]
  },
  {
   "cell_type": "markdown",
   "metadata": {},
   "source": [
    "### 3.1 Effect of MRI measurements on PCR:  Logistic Regression "
   ]
  },
  {
   "cell_type": "code",
   "execution_count": null,
   "metadata": {
    "collapsed": true
   },
   "outputs": [],
   "source": [
    "_LogisticRegression?"
   ]
  },
  {
   "cell_type": "code",
   "execution_count": null,
   "metadata": {
    "collapsed": false
   },
   "outputs": [],
   "source": [
    "Forest.best_estimator_.feature_importances_"
   ]
  },
  {
   "cell_type": "code",
   "execution_count": null,
   "metadata": {
    "collapsed": true
   },
   "outputs": [],
   "source": []
  },
  {
   "cell_type": "code",
   "execution_count": null,
   "metadata": {
    "collapsed": true
   },
   "outputs": [],
   "source": []
  },
  {
   "cell_type": "code",
   "execution_count": null,
   "metadata": {
    "collapsed": true
   },
   "outputs": [],
   "source": []
  },
  {
   "cell_type": "code",
   "execution_count": null,
   "metadata": {
    "collapsed": true
   },
   "outputs": [],
   "source": []
  },
  {
   "cell_type": "code",
   "execution_count": null,
   "metadata": {
    "collapsed": true
   },
   "outputs": [],
   "source": []
  },
  {
   "cell_type": "code",
   "execution_count": null,
   "metadata": {
    "collapsed": true
   },
   "outputs": [],
   "source": []
  },
  {
   "cell_type": "code",
   "execution_count": null,
   "metadata": {
    "collapsed": true
   },
   "outputs": [],
   "source": []
  },
  {
   "cell_type": "code",
   "execution_count": null,
   "metadata": {
    "collapsed": true
   },
   "outputs": [],
   "source": []
  },
  {
   "cell_type": "code",
   "execution_count": null,
   "metadata": {
    "collapsed": true
   },
   "outputs": [],
   "source": []
  },
  {
   "cell_type": "code",
   "execution_count": null,
   "metadata": {
    "collapsed": true
   },
   "outputs": [],
   "source": []
  },
  {
   "cell_type": "code",
   "execution_count": null,
   "metadata": {
    "collapsed": true
   },
   "outputs": [],
   "source": []
  },
  {
   "cell_type": "code",
   "execution_count": null,
   "metadata": {
    "collapsed": false
   },
   "outputs": [],
   "source": [
    "from sklearn import preprocessing\n",
    "\n",
    "# define outcomes\n",
    "Outcomes = ['Alive','PCR']\n",
    "\n",
    "import pandas as pd\n",
    "# define predictors\n",
    "non_mri_predictors = ['age','White', 'ER+', 'PR+', 'HR+', 'Bilateral', 'Right_Breast']\n",
    "X = pd.get_dummies(df[non_mri_predictors], drop_first=True).values\n",
    "X[:,0] = preprocessing.scale(X[:,0])\n",
    "for out in Outcomes:\n",
    "    y = labels_to_numbers(df,out)\n",
    "    # fit\n",
    "    #_LogisticRegression(X,y, title = 'ROC for non-MRI Predictors ' + ' vs '+ out)\n",
    "    LogReg(X,y )"
   ]
  },
  {
   "cell_type": "code",
   "execution_count": null,
   "metadata": {
    "collapsed": true
   },
   "outputs": [],
   "source": [
    "LogReg(X,y )"
   ]
  },
  {
   "cell_type": "code",
   "execution_count": null,
   "metadata": {
    "collapsed": false
   },
   "outputs": [],
   "source": [
    "\n",
    "\n",
    "# define outcomes\n",
    "\n",
    "Outcomes = ['Alive','PCR']\n",
    "\n",
    "# define predictors\n",
    "mri_predictors = ['MRI_LD_Baseline']\n",
    "X = df[mri_predictors].values\n",
    "X = preprocessing.scale(X)\n",
    "\n",
    "for out in Outcomes:\n",
    "    y = labels_to_numbers(df,out)\n",
    "    # fit\n",
    "    _LogisticRegression(X,y, title = 'ROC for MRI Predictors ' + ' vs '+ out)"
   ]
  },
  {
   "cell_type": "code",
   "execution_count": null,
   "metadata": {
    "collapsed": false
   },
   "outputs": [],
   "source": [
    "all_predictors = mri_predictors + non_mri_predictors\n",
    "X = pd.get_dummies(df[all_predictors], drop_first=True).values\n",
    "\n",
    "for out in Outcomes:\n",
    "    y = labels_to_numbers(df,out)\n",
    "    # fit\n",
    "#    _LogisticRegression(X,y, title = 'ROC for ALL Predictors ' + ' vs '+ out)\n",
    "    LogReg(X,y )"
   ]
  },
  {
   "cell_type": "code",
   "execution_count": null,
   "metadata": {
    "collapsed": false
   },
   "outputs": [],
   "source": [
    "X.shape[1]"
   ]
  },
  {
   "cell_type": "code",
   "execution_count": null,
   "metadata": {
    "collapsed": false
   },
   "outputs": [],
   "source": [
    "import keras\n",
    "from keras import optimizers\n",
    "\n",
    "from keras.models import Sequential\n",
    "from keras.layers import Dense, Dropout, Flatten\n",
    "outcome = 'PCR'\n",
    "y = labels_to_numbers(df,outcome)\n",
    "y_ = keras.utils.to_categorical(y, 2)\n",
    "\n",
    "num_features = X.shape[1]\n",
    "num_labels =   2\n",
    "\n",
    "model = Sequential()\n",
    "model.add( Dense( units = int(num_features), input_dim = num_features, activation = 'relu'))\n",
    "model.add( Dense( units = int(num_features), input_dim = num_features, activation = 'relu'))\n",
    "model.add( Dense( num_labels, activation = 'softmax'))\n",
    "\n",
    "\n",
    "sgd = optimizers.SGD(lr = 0.0008, decay = 1e-6, momentum=0.9, nesterov=True)\n",
    "\n",
    "# compile\n",
    "model.compile(optimizer = sgd, loss = 'categorical_crossentropy', metrics = ['accuracy'])\n",
    "\n",
    "# run\n",
    "history = model.fit(X, y_, batch_size = 128,\n",
    "                        epochs = 1000, verbose = 0,\n",
    "                                            validation_split= 0.33)\n",
    "# evaluate\n",
    "print(model.summary())\n",
    "score = model.evaluate(X, y_, verbose = 5)\n",
    "print('Test score:',score[0])\n",
    "print('Test accurracy:',score[1])"
   ]
  },
  {
   "cell_type": "code",
   "execution_count": null,
   "metadata": {
    "collapsed": false
   },
   "outputs": [],
   "source": [
    "metrics.classification.confusion_matrix(model.predict_classes(X),y)"
   ]
  },
  {
   "cell_type": "code",
   "execution_count": null,
   "metadata": {
    "collapsed": false
   },
   "outputs": [],
   "source": [
    "metrics.classification.cohen_kappa_score(model.predict_classes(X),y)"
   ]
  },
  {
   "cell_type": "code",
   "execution_count": null,
   "metadata": {
    "collapsed": false
   },
   "outputs": [],
   "source": [
    "df[outcome].value_counts().apply(lambda x : 100 * x /  df.shape[0])"
   ]
  },
  {
   "cell_type": "code",
   "execution_count": null,
   "metadata": {
    "collapsed": false
   },
   "outputs": [],
   "source": [
    "df[outcome].value_counts()"
   ]
  },
  {
   "cell_type": "code",
   "execution_count": null,
   "metadata": {
    "collapsed": true
   },
   "outputs": [],
   "source": []
  }
 ],
 "metadata": {
  "anaconda-cloud": {},
  "kernelspec": {
   "display_name": "Python [conda root]",
   "language": "python",
   "name": "conda-root-py"
  },
  "language_info": {
   "codemirror_mode": {
    "name": "ipython",
    "version": 3
   },
   "file_extension": ".py",
   "mimetype": "text/x-python",
   "name": "python",
   "nbconvert_exporter": "python",
   "pygments_lexer": "ipython3",
   "version": "3.5.2"
  }
 },
 "nbformat": 4,
 "nbformat_minor": 2
}
