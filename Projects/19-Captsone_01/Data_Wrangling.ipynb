{
 "cells": [
  {
   "cell_type": "code",
   "execution_count": 4,
   "metadata": {
    "collapsed": false
   },
   "outputs": [],
   "source": [
    "import pandas as pd\n",
    "file = './data/I-SPY_1_All_Patient_Clinical_and_Outcome_Data.xlsx'\n",
    "\n",
    "# load and set index of predictors\n",
    "predictors = pd.read_excel(file, sheetname='predictors')\n",
    "predictors = predictors.set_index('SUBJECTID')\n",
    "\n",
    "# drop NaN\n",
    "#ISPY.dropna(inplace=True)\n",
    "\n",
    "# drop Columns I don't need\n",
    "predictors.drop(['DataExtractDt','Her2MostPos','HR_HER2_CATEGORY','HR_HER2_STATUS'],axis=1,inplace=True)\n",
    "#encode race and drop initial variable\n",
    "predictors = predictors.join(pd.get_dummies(predictors['race_id'], prefix=['Race']))\n",
    "predictors.drop(['race_id'], axis=1,inplace=True)\n",
    "\n",
    "# load predictors and drop columns I don't need\n",
    "outcomes_df = pd.read_excel(file, sheetname='outcomes')\n",
    "outcomes_df.drop(['DataExtractDt'],axis=1,inplace=True)\n",
    "# \n",
    "outcomes_df = outcomes_df.set_index('SUBJECTID')\n",
    "\n",
    "#merge PCR and predictors using the Subject ID index\n",
    "ISPY = predictors.join(outcomes_df)\n",
    "\n",
    "# save clean data as CSV\n",
    "ISPY.to_csv('./data/ISPY_clinical_clean.csv')"
   ]
  }
 ],
 "metadata": {
  "anaconda-cloud": {},
  "kernelspec": {
   "display_name": "Python [conda root]",
   "language": "python",
   "name": "conda-root-py"
  },
  "language_info": {
   "codemirror_mode": {
    "name": "ipython",
    "version": 3
   },
   "file_extension": ".py",
   "mimetype": "text/x-python",
   "name": "python",
   "nbconvert_exporter": "python",
   "pygments_lexer": "ipython3",
   "version": "3.5.2"
  }
 },
 "nbformat": 4,
 "nbformat_minor": 2
}
