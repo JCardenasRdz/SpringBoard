{
 "cells": [
  {
   "cell_type": "code",
   "execution_count": 11,
   "metadata": {
    "collapsed": false
   },
   "outputs": [],
   "source": [
    "# import custom modules wrote by julio\n",
    "import importlib\n",
    "from capstone_01 import clean_data\n",
    "from capstone_01 import inferential_statistics\n",
    "\n",
    "# reload modules without restartign the kernall (it drives me crazy)\n",
    "importlib.reload(clean_data);\n",
    "importlib.reload(inferential_statistics);"
   ]
  },
  {
   "cell_type": "code",
   "execution_count": 12,
   "metadata": {
    "collapsed": true
   },
   "outputs": [],
   "source": [
    "# load data and cleant it\n",
    "file = './raw_data/clinical/I-SPY_1_All_Patient_Clinical_and_Outcome_Data.xlsx'\n",
    "df = clean_data.clean_my_data(file)"
   ]
  },
  {
   "cell_type": "markdown",
   "metadata": {},
   "source": [
    "## Inferential_statistics\n",
    "### 1. Categorical vs Categorical (Chi-2)"
   ]
  },
  {
   "cell_type": "code",
   "execution_count": 24,
   "metadata": {
    "collapsed": false
   },
   "outputs": [
    {
     "name": "stdout",
     "output_type": "stream",
     "text": [
      "Index(['age', 'race', 'ER+', 'PR+', 'HR+', 'Bilateral', 'Laterality',\n",
      "       'MRI_LD_Baseline', 'MRI_LD_3days_after_chemo', 'MRI_LD_Int_Reg',\n",
      "       'MRI LD PreSurg', 'Survival', 'survDtD2 (tx)', 'RFS', 'rfs_ind', 'PCR',\n",
      "       'RCBClass'],\n",
      "      dtype='object')\n"
     ]
    }
   ],
   "source": [
    "# prepare data for inferential_statistics\n",
    "df = inferential_statistics.prepare_data(df)\n",
    "print(df.columns)\n",
    "# assign all categorical predictors\n",
    "predictors = df.columns[1:7]"
   ]
  },
  {
   "cell_type": "code",
   "execution_count": 27,
   "metadata": {
    "collapsed": false
   },
   "outputs": [
    {
     "name": "stdout",
     "output_type": "stream",
     "text": [
      "Reminder: The null hypothesis for chi-square tes is that NO association exists between the two variables.\n",
      "PCR\n",
      "\n",
      "----------effect of race on PCR----------\n",
      "PCR       No  Yes\n",
      "race             \n",
      "0          1    1\n",
      "Asian      3    3\n",
      "Black     25    6\n",
      "Multiple   0    1\n",
      "Pacific    0    1\n",
      "White     94   33\n",
      "The p-value for the effect of race on PCR is:0.12705868745397408\n",
      "\n"
     ]
    }
   ],
   "source": [
    "# run chi-squared test on PCR as outcome\n",
    "inferential_statistics.my_chi2('PCR', ['race'], df)"
   ]
  },
  {
   "cell_type": "code",
   "execution_count": 15,
   "metadata": {
    "collapsed": false
   },
   "outputs": [
    {
     "name": "stdout",
     "output_type": "stream",
     "text": [
      "Reminder: The null hypothesis for chi-square tes is that NO association exists between the two variables.\n",
      "Survival\n",
      "\n",
      "----------effect of race on Survival----------\n",
      "Survival  Alive  Dead\n",
      "race                 \n",
      "0             1     1\n",
      "Asian         5     1\n",
      "Black        23     8\n",
      "Multiple      1     0\n",
      "Pacific       1     0\n",
      "White       105    22\n",
      "The p-value for the effect of race on Survival is:0.7155965357560423\n",
      "\n",
      "\n",
      "----------effect of ER+ on Survival----------\n",
      "Survival  Alive  Dead\n",
      "ER+                  \n",
      "No           48    22\n",
      "Yes          88    10\n",
      "The p-value for the effect of ER+ on Survival is:0.0011353830180947703\n",
      "\n",
      "\n",
      "----------effect of PR+ on Survival----------\n",
      "Survival  Alive  Dead\n",
      "PR+                  \n",
      "No           68    21\n",
      "Yes          68    11\n",
      "The p-value for the effect of PR+ on Survival is:0.16255723790038556\n",
      "\n",
      "\n",
      "----------effect of HR+ on Survival----------\n",
      "Survival  Alive  Dead\n",
      "HR+                  \n",
      "No           47    18\n",
      "Yes          89    14\n",
      "The p-value for the effect of HR+ on Survival is:0.038917016048194704\n",
      "\n",
      "\n",
      "----------effect of Bilateral on Survival----------\n",
      "Survival   Alive  Dead\n",
      "Bilateral             \n",
      "No           133    32\n",
      "Yes            3     0\n",
      "The p-value for the effect of Bilateral on Survival is:0.915605010539148\n",
      "\n",
      "\n",
      "----------effect of Laterality on Survival----------\n",
      "Survival    Alive  Dead\n",
      "Laterality             \n",
      "Left           71    15\n",
      "Right          65    17\n",
      "The p-value for the effect of Laterality on Survival is:0.7291392764451317\n",
      "\n"
     ]
    }
   ],
   "source": [
    "# run chi-squared test on Survival as outcome\n",
    "inferential_statistics.my_chi2('Survival', predictors, df)"
   ]
  },
  {
   "cell_type": "markdown",
   "metadata": {},
   "source": [
    "### 2. Continous vs Categorical (ANOVA)"
   ]
  },
  {
   "cell_type": "code",
   "execution_count": 17,
   "metadata": {
    "collapsed": false
   },
   "outputs": [
    {
     "name": "stdout",
     "output_type": "stream",
     "text": [
      "ANOVA for age on PCR\n",
      "The p-value for the effect of  age on PCR is:0.2553937150251281\n",
      "----------------------------------------\n",
      "ANOVA for MRI_LD_Baseline on PCR\n",
      "The p-value for the effect of  MRI_LD_Baseline on PCR is:0.2331290062614095\n",
      "----------------------------------------\n",
      "ANOVA for age on Survival\n",
      "The p-value for the effect of  age on Survival is:0.5281042473147965\n",
      "----------------------------------------\n",
      "ANOVA for MRI_LD_Baseline on Survival\n",
      "The p-value for the effect of  MRI_LD_Baseline on Survival is:0.03785389614805569\n",
      "----------------------------------------\n",
      "ANOVA for MRI LD PreSurg on Survival\n",
      "The p-value for the effect of  MRI LD PreSurg on Survival is:0.0044750314629683485\n",
      "----------------------------------------\n"
     ]
    }
   ],
   "source": [
    "# ANOVA PCR\n",
    "inferential_statistics.anova_pcr('age', df)\n",
    "inferential_statistics.anova_pcr('MRI_LD_Baseline', df)\n",
    "\n",
    "# ANOVA Survival vs age\n",
    "inferential_statistics.anova_survival('age', df)\n",
    "\n",
    "# Tumor volumes\n",
    "inferential_statistics.anova_survival('MRI_LD_Baseline', df)\n",
    "inferential_statistics.anova_survival('MRI LD PreSurg', df)\n"
   ]
  },
  {
   "cell_type": "code",
   "execution_count": null,
   "metadata": {
    "collapsed": true
   },
   "outputs": [],
   "source": []
  }
 ],
 "metadata": {
  "anaconda-cloud": {},
  "kernelspec": {
   "display_name": "Python [conda root]",
   "language": "python",
   "name": "conda-root-py"
  },
  "language_info": {
   "codemirror_mode": {
    "name": "ipython",
    "version": 3
   },
   "file_extension": ".py",
   "mimetype": "text/x-python",
   "name": "python",
   "nbconvert_exporter": "python",
   "pygments_lexer": "ipython3",
   "version": "3.5.2"
  }
 },
 "nbformat": 4,
 "nbformat_minor": 2
}
