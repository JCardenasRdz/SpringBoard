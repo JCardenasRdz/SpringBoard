{
 "cells": [
  {
   "cell_type": "code",
   "execution_count": 64,
   "metadata": {
    "collapsed": false
   },
   "outputs": [],
   "source": [
    "# import custom modules wrote by julio\n",
    "import importlib\n",
    "import seaborn as sns\n",
    "%matplotlib inline\n",
    "from capstone_01 import clean_data\n",
    "from capstone_01 import inferential_statistics\n",
    "\n",
    "# reload modules without restartign the kernall (it drives me crazy)\n",
    "importlib.reload(clean_data);\n",
    "importlib.reload(inferential_statistics);"
   ]
  },
  {
   "cell_type": "code",
   "execution_count": 65,
   "metadata": {
    "collapsed": false
   },
   "outputs": [
    {
     "data": {
      "text/html": [
       "<div>\n",
       "<table border=\"1\" class=\"dataframe\">\n",
       "  <thead>\n",
       "    <tr style=\"text-align: right;\">\n",
       "      <th></th>\n",
       "      <th>age</th>\n",
       "      <th>White</th>\n",
       "      <th>ER+</th>\n",
       "      <th>PR+</th>\n",
       "      <th>HR+</th>\n",
       "      <th>Bilateral</th>\n",
       "      <th>Right_Breast</th>\n",
       "      <th>MRI_LD_Baseline</th>\n",
       "      <th>MRI_LD_1_3dAC</th>\n",
       "      <th>MRI_LD_Int_Reg</th>\n",
       "      <th>MRI_LD_PreSurg</th>\n",
       "      <th>Alive</th>\n",
       "      <th>Survival_length</th>\n",
       "      <th>RFS</th>\n",
       "      <th>RFS_code</th>\n",
       "      <th>PCR</th>\n",
       "      <th>RCB</th>\n",
       "    </tr>\n",
       "    <tr>\n",
       "      <th>SUBJECTID</th>\n",
       "      <th></th>\n",
       "      <th></th>\n",
       "      <th></th>\n",
       "      <th></th>\n",
       "      <th></th>\n",
       "      <th></th>\n",
       "      <th></th>\n",
       "      <th></th>\n",
       "      <th></th>\n",
       "      <th></th>\n",
       "      <th></th>\n",
       "      <th></th>\n",
       "      <th></th>\n",
       "      <th></th>\n",
       "      <th></th>\n",
       "      <th></th>\n",
       "      <th></th>\n",
       "    </tr>\n",
       "  </thead>\n",
       "  <tbody>\n",
       "    <tr>\n",
       "      <th>1001</th>\n",
       "      <td>38.73</td>\n",
       "      <td>Yes</td>\n",
       "      <td>Yes</td>\n",
       "      <td>No</td>\n",
       "      <td>Yes</td>\n",
       "      <td>No</td>\n",
       "      <td>No</td>\n",
       "      <td>88</td>\n",
       "      <td>78</td>\n",
       "      <td>30</td>\n",
       "      <td>14</td>\n",
       "      <td>No</td>\n",
       "      <td>1264</td>\n",
       "      <td>751</td>\n",
       "      <td>1</td>\n",
       "      <td>No</td>\n",
       "      <td>2</td>\n",
       "    </tr>\n",
       "    <tr>\n",
       "      <th>1002</th>\n",
       "      <td>37.79</td>\n",
       "      <td>Yes</td>\n",
       "      <td>Yes</td>\n",
       "      <td>Yes</td>\n",
       "      <td>Yes</td>\n",
       "      <td>No</td>\n",
       "      <td>Yes</td>\n",
       "      <td>29</td>\n",
       "      <td>26</td>\n",
       "      <td>66</td>\n",
       "      <td>16</td>\n",
       "      <td>No</td>\n",
       "      <td>1155</td>\n",
       "      <td>1043</td>\n",
       "      <td>1</td>\n",
       "      <td>No</td>\n",
       "      <td>3</td>\n",
       "    </tr>\n",
       "  </tbody>\n",
       "</table>\n",
       "</div>"
      ],
      "text/plain": [
       "             age White  ER+  PR+  HR+ Bilateral Right_Breast  MRI_LD_Baseline  \\\n",
       "SUBJECTID                                                                       \n",
       "1001       38.73   Yes  Yes   No  Yes        No           No               88   \n",
       "1002       37.79   Yes  Yes  Yes  Yes        No          Yes               29   \n",
       "\n",
       "           MRI_LD_1_3dAC  MRI_LD_Int_Reg  MRI_LD_PreSurg Alive  \\\n",
       "SUBJECTID                                                        \n",
       "1001                  78              30              14    No   \n",
       "1002                  26              66              16    No   \n",
       "\n",
       "           Survival_length   RFS  RFS_code PCR  RCB  \n",
       "SUBJECTID                                            \n",
       "1001                  1264   751         1  No    2  \n",
       "1002                  1155  1043         1  No    3  "
      ]
     },
     "execution_count": 65,
     "metadata": {},
     "output_type": "execute_result"
    }
   ],
   "source": [
    "# load data and cleant it\n",
    "file = './raw_data/clinical/I-SPY_1_All_Patient_Clinical_and_Outcome_Data.xlsx'\n",
    "df = clean_data.clean_my_data(file)\n",
    "df.head(2)"
   ]
  },
  {
   "cell_type": "markdown",
   "metadata": {},
   "source": [
    "## Inferential_statistics\n",
    "### 1. Categorical vs Categorical"
   ]
  },
  {
   "cell_type": "code",
   "execution_count": 66,
   "metadata": {
    "collapsed": false
   },
   "outputs": [
    {
     "data": {
      "text/plain": [
       "Index(['White', 'ER+', 'PR+', 'HR+', 'Bilateral', 'Right_Breast'], dtype='object')"
      ]
     },
     "execution_count": 66,
     "metadata": {},
     "output_type": "execute_result"
    }
   ],
   "source": [
    "# assign all categorical predictors\n",
    "predictors = df.columns[1:7]\n",
    "predictors"
   ]
  },
  {
   "cell_type": "code",
   "execution_count": 67,
   "metadata": {
    "collapsed": false
   },
   "outputs": [
    {
     "data": {
      "text/html": [
       "<div>\n",
       "<table border=\"1\" class=\"dataframe\">\n",
       "  <thead>\n",
       "    <tr style=\"text-align: right;\">\n",
       "      <th>PCR</th>\n",
       "      <th>Yes</th>\n",
       "      <th>No</th>\n",
       "    </tr>\n",
       "    <tr>\n",
       "      <th>ER+</th>\n",
       "      <th></th>\n",
       "      <th></th>\n",
       "    </tr>\n",
       "  </thead>\n",
       "  <tbody>\n",
       "    <tr>\n",
       "      <th>Yes</th>\n",
       "      <td>17</td>\n",
       "      <td>81</td>\n",
       "    </tr>\n",
       "    <tr>\n",
       "      <th>No</th>\n",
       "      <td>28</td>\n",
       "      <td>42</td>\n",
       "    </tr>\n",
       "  </tbody>\n",
       "</table>\n",
       "</div>"
      ],
      "text/plain": [
       "PCR  Yes  No\n",
       "ER+         \n",
       "Yes   17  81\n",
       "No    28  42"
      ]
     },
     "execution_count": 67,
     "metadata": {},
     "output_type": "execute_result"
    }
   ],
   "source": [
    "# example of contingency table\n",
    "inferential_statistics.contingency_table('ER+', 'PCR',df)"
   ]
  },
  {
   "cell_type": "code",
   "execution_count": 68,
   "metadata": {
    "collapsed": false
   },
   "outputs": [
    {
     "data": {
      "text/html": [
       "<div>\n",
       "<table border=\"1\" class=\"dataframe\">\n",
       "  <thead>\n",
       "    <tr style=\"text-align: right;\">\n",
       "      <th></th>\n",
       "      <th>p-value</th>\n",
       "      <th>Relative_Risk</th>\n",
       "      <th>RR_lb</th>\n",
       "      <th>RR_ub</th>\n",
       "    </tr>\n",
       "  </thead>\n",
       "  <tbody>\n",
       "    <tr>\n",
       "      <th>White</th>\n",
       "      <td>0.833629</td>\n",
       "      <td>0.8878</td>\n",
       "      <td>0.5076</td>\n",
       "      <td>1.5528</td>\n",
       "    </tr>\n",
       "    <tr>\n",
       "      <th>ER+</th>\n",
       "      <td>0.001988</td>\n",
       "      <td>0.4337</td>\n",
       "      <td>0.2582</td>\n",
       "      <td>0.7285</td>\n",
       "    </tr>\n",
       "    <tr>\n",
       "      <th>PR+</th>\n",
       "      <td>0.000198</td>\n",
       "      <td>0.3219</td>\n",
       "      <td>0.1707</td>\n",
       "      <td>0.6069</td>\n",
       "    </tr>\n",
       "    <tr>\n",
       "      <th>HR+</th>\n",
       "      <td>0.000307</td>\n",
       "      <td>0.3831</td>\n",
       "      <td>0.2286</td>\n",
       "      <td>0.6422</td>\n",
       "    </tr>\n",
       "    <tr>\n",
       "      <th>Bilateral</th>\n",
       "      <td>0.689629</td>\n",
       "      <td>0.0000</td>\n",
       "      <td>0.0000</td>\n",
       "      <td>NaN</td>\n",
       "    </tr>\n",
       "    <tr>\n",
       "      <th>Right_Breast</th>\n",
       "      <td>0.851883</td>\n",
       "      <td>1.0965</td>\n",
       "      <td>0.6649</td>\n",
       "      <td>1.8080</td>\n",
       "    </tr>\n",
       "  </tbody>\n",
       "</table>\n",
       "</div>"
      ],
      "text/plain": [
       "               p-value  Relative_Risk   RR_lb   RR_ub\n",
       "White         0.833629         0.8878  0.5076  1.5528\n",
       "ER+           0.001988         0.4337  0.2582  0.7285\n",
       "PR+           0.000198         0.3219  0.1707  0.6069\n",
       "HR+           0.000307         0.3831  0.2286  0.6422\n",
       "Bilateral     0.689629         0.0000  0.0000     NaN\n",
       "Right_Breast  0.851883         1.0965  0.6649  1.8080"
      ]
     },
     "execution_count": 68,
     "metadata": {},
     "output_type": "execute_result"
    }
   ],
   "source": [
    "inferential_statistics.categorical_data('PCR', predictors, df)"
   ]
  },
  {
   "cell_type": "code",
   "execution_count": 69,
   "metadata": {
    "collapsed": false
   },
   "outputs": [
    {
     "data": {
      "text/html": [
       "<div>\n",
       "<table border=\"1\" class=\"dataframe\">\n",
       "  <thead>\n",
       "    <tr style=\"text-align: right;\">\n",
       "      <th>Alive</th>\n",
       "      <th>Yes</th>\n",
       "      <th>No</th>\n",
       "    </tr>\n",
       "    <tr>\n",
       "      <th>White</th>\n",
       "      <th></th>\n",
       "      <th></th>\n",
       "    </tr>\n",
       "  </thead>\n",
       "  <tbody>\n",
       "    <tr>\n",
       "      <th>Yes</th>\n",
       "      <td>105</td>\n",
       "      <td>22</td>\n",
       "    </tr>\n",
       "    <tr>\n",
       "      <th>No</th>\n",
       "      <td>31</td>\n",
       "      <td>10</td>\n",
       "    </tr>\n",
       "  </tbody>\n",
       "</table>\n",
       "</div>"
      ],
      "text/plain": [
       "Alive  Yes  No\n",
       "White         \n",
       "Yes    105  22\n",
       "No      31  10"
      ]
     },
     "execution_count": 69,
     "metadata": {},
     "output_type": "execute_result"
    }
   ],
   "source": [
    "# example of contingency table\n",
    "inferential_statistics.contingency_table('White', 'Alive',df)"
   ]
  },
  {
   "cell_type": "code",
   "execution_count": 70,
   "metadata": {
    "collapsed": false
   },
   "outputs": [
    {
     "data": {
      "text/html": [
       "<div>\n",
       "<table border=\"1\" class=\"dataframe\">\n",
       "  <thead>\n",
       "    <tr style=\"text-align: right;\">\n",
       "      <th></th>\n",
       "      <th>p-value</th>\n",
       "      <th>Relative_Risk</th>\n",
       "      <th>RR_lb</th>\n",
       "      <th>RR_ub</th>\n",
       "    </tr>\n",
       "  </thead>\n",
       "  <tbody>\n",
       "    <tr>\n",
       "      <th>White</th>\n",
       "      <td>0.439359</td>\n",
       "      <td>1.0935</td>\n",
       "      <td>0.9032</td>\n",
       "      <td>1.3239</td>\n",
       "    </tr>\n",
       "    <tr>\n",
       "      <th>ER+</th>\n",
       "      <td>0.001135</td>\n",
       "      <td>1.3095</td>\n",
       "      <td>1.1025</td>\n",
       "      <td>1.5554</td>\n",
       "    </tr>\n",
       "    <tr>\n",
       "      <th>PR+</th>\n",
       "      <td>0.162557</td>\n",
       "      <td>1.1266</td>\n",
       "      <td>0.9739</td>\n",
       "      <td>1.3031</td>\n",
       "    </tr>\n",
       "    <tr>\n",
       "      <th>HR+</th>\n",
       "      <td>0.038917</td>\n",
       "      <td>1.1950</td>\n",
       "      <td>1.0094</td>\n",
       "      <td>1.4148</td>\n",
       "    </tr>\n",
       "    <tr>\n",
       "      <th>Bilateral</th>\n",
       "      <td>0.915605</td>\n",
       "      <td>1.2406</td>\n",
       "      <td>1.1511</td>\n",
       "      <td>1.3370</td>\n",
       "    </tr>\n",
       "    <tr>\n",
       "      <th>Right_Breast</th>\n",
       "      <td>0.729139</td>\n",
       "      <td>0.9602</td>\n",
       "      <td>0.8287</td>\n",
       "      <td>1.1125</td>\n",
       "    </tr>\n",
       "  </tbody>\n",
       "</table>\n",
       "</div>"
      ],
      "text/plain": [
       "               p-value  Relative_Risk   RR_lb   RR_ub\n",
       "White         0.439359         1.0935  0.9032  1.3239\n",
       "ER+           0.001135         1.3095  1.1025  1.5554\n",
       "PR+           0.162557         1.1266  0.9739  1.3031\n",
       "HR+           0.038917         1.1950  1.0094  1.4148\n",
       "Bilateral     0.915605         1.2406  1.1511  1.3370\n",
       "Right_Breast  0.729139         0.9602  0.8287  1.1125"
      ]
     },
     "execution_count": 70,
     "metadata": {},
     "output_type": "execute_result"
    }
   ],
   "source": [
    "# run chi-squared test on Survival as outcome\n",
    "inferential_statistics.categorical_data('Alive', predictors, df)"
   ]
  },
  {
   "cell_type": "markdown",
   "metadata": {},
   "source": [
    "## 2. Continous vs Ca## 2. Continous vs Categorical (ANOVA)\n",
    "### 2.1 Effect of Age on PCA and Survivaltegorical (ANOVA)\n",
    "### 2.1 Effect of Age on PCA and Survival"
   ]
  },
  {
   "cell_type": "code",
   "execution_count": 71,
   "metadata": {
    "collapsed": false
   },
   "outputs": [
    {
     "name": "stdout",
     "output_type": "stream",
     "text": [
      "             sum_sq   df         F    PR(>F)\n",
      "age        0.256505    1  1.302539  0.255394\n",
      "Residual  32.689923  166       NaN       NaN\n"
     ]
    },
    {
     "data": {
      "image/png": "[encoded data removed]",
      "text/plain": [
       "<matplotlib.figure.Figure at 0x115516dd8>"
      ]
     },
     "metadata": {},
     "output_type": "display_data"
    }
   ],
   "source": [
    "predictor= ['age']\n",
    "outcome = 'PCR'\n",
    "anova_table, OLS = inferential_statistics.linear_models(df, outcome, predictor);\n",
    "sns.boxplot(x= outcome, y=predictor[0], data=df, palette=\"Set3\");"
   ]
  },
  {
   "cell_type": "code",
   "execution_count": 72,
   "metadata": {
    "collapsed": false
   },
   "outputs": [
    {
     "name": "stdout",
     "output_type": "stream",
     "text": [
      "             sum_sq   df         F    PR(>F)\n",
      "age        0.062227    1  0.399719  0.528104\n",
      "Residual  25.842534  166       NaN       NaN\n"
     ]
    },
    {
     "data": {
      "image/png": "[encoded data removed]",
      "text/plain": [
       "<matplotlib.figure.Figure at 0x115516d30>"
      ]
     },
     "metadata": {},
     "output_type": "display_data"
    }
   ],
   "source": [
    "predictor= ['age']\n",
    "outcome = 'Alive'\n",
    "anova_table, OLS = inferential_statistics.linear_models(df, outcome, predictor);\n",
    "sns.boxplot(x= outcome, y=predictor[0], data=df, palette=\"Set3\");"
   ]
  },
  {
   "cell_type": "markdown",
   "metadata": {},
   "source": [
    "### explore interactions between age, survival, and PCR"
   ]
  },
  {
   "cell_type": "code",
   "execution_count": 81,
   "metadata": {
    "collapsed": false
   },
   "outputs": [
    {
     "data": {
      "image/png": "[encoded data removed]",
      "text/plain": [
       "<matplotlib.figure.Figure at 0x113ef2358>"
      ]
     },
     "metadata": {},
     "output_type": "display_data"
    }
   ],
   "source": [
    "sns.boxplot(x= 'PCR', y='age', hue ='Alive',data=df, palette=\"Set3\");"
   ]
  },
  {
   "cell_type": "markdown",
   "metadata": {},
   "source": [
    "## The survival of patients that achieved PCR is affected by their age"
   ]
  },
  {
   "cell_type": "code",
   "execution_count": 74,
   "metadata": {
    "collapsed": false
   },
   "outputs": [
    {
     "name": "stdout",
     "output_type": "stream",
     "text": [
      "            sum_sq  df         F    PR(>F)\n",
      "age       0.539468   1  7.470952  0.009065\n",
      "Residual  3.104976  43       NaN       NaN\n"
     ]
    },
    {
     "data": {
      "image/png": "[encoded data removed]",
      "text/plain": [
       "<matplotlib.figure.Figure at 0x1149e13c8>"
      ]
     },
     "metadata": {},
     "output_type": "display_data"
    }
   ],
   "source": [
    "predictor= ['age']\n",
    "outcome = 'Alive'\n",
    "anova_table, OLS = inferential_statistics.linear_models(df.loc[df.PCR=='Yes',:], outcome, predictor);\n",
    "sns.boxplot(x= outcome, y=predictor[0], data=df.loc[df.PCR=='Yes',:], palette=\"Set3\");"
   ]
  },
  {
   "cell_type": "code",
   "execution_count": 75,
   "metadata": {
    "collapsed": false
   },
   "outputs": [
    {
     "data": {
      "image/png": "[encoded data removed]",
      "text/plain": [
       "<matplotlib.figure.Figure at 0x114185ef0>"
      ]
     },
     "metadata": {},
     "output_type": "display_data"
    }
   ],
   "source": [
    "sns.boxplot(x= 'PCR', y='Survival_length', hue ='Alive',data=df, palette=\"Set3\");"
   ]
  },
  {
   "cell_type": "markdown",
   "metadata": {},
   "source": [
    "### 3.1 Effect of MRI measurements on PCR"
   ]
  },
  {
   "cell_type": "code",
   "execution_count": 76,
   "metadata": {
    "collapsed": false
   },
   "outputs": [
    {
     "data": {
      "image/png": "[encoded data removed]",
      "text/plain": [
       "<matplotlib.figure.Figure at 0x115630780>"
      ]
     },
     "metadata": {},
     "output_type": "display_data"
    }
   ],
   "source": [
    "R = inferential_statistics.anova_MRI('PCR', df);"
   ]
  },
  {
   "cell_type": "markdown",
   "metadata": {},
   "source": [
    "### 3.1 Effect of MRI measurements on Survival"
   ]
  },
  {
   "cell_type": "code",
   "execution_count": 83,
   "metadata": {
    "collapsed": false
   },
   "outputs": [
    {
     "data": {
      "image/png": "[encoded data removed]",
      "text/plain": [
       "<matplotlib.figure.Figure at 0x114da4dd8>"
      ]
     },
     "metadata": {},
     "output_type": "display_data"
    }
   ],
   "source": [
    "R = inferential_statistics.anova_MRI('Alive', df);"
   ]
  },
  {
   "cell_type": "code",
   "execution_count": null,
   "metadata": {
    "collapsed": true
   },
   "outputs": [],
   "source": []
  }
 ],
 "metadata": {
  "anaconda-cloud": {},
  "kernelspec": {
   "display_name": "Python [conda root]",
   "language": "python",
   "name": "conda-root-py"
  },
  "language_info": {
   "codemirror_mode": {
    "name": "ipython",
    "version": 3
   },
   "file_extension": ".py",
   "mimetype": "text/x-python",
   "name": "python",
   "nbconvert_exporter": "python",
   "pygments_lexer": "ipython3",
   "version": "3.5.2"
  }
 },
 "nbformat": 4,
 "nbformat_minor": 2
}
