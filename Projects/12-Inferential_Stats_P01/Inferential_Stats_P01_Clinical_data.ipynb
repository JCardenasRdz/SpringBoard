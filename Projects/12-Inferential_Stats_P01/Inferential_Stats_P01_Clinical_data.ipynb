{
 "cells": [
  {
   "cell_type": "markdown",
   "metadata": {},
   "source": [
    "# Inferential Stats Clinical Outcomes"
   ]
  },
  {
   "cell_type": "markdown",
   "metadata": {},
   "source": [
    "The data has already been cleaned and saved in ``ISPY_clinical_clean.csv``. The code to obtain this CSV file is [here](https://github.com/JCardenasRdz/SpringBoard/tree/master/Projects/19-Captsone_01). Once the data has been cleaned, we needed to further process the data calculate continfency tables and perform chi-square analysis."
   ]
  },
  {
   "cell_type": "markdown",
   "metadata": {},
   "source": [
    "### 1. Load all code needed to perform chi-square analsysi"
   ]
  },
  {
   "cell_type": "code",
   "execution_count": 11,
   "metadata": {
    "collapsed": false
   },
   "outputs": [],
   "source": [
    "%run Inferential_Stats_P01.py"
   ]
  },
  {
   "cell_type": "markdown",
   "metadata": {},
   "source": [
    "The code above loaded several functions I wrote to perform this analysis. See ``Inferential_Stats_P01.py`` for more details."
   ]
  },
  {
   "cell_type": "markdown",
   "metadata": {},
   "source": [
    "### 2. Perform chi-square for each variable on complete pathological response (PCR)"
   ]
  },
  {
   "cell_type": "code",
   "execution_count": 2,
   "metadata": {
    "collapsed": false
   },
   "outputs": [
    {
     "name": "stdout",
     "output_type": "stream",
     "text": [
      "Reminder: The null hypothesis for chi-square tes is that NO association exists between the two variables.\n",
      "PCR\n",
      "\n",
      "----------effect of ER+ on PCR----------\n",
      "PCR  No  Yes\n",
      "ER+         \n",
      "No   42   28\n",
      "Yes  81   17\n",
      "The p-value for the effect of ER+ on PCR is:0.0019875744789215146\n",
      "The odds ratio for the effect of ER+ on PCR is:0.3148148148148148\n",
      "\n",
      "\n",
      "----------effect of PR+ on PCR----------\n",
      "PCR  No  Yes\n",
      "PR+         \n",
      "No   54   35\n",
      "Yes  69   10\n",
      "The p-value for the effect of PR+ on PCR is:0.00019827931182659966\n",
      "The odds ratio for the effect of PR+ on PCR is:0.2236024844720497\n",
      "\n",
      "\n",
      "----------effect of HR+ on PCR----------\n",
      "PCR  No  Yes\n",
      "HR+         \n",
      "No   37   28\n",
      "Yes  86   17\n",
      "The p-value for the effect of HR+ on PCR is:0.0003073465504258583\n",
      "The odds ratio for the effect of HR+ on PCR is:0.2612126245847176\n",
      "\n",
      "\n",
      "----------effect of Bilateral on PCR----------\n",
      "PCR         No  Yes\n",
      "Bilateral          \n",
      "No         120   45\n",
      "Yes          3    0\n",
      "The p-value for the effect of Bilateral on PCR is:0.6896287479027994\n",
      "The odds ratio for the effect of Bilateral on PCR is:0.0\n",
      "\n",
      "\n",
      "----------effect of Laterality on PCR----------\n",
      "PCR         No  Yes\n",
      "Laterality         \n",
      "Left        64   22\n",
      "Right       59   23\n",
      "The p-value for the effect of Laterality on PCR is:0.8518830910987031\n",
      "The odds ratio for the effect of Laterality on PCR is:1.1340523882896765\n",
      "\n"
     ]
    }
   ],
   "source": [
    "my_chi2('PCR')"
   ]
  },
  {
   "cell_type": "markdown",
   "metadata": {},
   "source": [
    "These results indicate that receptors status (ER,PR, HR) has an effect on **PCR**. On the other hand it does not matter if cancer was diagnosed on both breasts (Bilateral) or in which breast it was diagnosed"
   ]
  },
  {
   "cell_type": "markdown",
   "metadata": {},
   "source": [
    "### 3. Perform chi-square for each variable on Survival Status"
   ]
  },
  {
   "cell_type": "code",
   "execution_count": 3,
   "metadata": {
    "collapsed": false
   },
   "outputs": [
    {
     "name": "stdout",
     "output_type": "stream",
     "text": [
      "Reminder: The null hypothesis for chi-square tes is that NO association exists between the two variables.\n",
      "Survival\n",
      "\n",
      "----------effect of ER+ on Survival----------\n",
      "Survival  Alive  Dead\n",
      "ER+                  \n",
      "No           48    22\n",
      "Yes          88    10\n",
      "The p-value for the effect of ER+ on Survival is:0.0011353830180947703\n",
      "The odds ratio for the effect of ER+ on Survival is:0.24793388429752067\n",
      "\n",
      "\n",
      "----------effect of PR+ on Survival----------\n",
      "Survival  Alive  Dead\n",
      "PR+                  \n",
      "No           68    21\n",
      "Yes          68    11\n",
      "The p-value for the effect of PR+ on Survival is:0.16255723790038556\n",
      "The odds ratio for the effect of PR+ on Survival is:0.5238095238095238\n",
      "\n",
      "\n",
      "----------effect of HR+ on Survival----------\n",
      "Survival  Alive  Dead\n",
      "HR+                  \n",
      "No           47    18\n",
      "Yes          89    14\n",
      "The p-value for the effect of HR+ on Survival is:0.038917016048194704\n",
      "The odds ratio for the effect of HR+ on Survival is:0.4107365792759051\n",
      "\n",
      "\n",
      "----------effect of Bilateral on Survival----------\n",
      "Survival   Alive  Dead\n",
      "Bilateral             \n",
      "No           133    32\n",
      "Yes            3     0\n",
      "The p-value for the effect of Bilateral on Survival is:0.915605010539148\n",
      "The odds ratio for the effect of Bilateral on Survival is:0.0\n",
      "\n",
      "\n",
      "----------effect of Laterality on Survival----------\n",
      "Survival    Alive  Dead\n",
      "Laterality             \n",
      "Left           71    15\n",
      "Right          65    17\n",
      "The p-value for the effect of Laterality on Survival is:0.7291392764451317\n",
      "The odds ratio for the effect of Laterality on Survival is:1.2379487179487179\n",
      "\n"
     ]
    }
   ],
   "source": [
    "my_chi2('Survival')"
   ]
  },
  {
   "cell_type": "markdown",
   "metadata": {},
   "source": [
    "These results indicate that: \n",
    "1. ER status has an effect on survival.\n",
    "2. PR and HR do not have an effect on the observed survival. \n",
    "3. The survival is not affected by the breast on which the cancer appeared, and if it was diagnosed on both breasts."
   ]
  },
  {
   "cell_type": "markdown",
   "metadata": {},
   "source": [
    "## Perform analysis on the effect of the continous predictors age and tumor size (largest dimensions)\n",
    "The analysis different because now we have a continous predictor and a categorical outcome. Thus ANOVA or its non-parametric equivalent are teh best choice."
   ]
  },
  {
   "cell_type": "markdown",
   "metadata": {},
   "source": [
    "### 4.  ANOVA for Age vs PCR"
   ]
  },
  {
   "cell_type": "code",
   "execution_count": 4,
   "metadata": {
    "collapsed": false
   },
   "outputs": [
    {
     "name": "stdout",
     "output_type": "stream",
     "text": [
      "ANOVA for age on PCR\n",
      "The p-value for the effect of  age on PCR is:0.2553937150251281\n",
      "----------------------------------------\n",
      "ANOVA for age on Survival\n",
      "The p-value for the effect of  age on Survival is:0.5281042473147965\n",
      "----------------------------------------\n"
     ]
    },
    {
     "data": {
      "image/png": "[encoded data removed]",
      "text/plain": [
       "<matplotlib.figure.Figure at 0x112b52e48>"
      ]
     },
     "metadata": {},
     "output_type": "display_data"
    }
   ],
   "source": [
    "%matplotlib inline\n",
    "fig_01('age','Survival', 'PCR')\n",
    "anova_('age')"
   ]
  },
  {
   "cell_type": "code",
   "execution_count": 5,
   "metadata": {
    "collapsed": false
   },
   "outputs": [
    {
     "name": "stdout",
     "output_type": "stream",
     "text": [
      "ANOVA for MRI_LD_Baseline on PCR\n",
      "The p-value for the effect of  MRI_LD_Baseline on PCR is:0.2331290062614095\n",
      "----------------------------------------\n",
      "ANOVA for MRI_LD_Baseline on Survival\n",
      "The p-value for the effect of  MRI_LD_Baseline on Survival is:0.03785389614805569\n",
      "----------------------------------------\n"
     ]
    },
    {
     "data": {
      "image/png": "[encoded data removed]",
      "text/plain": [
       "<matplotlib.figure.Figure at 0x112bf83c8>"
      ]
     },
     "metadata": {},
     "output_type": "display_data"
    }
   ],
   "source": [
    "fig_01('MRI_LD_Baseline','Survival', None)\n",
    "anova_('MRI_LD_Baseline')"
   ]
  },
  {
   "cell_type": "code",
   "execution_count": 6,
   "metadata": {
    "collapsed": false
   },
   "outputs": [
    {
     "data": {
      "image/png": "[encoded data removed]",
      "text/plain": [
       "<matplotlib.figure.Figure at 0x11300a5c0>"
      ]
     },
     "metadata": {},
     "output_type": "display_data"
    }
   ],
   "source": [
    "fig_01('MRI_LD_Baseline','Survival', 'PCR')"
   ]
  },
  {
   "cell_type": "markdown",
   "metadata": {},
   "source": [
    "### Tumor largest dimension 1-3 days after therapy initiation"
   ]
  },
  {
   "cell_type": "code",
   "execution_count": 7,
   "metadata": {
    "collapsed": false
   },
   "outputs": [
    {
     "name": "stdout",
     "output_type": "stream",
     "text": [
      "ANOVA for MRI_LD_3days_after_chemo on PCR\n",
      "The p-value for the effect of  MRI_LD_3days_after_chemo on PCR is:0.04916340953179501\n",
      "----------------------------------------\n",
      "ANOVA for MRI_LD_3days_after_chemo on Survival\n",
      "The p-value for the effect of  MRI_LD_3days_after_chemo on Survival is:0.040934229269205154\n",
      "----------------------------------------\n"
     ]
    },
    {
     "data": {
      "image/png": "[encoded data removed]",
      "text/plain": [
       "<matplotlib.figure.Figure at 0x11300e0b8>"
      ]
     },
     "metadata": {},
     "output_type": "display_data"
    }
   ],
   "source": [
    "fig_01('MRI_LD_3days_after_chemo','Survival', 'PCR')\n",
    "anova_('MRI_LD_3days_after_chemo')"
   ]
  },
  {
   "cell_type": "markdown",
   "metadata": {},
   "source": [
    "### Tumor largest dimension inter chemotherapy regime"
   ]
  },
  {
   "cell_type": "code",
   "execution_count": 8,
   "metadata": {
    "collapsed": false
   },
   "outputs": [
    {
     "name": "stdout",
     "output_type": "stream",
     "text": [
      "ANOVA for MRI_LD_Int_Reg on PCR\n",
      "The p-value for the effect of  MRI_LD_Int_Reg on PCR is:0.0012664367073059886\n",
      "----------------------------------------\n",
      "ANOVA for MRI_LD_Int_Reg on Survival\n",
      "The p-value for the effect of  MRI_LD_Int_Reg on Survival is:0.00010064422882385587\n",
      "----------------------------------------\n"
     ]
    },
    {
     "data": {
      "image/png": "[encoded data removed]",
      "text/plain": [
       "<matplotlib.figure.Figure at 0x11336be10>"
      ]
     },
     "metadata": {},
     "output_type": "display_data"
    }
   ],
   "source": [
    "fig_01('MRI_LD_Int_Reg','Survival', 'PCR')\n",
    "anova_('MRI_LD_Int_Reg')"
   ]
  },
  {
   "cell_type": "markdown",
   "metadata": {},
   "source": [
    "## Interpretation.\n",
    "1. LD at baseline is associated with complete pathological response but not survival\n",
    "2. Age is NOT a predictor of survival or PCR\n",
    "3. LD after 3 days of therapy is associate with PCR and survival\n",
    "4. The tumor LD intertherapy is a great predictor of PCR and survival "
   ]
  },
  {
   "cell_type": "code",
   "execution_count": null,
   "metadata": {
    "collapsed": true
   },
   "outputs": [],
   "source": []
  }
 ],
 "metadata": {
  "anaconda-cloud": {},
  "kernelspec": {
   "display_name": "Python [conda root]",
   "language": "python",
   "name": "conda-root-py"
  },
  "language_info": {
   "codemirror_mode": {
    "name": "ipython",
    "version": 3
   },
   "file_extension": ".py",
   "mimetype": "text/x-python",
   "name": "python",
   "nbconvert_exporter": "python",
   "pygments_lexer": "ipython3",
   "version": "3.5.2"
  }
 },
 "nbformat": 4,
 "nbformat_minor": 2
}
